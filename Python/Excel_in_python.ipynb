{
 "cells": [
  {
   "cell_type": "markdown",
   "metadata": {},
   "source": [
    "Styling Excel Files in Python\n",
    "\n",
    "Introduction\n",
    "In the realm of data analysis, reports often take the form of Excel files. Presenting your insights in an aesthetically pleasing and comprehensible manner can significantly elevate the impact of your findings. In this blog post, we’ll explore how to leverage the capabilities of the openpyxl library in Python to not just save your DataFrame to an Excel file but to transform it into a visually appealing and well-organized masterpiece.\n",
    "\n",
    "Data\n",
    "The dummy data utilized throughout this blog post is shown below:"
   ]
  },
  {
   "cell_type": "code",
   "execution_count": 1,
   "metadata": {},
   "outputs": [],
   "source": [
    "import pandas as pd\n",
    "from openpyxl.styles import PatternFill, NamedStyle, Alignment, Font, Border, Side\n",
    "from openpyxl.utils.cell import get_column_letter"
   ]
  },
  {
   "cell_type": "code",
   "execution_count": 2,
   "metadata": {},
   "outputs": [],
   "source": [
    "dummy_data = [\n",
    "    {\"Date\": \"2023-01-01\", \"Region\": \"North\", \"Product\": \"A\", \"Units Sold\": 1000, \"Revenue\": 10000},\n",
    "    {\"Date\": \"2023-01-01\", \"Region\": \"South\", \"Product\": \"B\", \"Units Sold\": 1500, \"Revenue\": 25000},\n",
    "    {\"Date\": \"2023-01-02\", \"Region\": \"East\", \"Product\": \"C\", \"Units Sold\": 800, \"Revenue\": 12000},\n",
    "    {\"Date\": \"2023-01-02\", \"Region\": \"West\", \"Product\": \"A\", \"Units Sold\": 1200, \"Revenue\": 15000},\n",
    "    {\"Date\": \"2023-01-03\", \"Region\": \"North\", \"Product\": \"B\", \"Units Sold\": 900, \"Revenue\": 18000},\n",
    "    {\"Date\": \"2023-01-03\", \"Region\": \"South\", \"Product\": \"C\", \"Units Sold\": 1100, \"Revenue\": 13000},\n",
    "    {\"Date\": \"2023-01-04\", \"Region\": \"East\", \"Product\": \"A\", \"Units Sold\": 1300, \"Revenue\": 20000},\n",
    "    {\"Date\": \"2023-01-04\", \"Region\": \"West\", \"Product\": \"B\", \"Units Sold\": 1000, \"Revenue\": 15000},\n",
    "    {\"Date\": \"2023-01-05\", \"Region\": \"North\", \"Product\": \"C\", \"Units Sold\": 700, \"Revenue\": 9000},\n",
    "    {\"Date\": \"2023-01-05\", \"Region\": \"South\", \"Product\": \"A\", \"Units Sold\": 1800, \"Revenue\": 28000}\n",
    "]\n",
    "# Calculate Variance\n",
    "for i in range(1, len(dummy_data)):\n",
    "    current_revenue = dummy_data[i][\"Revenue\"]\n",
    "    previous_revenue = dummy_data[i - 1][\"Revenue\"]\n",
    "    variance = current_revenue - previous_revenue\n",
    "    dummy_data[i][\"Variance\"] = variance\n",
    "# Create the dataframe\n",
    "df = pd.DataFrame.from_dict(dummy_data)\n",
    "# Remove null values\n",
    "df.fillna(0, inplace=True)"
   ]
  },
  {
   "cell_type": "markdown",
   "metadata": {},
   "source": [
    "Saving the Data Frame to Excel\n",
    "To save a Data Frame to Excel in Python, use ExcelWriter with the openpyxl engine and the to_excel method."
   ]
  },
  {
   "cell_type": "code",
   "execution_count": 3,
   "metadata": {},
   "outputs": [],
   "source": [
    "with pd.ExcelWriter(\"Style Excel.xlsx\", engine=\"openpyxl\") as writer:\n",
    "    df.to_excel(writer, sheet_name=\"Sample1\", index=False, freeze_panes=(2,0))"
   ]
  },
  {
   "cell_type": "markdown",
   "metadata": {},
   "source": [
    "Styling the Excel File\n",
    "Inserting rows and columns"
   ]
  },
  {
   "cell_type": "code",
   "execution_count": 4,
   "metadata": {},
   "outputs": [],
   "source": [
    "# Workbook\n",
    "workbook = writer.book\n",
    "# Worksheet\n",
    "worksheet = workbook[\"Sample1\"]\n",
    "\n",
    "# Insert a column and a row \n",
    "# Openpyxl is not zero indexed.\n",
    "worksheet.insert_cols(1)\n",
    "worksheet.insert_rows(1)\n",
    "\n",
    "# Minimize the size of row 1:\n",
    "worksheet.row_dimensions[1].height= 21.0"
   ]
  },
  {
   "cell_type": "code",
   "execution_count": null,
   "metadata": {},
   "outputs": [],
   "source": [
    "# If you wish to hide a row, you can use the code below\n",
    "\n",
    "worksheet.row_dimensions[1].hidden = True"
   ]
  },
  {
   "cell_type": "markdown",
   "metadata": {},
   "source": [
    "2. Autofitting Column Width\n",
    "\n",
    "Autofitting the column width ensures that your data is easy to read.\n",
    "\n",
    "To enable auto-fitting, iterate through each column, determine the length of values in each cell, and subsequently find the maximum value."
   ]
  },
  {
   "cell_type": "code",
   "execution_count": 7,
   "metadata": {},
   "outputs": [
    {
     "data": {
      "text/html": [
       "<div>\n",
       "<style scoped>\n",
       "    .dataframe tbody tr th:only-of-type {\n",
       "        vertical-align: middle;\n",
       "    }\n",
       "\n",
       "    .dataframe tbody tr th {\n",
       "        vertical-align: top;\n",
       "    }\n",
       "\n",
       "    .dataframe thead th {\n",
       "        text-align: right;\n",
       "    }\n",
       "</style>\n",
       "<table border=\"1\" class=\"dataframe\">\n",
       "  <thead>\n",
       "    <tr style=\"text-align: right;\">\n",
       "      <th></th>\n",
       "      <th>Date</th>\n",
       "      <th>Region</th>\n",
       "      <th>Product</th>\n",
       "      <th>Units Sold</th>\n",
       "      <th>Revenue</th>\n",
       "      <th>Variance</th>\n",
       "    </tr>\n",
       "  </thead>\n",
       "  <tbody>\n",
       "    <tr>\n",
       "      <th>0</th>\n",
       "      <td>2023-01-01</td>\n",
       "      <td>North</td>\n",
       "      <td>A</td>\n",
       "      <td>1000</td>\n",
       "      <td>10000</td>\n",
       "      <td>0.0</td>\n",
       "    </tr>\n",
       "    <tr>\n",
       "      <th>1</th>\n",
       "      <td>2023-01-01</td>\n",
       "      <td>South</td>\n",
       "      <td>B</td>\n",
       "      <td>1500</td>\n",
       "      <td>25000</td>\n",
       "      <td>15000.0</td>\n",
       "    </tr>\n",
       "    <tr>\n",
       "      <th>2</th>\n",
       "      <td>2023-01-02</td>\n",
       "      <td>East</td>\n",
       "      <td>C</td>\n",
       "      <td>800</td>\n",
       "      <td>12000</td>\n",
       "      <td>-13000.0</td>\n",
       "    </tr>\n",
       "    <tr>\n",
       "      <th>3</th>\n",
       "      <td>2023-01-02</td>\n",
       "      <td>West</td>\n",
       "      <td>A</td>\n",
       "      <td>1200</td>\n",
       "      <td>15000</td>\n",
       "      <td>3000.0</td>\n",
       "    </tr>\n",
       "    <tr>\n",
       "      <th>4</th>\n",
       "      <td>2023-01-03</td>\n",
       "      <td>North</td>\n",
       "      <td>B</td>\n",
       "      <td>900</td>\n",
       "      <td>18000</td>\n",
       "      <td>3000.0</td>\n",
       "    </tr>\n",
       "    <tr>\n",
       "      <th>5</th>\n",
       "      <td>2023-01-03</td>\n",
       "      <td>South</td>\n",
       "      <td>C</td>\n",
       "      <td>1100</td>\n",
       "      <td>13000</td>\n",
       "      <td>-5000.0</td>\n",
       "    </tr>\n",
       "    <tr>\n",
       "      <th>6</th>\n",
       "      <td>2023-01-04</td>\n",
       "      <td>East</td>\n",
       "      <td>A</td>\n",
       "      <td>1300</td>\n",
       "      <td>20000</td>\n",
       "      <td>7000.0</td>\n",
       "    </tr>\n",
       "    <tr>\n",
       "      <th>7</th>\n",
       "      <td>2023-01-04</td>\n",
       "      <td>West</td>\n",
       "      <td>B</td>\n",
       "      <td>1000</td>\n",
       "      <td>15000</td>\n",
       "      <td>-5000.0</td>\n",
       "    </tr>\n",
       "    <tr>\n",
       "      <th>8</th>\n",
       "      <td>2023-01-05</td>\n",
       "      <td>North</td>\n",
       "      <td>C</td>\n",
       "      <td>700</td>\n",
       "      <td>9000</td>\n",
       "      <td>-6000.0</td>\n",
       "    </tr>\n",
       "    <tr>\n",
       "      <th>9</th>\n",
       "      <td>2023-01-05</td>\n",
       "      <td>South</td>\n",
       "      <td>A</td>\n",
       "      <td>1800</td>\n",
       "      <td>28000</td>\n",
       "      <td>19000.0</td>\n",
       "    </tr>\n",
       "  </tbody>\n",
       "</table>\n",
       "</div>"
      ],
      "text/plain": [
       "         Date Region Product  Units Sold  Revenue  Variance\n",
       "0  2023-01-01  North       A        1000    10000       0.0\n",
       "1  2023-01-01  South       B        1500    25000   15000.0\n",
       "2  2023-01-02   East       C         800    12000  -13000.0\n",
       "3  2023-01-02   West       A        1200    15000    3000.0\n",
       "4  2023-01-03  North       B         900    18000    3000.0\n",
       "5  2023-01-03  South       C        1100    13000   -5000.0\n",
       "6  2023-01-04   East       A        1300    20000    7000.0\n",
       "7  2023-01-04   West       B        1000    15000   -5000.0\n",
       "8  2023-01-05  North       C         700     9000   -6000.0\n",
       "9  2023-01-05  South       A        1800    28000   19000.0"
      ]
     },
     "execution_count": 7,
     "metadata": {},
     "output_type": "execute_result"
    }
   ],
   "source": [
    "# AutoFit column width\n",
    "for column in worksheet.columns:\n",
    "    max_length = max(len(str(cell.value)) for cell in column)\n",
    "    adjusted_width = (max_length + 2) * 1.0\n",
    "    worksheet.column_dimensions[column[0].column_letter].width = adjusted_width\n",
    "\n",
    "# Adjust the size of column \"A\"\n",
    "worksheet.column_dimensions[\"A\"].width = 4.0\n",
    "\n",
    "df"
   ]
  },
  {
   "cell_type": "markdown",
   "metadata": {},
   "source": [
    "3. Adding Commas for Readability\n",
    "\n",
    "To enhance readability, commas are added to numeric values."
   ]
  },
  {
   "cell_type": "code",
   "execution_count": 9,
   "metadata": {},
   "outputs": [
    {
     "data": {
      "text/html": [
       "<div>\n",
       "<style scoped>\n",
       "    .dataframe tbody tr th:only-of-type {\n",
       "        vertical-align: middle;\n",
       "    }\n",
       "\n",
       "    .dataframe tbody tr th {\n",
       "        vertical-align: top;\n",
       "    }\n",
       "\n",
       "    .dataframe thead th {\n",
       "        text-align: right;\n",
       "    }\n",
       "</style>\n",
       "<table border=\"1\" class=\"dataframe\">\n",
       "  <thead>\n",
       "    <tr style=\"text-align: right;\">\n",
       "      <th></th>\n",
       "      <th>Date</th>\n",
       "      <th>Region</th>\n",
       "      <th>Product</th>\n",
       "      <th>Units Sold</th>\n",
       "      <th>Revenue</th>\n",
       "      <th>Variance</th>\n",
       "    </tr>\n",
       "  </thead>\n",
       "  <tbody>\n",
       "    <tr>\n",
       "      <th>0</th>\n",
       "      <td>2023-01-01</td>\n",
       "      <td>North</td>\n",
       "      <td>A</td>\n",
       "      <td>1000</td>\n",
       "      <td>10000</td>\n",
       "      <td>0.0</td>\n",
       "    </tr>\n",
       "    <tr>\n",
       "      <th>1</th>\n",
       "      <td>2023-01-01</td>\n",
       "      <td>South</td>\n",
       "      <td>B</td>\n",
       "      <td>1500</td>\n",
       "      <td>25000</td>\n",
       "      <td>15000.0</td>\n",
       "    </tr>\n",
       "    <tr>\n",
       "      <th>2</th>\n",
       "      <td>2023-01-02</td>\n",
       "      <td>East</td>\n",
       "      <td>C</td>\n",
       "      <td>800</td>\n",
       "      <td>12000</td>\n",
       "      <td>-13000.0</td>\n",
       "    </tr>\n",
       "    <tr>\n",
       "      <th>3</th>\n",
       "      <td>2023-01-02</td>\n",
       "      <td>West</td>\n",
       "      <td>A</td>\n",
       "      <td>1200</td>\n",
       "      <td>15000</td>\n",
       "      <td>3000.0</td>\n",
       "    </tr>\n",
       "    <tr>\n",
       "      <th>4</th>\n",
       "      <td>2023-01-03</td>\n",
       "      <td>North</td>\n",
       "      <td>B</td>\n",
       "      <td>900</td>\n",
       "      <td>18000</td>\n",
       "      <td>3000.0</td>\n",
       "    </tr>\n",
       "    <tr>\n",
       "      <th>5</th>\n",
       "      <td>2023-01-03</td>\n",
       "      <td>South</td>\n",
       "      <td>C</td>\n",
       "      <td>1100</td>\n",
       "      <td>13000</td>\n",
       "      <td>-5000.0</td>\n",
       "    </tr>\n",
       "    <tr>\n",
       "      <th>6</th>\n",
       "      <td>2023-01-04</td>\n",
       "      <td>East</td>\n",
       "      <td>A</td>\n",
       "      <td>1300</td>\n",
       "      <td>20000</td>\n",
       "      <td>7000.0</td>\n",
       "    </tr>\n",
       "    <tr>\n",
       "      <th>7</th>\n",
       "      <td>2023-01-04</td>\n",
       "      <td>West</td>\n",
       "      <td>B</td>\n",
       "      <td>1000</td>\n",
       "      <td>15000</td>\n",
       "      <td>-5000.0</td>\n",
       "    </tr>\n",
       "    <tr>\n",
       "      <th>8</th>\n",
       "      <td>2023-01-05</td>\n",
       "      <td>North</td>\n",
       "      <td>C</td>\n",
       "      <td>700</td>\n",
       "      <td>9000</td>\n",
       "      <td>-6000.0</td>\n",
       "    </tr>\n",
       "    <tr>\n",
       "      <th>9</th>\n",
       "      <td>2023-01-05</td>\n",
       "      <td>South</td>\n",
       "      <td>A</td>\n",
       "      <td>1800</td>\n",
       "      <td>28000</td>\n",
       "      <td>19000.0</td>\n",
       "    </tr>\n",
       "  </tbody>\n",
       "</table>\n",
       "</div>"
      ],
      "text/plain": [
       "         Date Region Product  Units Sold  Revenue  Variance\n",
       "0  2023-01-01  North       A        1000    10000       0.0\n",
       "1  2023-01-01  South       B        1500    25000   15000.0\n",
       "2  2023-01-02   East       C         800    12000  -13000.0\n",
       "3  2023-01-02   West       A        1200    15000    3000.0\n",
       "4  2023-01-03  North       B         900    18000    3000.0\n",
       "5  2023-01-03  South       C        1100    13000   -5000.0\n",
       "6  2023-01-04   East       A        1300    20000    7000.0\n",
       "7  2023-01-04   West       B        1000    15000   -5000.0\n",
       "8  2023-01-05  North       C         700     9000   -6000.0\n",
       "9  2023-01-05  South       A        1800    28000   19000.0"
      ]
     },
     "execution_count": 9,
     "metadata": {},
     "output_type": "execute_result"
    }
   ],
   "source": [
    "for row in worksheet.iter_rows(min_row=2, max_row=worksheet.max_row, min_col=2, max_col=worksheet.max_column):\n",
    "    for cell in row:\n",
    "        # Add the , to separate the numbers and make them readable\n",
    "        cell.number_format = \"#,##0\"\n",
    "        # Extra: Styling percentages\n",
    "        # cell.number_format = \"0.00%\"\n",
    "        cell.alignment = Alignment(horizontal=\"center\")\n",
    "\n",
    "df"
   ]
  },
  {
   "cell_type": "markdown",
   "metadata": {},
   "source": [
    "4. Adding borders"
   ]
  },
  {
   "cell_type": "code",
   "execution_count": 11,
   "metadata": {},
   "outputs": [],
   "source": [
    "# Iterate through rows and cells to apply styling\n",
    "for row in worksheet.iter_rows(min_row=2, max_row=worksheet.max_row, min_col=2, max_col=worksheet.max_column):\n",
    "    for cell in row:        \n",
    "        # Add borders to all cells for a neat appearance\n",
    "        cell.border = Border(left=Side(border_style=\"thin\"), \n",
    "                             right=Side(border_style=\"thin\"),\n",
    "                             top=Side(border_style=\"thin\"),\n",
    "                             bottom=Side(border_style=\"thin\"))\n",
    "# Add a thick outer border\n",
    "# 1. Add a thick outer border to the leftmost column\n",
    "for row in worksheet.iter_rows(min_row=2, max_row=worksheet.max_row, min_col=2, max_col=2):\n",
    "    for cell in row:\n",
    "        cell.border = Border(left=Side(border_style=\"medium\"), \n",
    "                              right=Side(border_style=\"thin\"),\n",
    "                              top=Side(border_style=\"thin\"),\n",
    "                              bottom=Side(border_style=\"thin\"))\n",
    "\n",
    "# 2. Add a thick outer border to the rightmost column\n",
    "for row in worksheet.iter_rows(min_row=2, max_row=worksheet.max_row, min_col=worksheet.max_column, max_col=worksheet.max_column):\n",
    "    for cell in row:\n",
    "        cell.border = Border(left=Side(border_style=\"thin\"), \n",
    "                              right=Side(border_style=\"medium\"),\n",
    "                              top=Side(border_style=\"thin\"),\n",
    "                              bottom=Side(border_style=\"thin\"))\n",
    "\n",
    "# 3. Add a thick outer border to the top row\n",
    "for row in worksheet.iter_rows(min_row=2, max_row=2, min_col=2, max_col=worksheet.max_column):\n",
    "    for cell in row:\n",
    "        cell.border = Border(left=Side(border_style=\"thin\"), \n",
    "                              right=Side(border_style=\"thin\"),\n",
    "                              top=Side(border_style=\"medium\"),\n",
    "                              bottom=Side(border_style=\"thin\"))\n",
    "\n",
    "# Add a thick outer border to the bottom row\n",
    "for row in worksheet.iter_rows(min_row=worksheet.max_row, max_row=worksheet.max_row, min_col=2, max_col=worksheet.max_column):\n",
    "    for cell in row:\n",
    "        cell.border = Border(left=Side(border_style=\"thin\"), \n",
    "                      right=Side(border_style=\"thin\"),\n",
    "                      top=Side(border_style=\"thin\"),\n",
    "                      bottom=Side(border_style=\"medium\"))\n",
    "\n",
    "# 4. Add a thick border to the top-left cell that was overwritten\n",
    "for row in worksheet.iter_rows(min_row=2, max_row=2, min_col=2, max_col=2):\n",
    "    for cell in row:\n",
    "        cell.border = Border(left=Side(border_style=\"medium\"), \n",
    "                              top=Side(border_style=\"medium\"))\n",
    "\n",
    "# Add a thick border to the bottom-left cell that was overwritten\n",
    "for row in worksheet.iter_rows(min_row=worksheet.max_row, max_row=worksheet.max_row, min_col=2, max_col=2):\n",
    "    for cell in row:\n",
    "        cell.border = Border(left=Side(border_style=\"medium\"), \n",
    "                              bottom=Side(border_style=\"medium\"))\n",
    "\n",
    "# 5. Add a thick border to the top-right cell that was overwritten\n",
    "for row in worksheet.iter_rows(min_row=2, max_row=2, min_col=worksheet.max_column, max_col=worksheet.max_column):\n",
    "    for cell in row:\n",
    "        cell.border = Border(right=Side(border_style=\"medium\"), \n",
    "                              top=Side(border_style=\"medium\"))\n",
    "\n",
    "# 6. Add a thick border to the bottom-right cell that was overwritten\n",
    "for row in worksheet.iter_rows(min_row=worksheet.max_row, max_row=worksheet.max_row, min_col=worksheet.max_column, max_col=worksheet.max_column):\n",
    "    for cell in row:\n",
    "        cell.border = Border(right=Side(border_style=\"medium\"), \n",
    "                              bottom=Side(border_style=\"medium\"))"
   ]
  },
  {
   "cell_type": "markdown",
   "metadata": {},
   "source": [
    "5. Styling Variances\n",
    "\n",
    "The code provides a method to colorize and adjust the font of the variance column, making negative values red and positive values green."
   ]
  },
  {
   "cell_type": "code",
   "execution_count": 14,
   "metadata": {},
   "outputs": [],
   "source": [
    "# Style variance coloumn\n",
    "for row in worksheet.iter_rows(min_row=3, max_row=worksheet.max_row, min_col=worksheet.max_column, max_col=worksheet.max_column):\n",
    "    for cell in row:\n",
    "        if cell.value < 0:\n",
    "            cell.font = Font(color=\"FF0000\", size=12, bold=True)\n",
    "        else:\n",
    "            cell.font = Font(color=\"00B050\", size=12, bold=True)\n",
    "\n",
    "        # Align all the cell values to the center\n",
    "        cell.alignment = Alignment(horizontal=\"center\")"
   ]
  },
  {
   "cell_type": "code",
   "execution_count": 15,
   "metadata": {},
   "outputs": [],
   "source": [
    "import pandas as pd\n",
    "from openpyxl import load_workbook\n",
    "from openpyxl.styles import Font, Alignment\n",
    "\n",
    "# Assuming df is already loaded\n",
    "# Save the DataFrame to an Excel file without formatting\n",
    "excel_path = 'Style_excel_formatted_dataframe.xlsx'\n",
    "df.to_excel(excel_path, index=False, startrow=2)\n",
    "\n",
    "# Load the workbook and select the active worksheet\n",
    "workbook = load_workbook(excel_path)\n",
    "worksheet = workbook.active\n",
    "\n",
    "# Iterate through the cells and apply formatting\n",
    "for row in worksheet.iter_rows(min_row=3, max_row=worksheet.max_row, min_col=1, max_col=worksheet.max_column):\n",
    "    for cell in row:\n",
    "        if cell.value is not None and isinstance(cell.value, (int, float)) and cell.value < 0:\n",
    "            cell.font = Font(color=\"FF0000\", size=12, bold=True)\n",
    "        else:\n",
    "            cell.font = Font(color=\"00B050\", size=12, bold=True)\n",
    "        cell.alignment = Alignment(horizontal=\"center\")\n",
    "\n",
    "# Save the workbook with formatting\n",
    "workbook.save(excel_path)"
   ]
  },
  {
   "cell_type": "markdown",
   "metadata": {},
   "source": [
    "6. Add Fill\n",
    "\n",
    "This code adds a solid color fill to the header row."
   ]
  },
  {
   "cell_type": "code",
   "execution_count": 16,
   "metadata": {},
   "outputs": [],
   "source": [
    "for row in worksheet.iter_rows(min_row=2, max_row=2, min_col=2, max_col=worksheet.max_column):\n",
    "    for cell in row:\n",
    "        cell.fill = PatternFill(fill_type=\"solid\", start_color=\"CC99FF\", end_color=\"CC99FF\")"
   ]
  },
  {
   "cell_type": "markdown",
   "metadata": {},
   "source": [
    "To customize the fill color of a specific column header, you can utilize the following code.\n",
    "\n",
    "In this code, the Variance column is filled with a distinct color."
   ]
  },
  {
   "cell_type": "code",
   "execution_count": 17,
   "metadata": {},
   "outputs": [],
   "source": [
    "# Make the fill color for column `Variance` different\n",
    "for row in worksheet.iter_rows(min_row=2, max_row=2, min_col=2, max_col=worksheet.max_column):\n",
    "    for cell in row:\n",
    "        if cell.value == \"Variance\":\n",
    "            cell.fill = PatternFill(fill_type=\"solid\", start_color=\"FFFF00\", end_color=\"FFFF00\")"
   ]
  },
  {
   "cell_type": "markdown",
   "metadata": {},
   "source": [
    "To highlight rows containing a specific value, you can fill those rows with a distinct color. In the following code snippet, we fill the rows where the ‘Region’ is ‘East’ with a unique color for better visibility"
   ]
  },
  {
   "cell_type": "code",
   "execution_count": 18,
   "metadata": {},
   "outputs": [],
   "source": [
    "# Distinguish rows where `Region` is `East`\n",
    "for row in worksheet.iter_rows(min_row=2, max_row=worksheet.max_row, min_col=3, max_col=3):\n",
    "    for cell in row:\n",
    "        if cell.value == \"East\":\n",
    "            for row in worksheet.iter_rows(min_row=row[0].row, max_row=row[0].row, min_col=2, max_col=worksheet.max_column):\n",
    "                for cell in row:\n",
    "                    cell.fill = PatternFill(fill_type=\"solid\", start_color=\"DAEEF3\", end_color=\"DAEEF3\")"
   ]
  },
  {
   "cell_type": "markdown",
   "metadata": {},
   "source": [
    "7. Tab color"
   ]
  },
  {
   "cell_type": "code",
   "execution_count": 19,
   "metadata": {},
   "outputs": [],
   "source": [
    "# Add a tab color to distinguish your sheet\n",
    "worksheet.sheet_properties.tabColor = \"002060\""
   ]
  },
  {
   "cell_type": "code",
   "execution_count": 21,
   "metadata": {},
   "outputs": [],
   "source": [
    "import pandas as pd\n",
    "from openpyxl import load_workbook\n",
    "from openpyxl.styles import Font, Alignment\n",
    "\n",
    "# Assuming df is already loaded\n",
    "# Save the DataFrame to an Excel file without formatting\n",
    "excel_path = 'style_excel_formatted_dataframe.xlsx'\n",
    "df.to_excel(excel_path, index=False, startrow=2)\n",
    "\n",
    "# Load the workbook and select the active worksheet\n",
    "workbook = load_workbook(excel_path)\n",
    "worksheet = workbook.active\n",
    "\n",
    "# Set the worksheet tab color\n",
    "worksheet.sheet_properties.tabColor = \"002060\"\n",
    "\n",
    "# Iterate through the cells and apply formatting\n",
    "for row in worksheet.iter_rows(min_row=3, max_row=worksheet.max_row, min_col=1, max_col=worksheet.max_column):\n",
    "    for cell in row:\n",
    "        if cell.value is not None and isinstance(cell.value, (int, float)) and cell.value < 0:\n",
    "            cell.font = Font(color=\"FF0000\", size=12, bold=True)\n",
    "        else:\n",
    "            cell.font = Font(color=\"00B050\", size=12, bold=True)\n",
    "        cell.alignment = Alignment(horizontal=\"center\")\n",
    "\n",
    "# Save the workbook with formatting and tab color\n",
    "workbook.save(excel_path)\n"
   ]
  },
  {
   "cell_type": "markdown",
   "metadata": {},
   "source": [
    "8. Add a title"
   ]
  },
  {
   "cell_type": "code",
   "execution_count": 20,
   "metadata": {},
   "outputs": [],
   "source": [
    "# Adding a captivating title to your sheet\n",
    "worksheet.cell(1, 1).value = \"STYLING EXCEL SHEETS\"\n",
    "worksheet.cell(1, 1).font = Font(bold=True, color=\"FF0000\", size=13)\n",
    "worksheet.cell(1, 1).alignment = Alignment(horizontal=\"left\")"
   ]
  },
  {
   "cell_type": "markdown",
   "metadata": {},
   "source": [
    "8. Merging, Unmerging, and Removing Styles\n",
    "\n",
    "Although we haven’t implemented these actions in our Excel sheet, you can utilize the following code to merge or unmerge cells, remove all styles from your sheet, and even perform additional operations like moving a specific range one row down."
   ]
  },
  {
   "cell_type": "code",
   "execution_count": null,
   "metadata": {},
   "outputs": [],
   "source": [
    "# If you had merged cells, you can unmerge them using this code\n",
    "for cells in list(worksheet.merged_cells):\n",
    "    worksheet.unmerge_cells(range_string=str(cells))\n",
    "\n",
    "# If you wish to merge cells, you can use the code below\n",
    "worksheet.merge_cells(start_row=2, end_row=2, start_column=3, end_column=5)\n",
    "\n",
    "# Remove the applied styles in your sheet\n",
    "for rows in worksheet.iter_rows(min_row=2, max_row=worksheet.max_row, min_col=2, max_col=worksheet.max_column):\n",
    "    for cell in rows:\n",
    "        cell.style = \"Normal\"  \n",
    "\n",
    "# Make sure you import this: \n",
    "# from openpyxl.utils.cell import get_column_letter\n",
    "\n",
    "# Move the range one row down\n",
    "last_column_letter = get_column_letter(worksheet.max_column)\n",
    "worksheet.move_range(f'B2:{last_column_letter}2', rows=1)"
   ]
  },
  {
   "cell_type": "markdown",
   "metadata": {},
   "source": [
    "In scenarios where one style might unintentionally overwrite another, preserving the previous style becomes crucial. This becomes even more relevant if you had previously styled your Data Frame using .styler and wish to retain those existing styles.\n",
    "\n",
    "The code snippet below shows how this can be done."
   ]
  },
  {
   "cell_type": "code",
   "execution_count": null,
   "metadata": {},
   "outputs": [],
   "source": [
    "# This color is stored before applying the `num_comma_style` because it will be overwritten by it\n",
    "existing_font_color = cell.font.color\n",
    "existing_font_weight = cell.font.bold\n",
    "existing_alignment = cell.alignment.horizontal \n",
    "\n",
    "# Add the comma to separate the numbers and enhance readability\n",
    "cell.style = num_comma_style\n",
    "\n",
    "# Reapply the font color and bold style\n",
    "cell.font = Font(color=existing_font_color, bold=existing_font_weight)"
   ]
  },
  {
   "cell_type": "markdown",
   "metadata": {},
   "source": [
    "Incorporating these styling techniques into your Excel files not only enhances visual appeal but also communicates your data with clarity and precision. Python, combined with the versatility of openpyxl, empowers you to go beyond data analysis and create compelling data stories.\n",
    "\n",
    "I hope you were able to pick up something from this blog post. If you have any questions you check out the full analysis in this juypter notebook or reach me through my LinkedIn."
   ]
  }
 ],
 "metadata": {
  "kernelspec": {
   "display_name": "base",
   "language": "python",
   "name": "python3"
  },
  "language_info": {
   "codemirror_mode": {
    "name": "ipython",
    "version": 3
   },
   "file_extension": ".py",
   "mimetype": "text/x-python",
   "name": "python",
   "nbconvert_exporter": "python",
   "pygments_lexer": "ipython3",
   "version": "3.11.8"
  }
 },
 "nbformat": 4,
 "nbformat_minor": 2
}
