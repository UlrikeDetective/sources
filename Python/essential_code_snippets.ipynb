{
 "cells": [
  {
   "cell_type": "code",
   "execution_count": 2,
   "metadata": {},
   "outputs": [],
   "source": [
    "import pandas as pd\n",
    "import numpy as np\n",
    "import matplotlib.pyplot as plt\n",
    "import seaborn as sns"
   ]
  },
  {
   "cell_type": "markdown",
   "metadata": {},
   "source": [
    "14 Essential Code Snippets for Python Data Analysis\n",
    "\n",
    "Section 1: Data Import and Exploration\n",
    "1.1 Importing Libraries\n",
    "\n",
    "1.2 Loading a Dataset"
   ]
  },
  {
   "cell_type": "code",
   "execution_count": 3,
   "metadata": {},
   "outputs": [],
   "source": [
    "df = pd.read_csv('your.csv')"
   ]
  },
  {
   "cell_type": "markdown",
   "metadata": {},
   "source": [
    "1.3 Quick Data Overview"
   ]
  },
  {
   "cell_type": "code",
   "execution_count": 4,
   "metadata": {},
   "outputs": [
    {
     "name": "stdout",
     "output_type": "stream",
     "text": [
      "<class 'pandas.core.frame.DataFrame'>\n",
      "RangeIndex: 7 entries, 0 to 6\n",
      "Data columns (total 7 columns):\n",
      " #   Column         Non-Null Count  Dtype  \n",
      "---  ------         --------------  -----  \n",
      " 0   Continent      6 non-null      object \n",
      " 1   2022_total     6 non-null      float64\n",
      " 2   2023_total     6 non-null      float64\n",
      " 3   2024_01_total  6 non-null      float64\n",
      " 4   2024_02_total  6 non-null      float64\n",
      " 5   2024_03_total  6 non-null      float64\n",
      " 6   2024_04_total  7 non-null      float64\n",
      "dtypes: float64(6), object(1)\n",
      "memory usage: 524.0+ bytes\n",
      "None\n",
      "        2022_total   2023_total  2024_01_total  2024_02_total  2024_03_total  \\\n",
      "count     6.000000     6.000000       6.000000       6.000000       6.000000   \n",
      "mean   2105.875000  2028.883333    2186.016667    2253.683333    2291.783333   \n",
      "std    2251.809352  2147.398685    2396.401136    2469.175112    2509.839363   \n",
      "min      84.600000    86.600000      90.600000      86.600000      91.100000   \n",
      "25%     210.325000   185.500000     212.725000     211.525000     213.900000   \n",
      "50%    1484.150000  1593.000000    1701.150000    1737.600000    1775.100000   \n",
      "75%    3881.137500  3572.750000    3426.125000    3591.275000    3640.575000   \n",
      "max    5116.500000  4951.700000    5905.500000    6048.300000    6153.500000   \n",
      "\n",
      "       2024_04_total  \n",
      "count       7.000000  \n",
      "mean     2016.528571  \n",
      "std      2498.093237  \n",
      "min         3.200000  \n",
      "25%       148.100000  \n",
      "50%       243.600000  \n",
      "75%      3681.350000  \n",
      "max      6210.000000  \n"
     ]
    }
   ],
   "source": [
    "print(df.info())\n",
    "print(df.describe())"
   ]
  },
  {
   "cell_type": "markdown",
   "metadata": {},
   "source": [
    "Section 2: Data Cleaning and Preprocessing\n",
    "2.1 Handling Missing Values"
   ]
  },
  {
   "cell_type": "code",
   "execution_count": 6,
   "metadata": {},
   "outputs": [
    {
     "data": {
      "text/html": [
       "<div>\n",
       "<style scoped>\n",
       "    .dataframe tbody tr th:only-of-type {\n",
       "        vertical-align: middle;\n",
       "    }\n",
       "\n",
       "    .dataframe tbody tr th {\n",
       "        vertical-align: top;\n",
       "    }\n",
       "\n",
       "    .dataframe thead th {\n",
       "        text-align: right;\n",
       "    }\n",
       "</style>\n",
       "<table border=\"1\" class=\"dataframe\">\n",
       "  <thead>\n",
       "    <tr style=\"text-align: right;\">\n",
       "      <th></th>\n",
       "      <th>Continent</th>\n",
       "      <th>2022_total</th>\n",
       "      <th>2023_total</th>\n",
       "      <th>2024_01_total</th>\n",
       "      <th>2024_02_total</th>\n",
       "      <th>2024_03_total</th>\n",
       "      <th>2024_04_total</th>\n",
       "    </tr>\n",
       "  </thead>\n",
       "  <tbody>\n",
       "    <tr>\n",
       "      <th>0</th>\n",
       "      <td>North America</td>\n",
       "      <td>5116.50</td>\n",
       "      <td>4951.7</td>\n",
       "      <td>5905.5</td>\n",
       "      <td>6048.3</td>\n",
       "      <td>6153.5</td>\n",
       "      <td>6210.0</td>\n",
       "    </tr>\n",
       "    <tr>\n",
       "      <th>1</th>\n",
       "      <td>Asia</td>\n",
       "      <td>4259.55</td>\n",
       "      <td>3764.3</td>\n",
       "      <td>3509.1</td>\n",
       "      <td>3706.3</td>\n",
       "      <td>3749.7</td>\n",
       "      <td>3934.9</td>\n",
       "    </tr>\n",
       "    <tr>\n",
       "      <th>2</th>\n",
       "      <td>Europe</td>\n",
       "      <td>2745.90</td>\n",
       "      <td>2998.1</td>\n",
       "      <td>3177.2</td>\n",
       "      <td>3246.2</td>\n",
       "      <td>3313.2</td>\n",
       "      <td>3427.8</td>\n",
       "    </tr>\n",
       "    <tr>\n",
       "      <th>3</th>\n",
       "      <td>South America</td>\n",
       "      <td>222.40</td>\n",
       "      <td>187.9</td>\n",
       "      <td>225.1</td>\n",
       "      <td>229.0</td>\n",
       "      <td>237.0</td>\n",
       "      <td>243.6</td>\n",
       "    </tr>\n",
       "    <tr>\n",
       "      <th>4</th>\n",
       "      <td>Australia</td>\n",
       "      <td>206.30</td>\n",
       "      <td>184.7</td>\n",
       "      <td>208.6</td>\n",
       "      <td>205.7</td>\n",
       "      <td>206.2</td>\n",
       "      <td>207.1</td>\n",
       "    </tr>\n",
       "    <tr>\n",
       "      <th>5</th>\n",
       "      <td>Africa</td>\n",
       "      <td>84.60</td>\n",
       "      <td>86.6</td>\n",
       "      <td>90.6</td>\n",
       "      <td>86.6</td>\n",
       "      <td>91.1</td>\n",
       "      <td>89.1</td>\n",
       "    </tr>\n",
       "  </tbody>\n",
       "</table>\n",
       "</div>"
      ],
      "text/plain": [
       "       Continent  2022_total  2023_total  2024_01_total  2024_02_total  \\\n",
       "0  North America     5116.50      4951.7         5905.5         6048.3   \n",
       "1           Asia     4259.55      3764.3         3509.1         3706.3   \n",
       "2         Europe     2745.90      2998.1         3177.2         3246.2   \n",
       "3  South America      222.40       187.9          225.1          229.0   \n",
       "4      Australia      206.30       184.7          208.6          205.7   \n",
       "5         Africa       84.60        86.6           90.6           86.6   \n",
       "\n",
       "   2024_03_total  2024_04_total  \n",
       "0         6153.5         6210.0  \n",
       "1         3749.7         3934.9  \n",
       "2         3313.2         3427.8  \n",
       "3          237.0          243.6  \n",
       "4          206.2          207.1  \n",
       "5           91.1           89.1  "
      ]
     },
     "execution_count": 6,
     "metadata": {},
     "output_type": "execute_result"
    }
   ],
   "source": [
    "df.dropna()  # Drop rows with missing values\n",
    "# df.fillna(value)  # Fill missing values with a specified value"
   ]
  },
  {
   "cell_type": "markdown",
   "metadata": {},
   "source": []
  },
  {
   "cell_type": "markdown",
   "metadata": {},
   "source": [
    "2.2 Removing Duplicates"
   ]
  },
  {
   "cell_type": "code",
   "execution_count": 7,
   "metadata": {},
   "outputs": [
    {
     "data": {
      "text/html": [
       "<div>\n",
       "<style scoped>\n",
       "    .dataframe tbody tr th:only-of-type {\n",
       "        vertical-align: middle;\n",
       "    }\n",
       "\n",
       "    .dataframe tbody tr th {\n",
       "        vertical-align: top;\n",
       "    }\n",
       "\n",
       "    .dataframe thead th {\n",
       "        text-align: right;\n",
       "    }\n",
       "</style>\n",
       "<table border=\"1\" class=\"dataframe\">\n",
       "  <thead>\n",
       "    <tr style=\"text-align: right;\">\n",
       "      <th></th>\n",
       "      <th>Continent</th>\n",
       "      <th>2022_total</th>\n",
       "      <th>2023_total</th>\n",
       "      <th>2024_01_total</th>\n",
       "      <th>2024_02_total</th>\n",
       "      <th>2024_03_total</th>\n",
       "      <th>2024_04_total</th>\n",
       "    </tr>\n",
       "  </thead>\n",
       "  <tbody>\n",
       "    <tr>\n",
       "      <th>0</th>\n",
       "      <td>North America</td>\n",
       "      <td>5116.50</td>\n",
       "      <td>4951.7</td>\n",
       "      <td>5905.5</td>\n",
       "      <td>6048.3</td>\n",
       "      <td>6153.5</td>\n",
       "      <td>6210.0</td>\n",
       "    </tr>\n",
       "    <tr>\n",
       "      <th>1</th>\n",
       "      <td>Asia</td>\n",
       "      <td>4259.55</td>\n",
       "      <td>3764.3</td>\n",
       "      <td>3509.1</td>\n",
       "      <td>3706.3</td>\n",
       "      <td>3749.7</td>\n",
       "      <td>3934.9</td>\n",
       "    </tr>\n",
       "    <tr>\n",
       "      <th>2</th>\n",
       "      <td>Europe</td>\n",
       "      <td>2745.90</td>\n",
       "      <td>2998.1</td>\n",
       "      <td>3177.2</td>\n",
       "      <td>3246.2</td>\n",
       "      <td>3313.2</td>\n",
       "      <td>3427.8</td>\n",
       "    </tr>\n",
       "    <tr>\n",
       "      <th>3</th>\n",
       "      <td>South America</td>\n",
       "      <td>222.40</td>\n",
       "      <td>187.9</td>\n",
       "      <td>225.1</td>\n",
       "      <td>229.0</td>\n",
       "      <td>237.0</td>\n",
       "      <td>243.6</td>\n",
       "    </tr>\n",
       "    <tr>\n",
       "      <th>4</th>\n",
       "      <td>Australia</td>\n",
       "      <td>206.30</td>\n",
       "      <td>184.7</td>\n",
       "      <td>208.6</td>\n",
       "      <td>205.7</td>\n",
       "      <td>206.2</td>\n",
       "      <td>207.1</td>\n",
       "    </tr>\n",
       "    <tr>\n",
       "      <th>5</th>\n",
       "      <td>Africa</td>\n",
       "      <td>84.60</td>\n",
       "      <td>86.6</td>\n",
       "      <td>90.6</td>\n",
       "      <td>86.6</td>\n",
       "      <td>91.1</td>\n",
       "      <td>89.1</td>\n",
       "    </tr>\n",
       "    <tr>\n",
       "      <th>6</th>\n",
       "      <td>NaN</td>\n",
       "      <td>NaN</td>\n",
       "      <td>NaN</td>\n",
       "      <td>NaN</td>\n",
       "      <td>NaN</td>\n",
       "      <td>NaN</td>\n",
       "      <td>3.2</td>\n",
       "    </tr>\n",
       "  </tbody>\n",
       "</table>\n",
       "</div>"
      ],
      "text/plain": [
       "       Continent  2022_total  2023_total  2024_01_total  2024_02_total  \\\n",
       "0  North America     5116.50      4951.7         5905.5         6048.3   \n",
       "1           Asia     4259.55      3764.3         3509.1         3706.3   \n",
       "2         Europe     2745.90      2998.1         3177.2         3246.2   \n",
       "3  South America      222.40       187.9          225.1          229.0   \n",
       "4      Australia      206.30       184.7          208.6          205.7   \n",
       "5         Africa       84.60        86.6           90.6           86.6   \n",
       "6            NaN         NaN         NaN            NaN            NaN   \n",
       "\n",
       "   2024_03_total  2024_04_total  \n",
       "0         6153.5         6210.0  \n",
       "1         3749.7         3934.9  \n",
       "2         3313.2         3427.8  \n",
       "3          237.0          243.6  \n",
       "4          206.2          207.1  \n",
       "5           91.1           89.1  \n",
       "6            NaN            3.2  "
      ]
     },
     "execution_count": 7,
     "metadata": {},
     "output_type": "execute_result"
    }
   ],
   "source": [
    "df.drop_duplicates()"
   ]
  },
  {
   "cell_type": "markdown",
   "metadata": {},
   "source": [
    "2.3 Changing Data Types"
   ]
  },
  {
   "cell_type": "code",
   "execution_count": null,
   "metadata": {},
   "outputs": [],
   "source": [
    "df['column'] = df['column'].astype('new_type')"
   ]
  },
  {
   "cell_type": "markdown",
   "metadata": {},
   "source": [
    "Section 3: Data Manipulation\n",
    "3.1 Filtering Data"
   ]
  },
  {
   "cell_type": "code",
   "execution_count": 11,
   "metadata": {},
   "outputs": [],
   "source": [
    "# filtered_data = df[df['column'] > threshold]"
   ]
  },
  {
   "cell_type": "markdown",
   "metadata": {},
   "source": [
    "3.2 Grouping and Aggregating"
   ]
  },
  {
   "cell_type": "code",
   "execution_count": null,
   "metadata": {},
   "outputs": [],
   "source": [
    "grouped_data = df.groupby('column').agg({'numeric_column': 'mean'})"
   ]
  },
  {
   "cell_type": "markdown",
   "metadata": {},
   "source": [
    "3.3 Merging DataFrames"
   ]
  },
  {
   "cell_type": "code",
   "execution_count": null,
   "metadata": {},
   "outputs": [],
   "source": [
    "merged_df = pd.merge(df1, df2, on='common_column', how='inner')"
   ]
  },
  {
   "cell_type": "markdown",
   "metadata": {},
   "source": [
    "Section 4: Data Visualization\n",
    "4.1 Line Plot"
   ]
  },
  {
   "cell_type": "code",
   "execution_count": 13,
   "metadata": {},
   "outputs": [
    {
     "data": {
      "image/png": "[encoded data removed]",
      "text/plain": [
       "<Figure size 640x480 with 1 Axes>"
      ]
     },
     "metadata": {},
     "output_type": "display_data"
    }
   ],
   "source": [
    "plt.plot(df['2023_total'], df['2022_total'])\n",
    "plt.show()"
   ]
  },
  {
   "cell_type": "markdown",
   "metadata": {},
   "source": [
    "4.2 Histogram"
   ]
  },
  {
   "cell_type": "code",
   "execution_count": 14,
   "metadata": {},
   "outputs": [
    {
     "data": {
      "image/png": "[encoded data removed]",
      "text/plain": [
       "<Figure size 640x480 with 1 Axes>"
      ]
     },
     "metadata": {},
     "output_type": "display_data"
    }
   ],
   "source": [
    "plt.hist(df['2022_total'], bins=10)\n",
    "plt.show()"
   ]
  },
  {
   "cell_type": "markdown",
   "metadata": {},
   "source": [
    "4.3 Scatter Plot"
   ]
  },
  {
   "cell_type": "code",
   "execution_count": 15,
   "metadata": {},
   "outputs": [
    {
     "data": {
      "image/png": "[encoded data removed]",
      "text/plain": [
       "<Figure size 640x480 with 1 Axes>"
      ]
     },
     "metadata": {},
     "output_type": "display_data"
    }
   ],
   "source": [
    "sns.scatterplot(x='2022_total', y='2023_total', data=df)\n",
    "plt.show()"
   ]
  },
  {
   "cell_type": "markdown",
   "metadata": {},
   "source": [
    "Section 5: Statistical Analysis\n",
    "5.1 Pearson Correlation"
   ]
  },
  {
   "cell_type": "code",
   "execution_count": 16,
   "metadata": {},
   "outputs": [],
   "source": [
    "correlation = df['2022_total'].corr(df['2023_total'])"
   ]
  },
  {
   "cell_type": "markdown",
   "metadata": {},
   "source": [
    "5.2 t-Test"
   ]
  },
  {
   "cell_type": "code",
   "execution_count": null,
   "metadata": {},
   "outputs": [],
   "source": [
    "from scipy.stats import ttest_ind\n",
    "result = ttest_ind(group1, group2)"
   ]
  },
  {
   "cell_type": "markdown",
   "metadata": {},
   "source": [
    "Conclusion:\n",
    "These 14 Python code snippets serve as a versatile toolkit for data scientists engaged in data analysis. Whether you’re cleaning messy datasets, exploring data distributions, or creating insightful visualizations, having these snippets at your fingertips can save you time and effort. Feel free to customize and expand upon these snippets to suit the specific needs of your data analysis projects."
   ]
  }
 ],
 "metadata": {
  "kernelspec": {
   "display_name": "base",
   "language": "python",
   "name": "python3"
  },
  "language_info": {
   "codemirror_mode": {
    "name": "ipython",
    "version": 3
   },
   "file_extension": ".py",
   "mimetype": "text/x-python",
   "name": "python",
   "nbconvert_exporter": "python",
   "pygments_lexer": "ipython3",
   "version": "3.11.8"
  }
 },
 "nbformat": 4,
 "nbformat_minor": 2
}
