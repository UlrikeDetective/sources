{
 "cells": [
  {
   "cell_type": "code",
   "execution_count": 4,
   "metadata": {},
   "outputs": [
    {
     "data": {
      "text/html": [
       "<div>\n",
       "<style scoped>\n",
       "    .dataframe tbody tr th:only-of-type {\n",
       "        vertical-align: middle;\n",
       "    }\n",
       "\n",
       "    .dataframe tbody tr th {\n",
       "        vertical-align: top;\n",
       "    }\n",
       "\n",
       "    .dataframe thead th {\n",
       "        text-align: right;\n",
       "    }\n",
       "</style>\n",
       "<table border=\"1\" class=\"dataframe\">\n",
       "  <thead>\n",
       "    <tr style=\"text-align: right;\">\n",
       "      <th></th>\n",
       "      <th>year</th>\n",
       "      <th>quarter</th>\n",
       "      <th>market</th>\n",
       "      <th>dur_stay</th>\n",
       "      <th>mode</th>\n",
       "      <th>purpose</th>\n",
       "      <th>area</th>\n",
       "      <th>Visits (000s)</th>\n",
       "      <th>Spend_£m</th>\n",
       "      <th>Nights</th>\n",
       "      <th>sample</th>\n",
       "    </tr>\n",
       "  </thead>\n",
       "  <tbody>\n",
       "    <tr>\n",
       "      <th>0</th>\n",
       "      <td>2002</td>\n",
       "      <td>January-March</td>\n",
       "      <td>Belgium</td>\n",
       "      <td>1-3  nights</td>\n",
       "      <td>Air</td>\n",
       "      <td>Holiday</td>\n",
       "      <td>LONDON</td>\n",
       "      <td>3.572186</td>\n",
       "      <td>0.969138</td>\n",
       "      <td>6.954456</td>\n",
       "      <td>5</td>\n",
       "    </tr>\n",
       "    <tr>\n",
       "      <th>1</th>\n",
       "      <td>2002</td>\n",
       "      <td>January-March</td>\n",
       "      <td>Belgium</td>\n",
       "      <td>1-3  nights</td>\n",
       "      <td>Air</td>\n",
       "      <td>Business</td>\n",
       "      <td>LONDON</td>\n",
       "      <td>9.284226</td>\n",
       "      <td>2.399577</td>\n",
       "      <td>12.604959</td>\n",
       "      <td>19</td>\n",
       "    </tr>\n",
       "    <tr>\n",
       "      <th>2</th>\n",
       "      <td>2002</td>\n",
       "      <td>January-March</td>\n",
       "      <td>Belgium</td>\n",
       "      <td>1-3  nights</td>\n",
       "      <td>Air</td>\n",
       "      <td>VFR</td>\n",
       "      <td>LONDON</td>\n",
       "      <td>0.877182</td>\n",
       "      <td>0.089833</td>\n",
       "      <td>2.153128</td>\n",
       "      <td>3</td>\n",
       "    </tr>\n",
       "    <tr>\n",
       "      <th>3</th>\n",
       "      <td>2002</td>\n",
       "      <td>January-March</td>\n",
       "      <td>Belgium</td>\n",
       "      <td>1-3  nights</td>\n",
       "      <td>Air</td>\n",
       "      <td>Miscellaneous</td>\n",
       "      <td>LONDON</td>\n",
       "      <td>0.163874</td>\n",
       "      <td>0.010160</td>\n",
       "      <td>0.163874</td>\n",
       "      <td>1</td>\n",
       "    </tr>\n",
       "    <tr>\n",
       "      <th>4</th>\n",
       "      <td>2002</td>\n",
       "      <td>January-March</td>\n",
       "      <td>Belgium</td>\n",
       "      <td>1-3  nights</td>\n",
       "      <td>Sea</td>\n",
       "      <td>Business</td>\n",
       "      <td>LONDON</td>\n",
       "      <td>1.648670</td>\n",
       "      <td>0.016789</td>\n",
       "      <td>1.650300</td>\n",
       "      <td>1</td>\n",
       "    </tr>\n",
       "  </tbody>\n",
       "</table>\n",
       "</div>"
      ],
      "text/plain": [
       "   year        quarter   market     dur_stay mode        purpose     area  \\\n",
       "0  2002  January-March  Belgium  1-3  nights  Air        Holiday   LONDON   \n",
       "1  2002  January-March  Belgium  1-3  nights  Air       Business   LONDON   \n",
       "2  2002  January-March  Belgium  1-3  nights  Air            VFR   LONDON   \n",
       "3  2002  January-March  Belgium  1-3  nights  Air  Miscellaneous   LONDON   \n",
       "4  2002  January-March  Belgium  1-3  nights  Sea       Business   LONDON   \n",
       "\n",
       "   Visits (000s)  Spend_£m     Nights  sample  \n",
       "0       3.572186  0.969138   6.954456       5  \n",
       "1       9.284226  2.399577  12.604959      19  \n",
       "2       0.877182  0.089833   2.153128       3  \n",
       "3       0.163874  0.010160   0.163874       1  \n",
       "4       1.648670  0.016789   1.650300       1  "
      ]
     },
     "metadata": {},
     "output_type": "display_data"
    },
    {
     "name": "stdout",
     "output_type": "stream",
     "text": [
      "<class 'pandas.core.frame.DataFrame'>\n",
      "RangeIndex: 61462 entries, 0 to 61461\n",
      "Data columns (total 11 columns):\n",
      " #   Column         Non-Null Count  Dtype  \n",
      "---  ------         --------------  -----  \n",
      " 0   year           61462 non-null  object \n",
      " 1   quarter        61462 non-null  object \n",
      " 2   market         61462 non-null  object \n",
      " 3   dur_stay       61462 non-null  object \n",
      " 4   mode           61462 non-null  object \n",
      " 5   purpose        61462 non-null  object \n",
      " 6   area           61462 non-null  object \n",
      " 7   Visits (000s)  61462 non-null  float64\n",
      " 8   Spend_£m       61462 non-null  float64\n",
      " 9   Nights         61462 non-null  float64\n",
      " 10  sample         61462 non-null  int64  \n",
      "dtypes: float64(3), int64(1), object(7)\n",
      "memory usage: 5.2+ MB\n"
     ]
    },
    {
     "data": {
      "text/plain": [
       "None"
      ]
     },
     "metadata": {},
     "output_type": "display_data"
    }
   ],
   "source": [
    "import pandas as pd\n",
    "\n",
    "# Read the CSV file with semicolon as the delimiter\n",
    "df = pd.read_csv(\"/international-visitors-london.csv\", sep=';')\n",
    "\n",
    "# Display the first few rows to verify that the file is read correctly\n",
    "display(df.head())\n",
    "display(df.info(verbose=True))"
   ]
  },
  {
   "cell_type": "markdown",
   "metadata": {},
   "source": [
    "As a next step, let’s figure out what kind of categories we have:"
   ]
  },
  {
   "cell_type": "code",
   "execution_count": 5,
   "metadata": {},
   "outputs": [
    {
     "name": "stdout",
     "output_type": "stream",
     "text": [
      "['Belgium' 'Luxembourg' 'France' 'Germany' 'Italy' 'Netherlands' 'Denmark'\n",
      " 'Greece' 'Spain' 'Portugal' 'Austria' 'Sweden' 'Finland' 'Irish Republic'\n",
      " 'Turkey' 'Switzerland' 'Norway' 'Iceland' 'Czech Republic' 'Poland'\n",
      " 'Hungary' 'Russia' 'Other Western Europe' 'Other Eastern Europe' 'USA'\n",
      " 'Canada' 'Mexico' 'Brazil' 'Argentina' 'Other Central & South America'\n",
      " 'Hong Kong' 'Malaysia' 'Thailand' 'Singapore' 'Taiwan' 'China'\n",
      " 'Other Asia' 'Japan' 'South Korea' 'Australia' 'New Zealand'\n",
      " 'United Arab Emirates' 'Saudi Arabia' 'Kuwait' 'Other Middle East'\n",
      " 'Egypt' 'Israel' 'India' 'Pakistan' 'South Africa'\n",
      " 'Other Southern Africa' 'Nigeria' 'Kenya' 'Other Africa' 'Bulgaria'\n",
      " 'Romania' 'Serbia' 'Chile' 'Indonesia' 'Bahrain' 'Oman' 'Qatar']\n",
      "['Belgium' 'Luxembourg' 'France' 'Germany' 'Italy' 'Netherlands' 'Denmark'\n",
      " 'Greece' 'Spain' 'Portugal' 'Austria' 'Sweden' 'Finland' 'Irish Republic'\n",
      " 'Turkey' 'Switzerland' 'Norway' 'Iceland' 'Czech Republic' 'Poland'\n",
      " 'Hungary' 'Russia' 'Other Western Europe' 'Other Eastern Europe' 'USA'\n",
      " 'Canada' 'Mexico' 'Brazil' 'Argentina' 'Other Central & South America'\n",
      " 'Hong Kong' 'Malaysia' 'Thailand' 'Singapore' 'Taiwan' 'China'\n",
      " 'Other Asia' 'Japan' 'South Korea' 'Australia' 'New Zealand'\n",
      " 'United Arab Emirates' 'Saudi Arabia' 'Kuwait' 'Other Middle East'\n",
      " 'Egypt' 'Israel' 'India' 'Pakistan' 'South Africa'\n",
      " 'Other Southern Africa' 'Nigeria' 'Kenya' 'Other Africa' 'Bulgaria'\n",
      " 'Romania' 'Serbia' 'Chile' 'Indonesia' 'Bahrain' 'Oman' 'Qatar']\n",
      "['Belgium' 'Luxembourg' 'France' 'Germany' 'Italy' 'Netherlands' 'Denmark'\n",
      " 'Greece' 'Spain' 'Portugal' 'Austria' 'Sweden' 'Finland' 'Irish Republic'\n",
      " 'Turkey' 'Switzerland' 'Norway' 'Iceland' 'Czech Republic' 'Poland'\n",
      " 'Hungary' 'Russia' 'Other Western Europe' 'Other Eastern Europe' 'USA'\n",
      " 'Canada' 'Mexico' 'Brazil' 'Argentina' 'Other Central & South America'\n",
      " 'Hong Kong' 'Malaysia' 'Thailand' 'Singapore' 'Taiwan' 'China'\n",
      " 'Other Asia' 'Japan' 'South Korea' 'Australia' 'New Zealand'\n",
      " 'United Arab Emirates' 'Saudi Arabia' 'Kuwait' 'Other Middle East'\n",
      " 'Egypt' 'Israel' 'India' 'Pakistan' 'South Africa'\n",
      " 'Other Southern Africa' 'Nigeria' 'Kenya' 'Other Africa' 'Bulgaria'\n",
      " 'Romania' 'Serbia' 'Chile' 'Indonesia' 'Bahrain' 'Oman' 'Qatar']\n",
      "['Belgium' 'Luxembourg' 'France' 'Germany' 'Italy' 'Netherlands' 'Denmark'\n",
      " 'Greece' 'Spain' 'Portugal' 'Austria' 'Sweden' 'Finland' 'Irish Republic'\n",
      " 'Turkey' 'Switzerland' 'Norway' 'Iceland' 'Czech Republic' 'Poland'\n",
      " 'Hungary' 'Russia' 'Other Western Europe' 'Other Eastern Europe' 'USA'\n",
      " 'Canada' 'Mexico' 'Brazil' 'Argentina' 'Other Central & South America'\n",
      " 'Hong Kong' 'Malaysia' 'Thailand' 'Singapore' 'Taiwan' 'China'\n",
      " 'Other Asia' 'Japan' 'South Korea' 'Australia' 'New Zealand'\n",
      " 'United Arab Emirates' 'Saudi Arabia' 'Kuwait' 'Other Middle East'\n",
      " 'Egypt' 'Israel' 'India' 'Pakistan' 'South Africa'\n",
      " 'Other Southern Africa' 'Nigeria' 'Kenya' 'Other Africa' 'Bulgaria'\n",
      " 'Romania' 'Serbia' 'Chile' 'Indonesia' 'Bahrain' 'Oman' 'Qatar']\n",
      "['Belgium' 'Luxembourg' 'France' 'Germany' 'Italy' 'Netherlands' 'Denmark'\n",
      " 'Greece' 'Spain' 'Portugal' 'Austria' 'Sweden' 'Finland' 'Irish Republic'\n",
      " 'Turkey' 'Switzerland' 'Norway' 'Iceland' 'Czech Republic' 'Poland'\n",
      " 'Hungary' 'Russia' 'Other Western Europe' 'Other Eastern Europe' 'USA'\n",
      " 'Canada' 'Mexico' 'Brazil' 'Argentina' 'Other Central & South America'\n",
      " 'Hong Kong' 'Malaysia' 'Thailand' 'Singapore' 'Taiwan' 'China'\n",
      " 'Other Asia' 'Japan' 'South Korea' 'Australia' 'New Zealand'\n",
      " 'United Arab Emirates' 'Saudi Arabia' 'Kuwait' 'Other Middle East'\n",
      " 'Egypt' 'Israel' 'India' 'Pakistan' 'South Africa'\n",
      " 'Other Southern Africa' 'Nigeria' 'Kenya' 'Other Africa' 'Bulgaria'\n",
      " 'Romania' 'Serbia' 'Chile' 'Indonesia' 'Bahrain' 'Oman' 'Qatar']\n",
      "['Belgium' 'Luxembourg' 'France' 'Germany' 'Italy' 'Netherlands' 'Denmark'\n",
      " 'Greece' 'Spain' 'Portugal' 'Austria' 'Sweden' 'Finland' 'Irish Republic'\n",
      " 'Turkey' 'Switzerland' 'Norway' 'Iceland' 'Czech Republic' 'Poland'\n",
      " 'Hungary' 'Russia' 'Other Western Europe' 'Other Eastern Europe' 'USA'\n",
      " 'Canada' 'Mexico' 'Brazil' 'Argentina' 'Other Central & South America'\n",
      " 'Hong Kong' 'Malaysia' 'Thailand' 'Singapore' 'Taiwan' 'China'\n",
      " 'Other Asia' 'Japan' 'South Korea' 'Australia' 'New Zealand'\n",
      " 'United Arab Emirates' 'Saudi Arabia' 'Kuwait' 'Other Middle East'\n",
      " 'Egypt' 'Israel' 'India' 'Pakistan' 'South Africa'\n",
      " 'Other Southern Africa' 'Nigeria' 'Kenya' 'Other Africa' 'Bulgaria'\n",
      " 'Romania' 'Serbia' 'Chile' 'Indonesia' 'Bahrain' 'Oman' 'Qatar']\n",
      "['Belgium' 'Luxembourg' 'France' 'Germany' 'Italy' 'Netherlands' 'Denmark'\n",
      " 'Greece' 'Spain' 'Portugal' 'Austria' 'Sweden' 'Finland' 'Irish Republic'\n",
      " 'Turkey' 'Switzerland' 'Norway' 'Iceland' 'Czech Republic' 'Poland'\n",
      " 'Hungary' 'Russia' 'Other Western Europe' 'Other Eastern Europe' 'USA'\n",
      " 'Canada' 'Mexico' 'Brazil' 'Argentina' 'Other Central & South America'\n",
      " 'Hong Kong' 'Malaysia' 'Thailand' 'Singapore' 'Taiwan' 'China'\n",
      " 'Other Asia' 'Japan' 'South Korea' 'Australia' 'New Zealand'\n",
      " 'United Arab Emirates' 'Saudi Arabia' 'Kuwait' 'Other Middle East'\n",
      " 'Egypt' 'Israel' 'India' 'Pakistan' 'South Africa'\n",
      " 'Other Southern Africa' 'Nigeria' 'Kenya' 'Other Africa' 'Bulgaria'\n",
      " 'Romania' 'Serbia' 'Chile' 'Indonesia' 'Bahrain' 'Oman' 'Qatar']\n",
      "['Belgium' 'Luxembourg' 'France' 'Germany' 'Italy' 'Netherlands' 'Denmark'\n",
      " 'Greece' 'Spain' 'Portugal' 'Austria' 'Sweden' 'Finland' 'Irish Republic'\n",
      " 'Turkey' 'Switzerland' 'Norway' 'Iceland' 'Czech Republic' 'Poland'\n",
      " 'Hungary' 'Russia' 'Other Western Europe' 'Other Eastern Europe' 'USA'\n",
      " 'Canada' 'Mexico' 'Brazil' 'Argentina' 'Other Central & South America'\n",
      " 'Hong Kong' 'Malaysia' 'Thailand' 'Singapore' 'Taiwan' 'China'\n",
      " 'Other Asia' 'Japan' 'South Korea' 'Australia' 'New Zealand'\n",
      " 'United Arab Emirates' 'Saudi Arabia' 'Kuwait' 'Other Middle East'\n",
      " 'Egypt' 'Israel' 'India' 'Pakistan' 'South Africa'\n",
      " 'Other Southern Africa' 'Nigeria' 'Kenya' 'Other Africa' 'Bulgaria'\n",
      " 'Romania' 'Serbia' 'Chile' 'Indonesia' 'Bahrain' 'Oman' 'Qatar']\n",
      "['Belgium' 'Luxembourg' 'France' 'Germany' 'Italy' 'Netherlands' 'Denmark'\n",
      " 'Greece' 'Spain' 'Portugal' 'Austria' 'Sweden' 'Finland' 'Irish Republic'\n",
      " 'Turkey' 'Switzerland' 'Norway' 'Iceland' 'Czech Republic' 'Poland'\n",
      " 'Hungary' 'Russia' 'Other Western Europe' 'Other Eastern Europe' 'USA'\n",
      " 'Canada' 'Mexico' 'Brazil' 'Argentina' 'Other Central & South America'\n",
      " 'Hong Kong' 'Malaysia' 'Thailand' 'Singapore' 'Taiwan' 'China'\n",
      " 'Other Asia' 'Japan' 'South Korea' 'Australia' 'New Zealand'\n",
      " 'United Arab Emirates' 'Saudi Arabia' 'Kuwait' 'Other Middle East'\n",
      " 'Egypt' 'Israel' 'India' 'Pakistan' 'South Africa'\n",
      " 'Other Southern Africa' 'Nigeria' 'Kenya' 'Other Africa' 'Bulgaria'\n",
      " 'Romania' 'Serbia' 'Chile' 'Indonesia' 'Bahrain' 'Oman' 'Qatar']\n",
      "['Belgium' 'Luxembourg' 'France' 'Germany' 'Italy' 'Netherlands' 'Denmark'\n",
      " 'Greece' 'Spain' 'Portugal' 'Austria' 'Sweden' 'Finland' 'Irish Republic'\n",
      " 'Turkey' 'Switzerland' 'Norway' 'Iceland' 'Czech Republic' 'Poland'\n",
      " 'Hungary' 'Russia' 'Other Western Europe' 'Other Eastern Europe' 'USA'\n",
      " 'Canada' 'Mexico' 'Brazil' 'Argentina' 'Other Central & South America'\n",
      " 'Hong Kong' 'Malaysia' 'Thailand' 'Singapore' 'Taiwan' 'China'\n",
      " 'Other Asia' 'Japan' 'South Korea' 'Australia' 'New Zealand'\n",
      " 'United Arab Emirates' 'Saudi Arabia' 'Kuwait' 'Other Middle East'\n",
      " 'Egypt' 'Israel' 'India' 'Pakistan' 'South Africa'\n",
      " 'Other Southern Africa' 'Nigeria' 'Kenya' 'Other Africa' 'Bulgaria'\n",
      " 'Romania' 'Serbia' 'Chile' 'Indonesia' 'Bahrain' 'Oman' 'Qatar']\n",
      "['Belgium' 'Luxembourg' 'France' 'Germany' 'Italy' 'Netherlands' 'Denmark'\n",
      " 'Greece' 'Spain' 'Portugal' 'Austria' 'Sweden' 'Finland' 'Irish Republic'\n",
      " 'Turkey' 'Switzerland' 'Norway' 'Iceland' 'Czech Republic' 'Poland'\n",
      " 'Hungary' 'Russia' 'Other Western Europe' 'Other Eastern Europe' 'USA'\n",
      " 'Canada' 'Mexico' 'Brazil' 'Argentina' 'Other Central & South America'\n",
      " 'Hong Kong' 'Malaysia' 'Thailand' 'Singapore' 'Taiwan' 'China'\n",
      " 'Other Asia' 'Japan' 'South Korea' 'Australia' 'New Zealand'\n",
      " 'United Arab Emirates' 'Saudi Arabia' 'Kuwait' 'Other Middle East'\n",
      " 'Egypt' 'Israel' 'India' 'Pakistan' 'South Africa'\n",
      " 'Other Southern Africa' 'Nigeria' 'Kenya' 'Other Africa' 'Bulgaria'\n",
      " 'Romania' 'Serbia' 'Chile' 'Indonesia' 'Bahrain' 'Oman' 'Qatar']\n",
      "['Belgium' 'Luxembourg' 'France' 'Germany' 'Italy' 'Netherlands' 'Denmark'\n",
      " 'Greece' 'Spain' 'Portugal' 'Austria' 'Sweden' 'Finland' 'Irish Republic'\n",
      " 'Turkey' 'Switzerland' 'Norway' 'Iceland' 'Czech Republic' 'Poland'\n",
      " 'Hungary' 'Russia' 'Other Western Europe' 'Other Eastern Europe' 'USA'\n",
      " 'Canada' 'Mexico' 'Brazil' 'Argentina' 'Other Central & South America'\n",
      " 'Hong Kong' 'Malaysia' 'Thailand' 'Singapore' 'Taiwan' 'China'\n",
      " 'Other Asia' 'Japan' 'South Korea' 'Australia' 'New Zealand'\n",
      " 'United Arab Emirates' 'Saudi Arabia' 'Kuwait' 'Other Middle East'\n",
      " 'Egypt' 'Israel' 'India' 'Pakistan' 'South Africa'\n",
      " 'Other Southern Africa' 'Nigeria' 'Kenya' 'Other Africa' 'Bulgaria'\n",
      " 'Romania' 'Serbia' 'Chile' 'Indonesia' 'Bahrain' 'Oman' 'Qatar']\n",
      "['Belgium' 'Luxembourg' 'France' 'Germany' 'Italy' 'Netherlands' 'Denmark'\n",
      " 'Greece' 'Spain' 'Portugal' 'Austria' 'Sweden' 'Finland' 'Irish Republic'\n",
      " 'Turkey' 'Switzerland' 'Norway' 'Iceland' 'Czech Republic' 'Poland'\n",
      " 'Hungary' 'Russia' 'Other Western Europe' 'Other Eastern Europe' 'USA'\n",
      " 'Canada' 'Mexico' 'Brazil' 'Argentina' 'Other Central & South America'\n",
      " 'Hong Kong' 'Malaysia' 'Thailand' 'Singapore' 'Taiwan' 'China'\n",
      " 'Other Asia' 'Japan' 'South Korea' 'Australia' 'New Zealand'\n",
      " 'United Arab Emirates' 'Saudi Arabia' 'Kuwait' 'Other Middle East'\n",
      " 'Egypt' 'Israel' 'India' 'Pakistan' 'South Africa'\n",
      " 'Other Southern Africa' 'Nigeria' 'Kenya' 'Other Africa' 'Bulgaria'\n",
      " 'Romania' 'Serbia' 'Chile' 'Indonesia' 'Bahrain' 'Oman' 'Qatar']\n",
      "['Belgium' 'Luxembourg' 'France' 'Germany' 'Italy' 'Netherlands' 'Denmark'\n",
      " 'Greece' 'Spain' 'Portugal' 'Austria' 'Sweden' 'Finland' 'Irish Republic'\n",
      " 'Turkey' 'Switzerland' 'Norway' 'Iceland' 'Czech Republic' 'Poland'\n",
      " 'Hungary' 'Russia' 'Other Western Europe' 'Other Eastern Europe' 'USA'\n",
      " 'Canada' 'Mexico' 'Brazil' 'Argentina' 'Other Central & South America'\n",
      " 'Hong Kong' 'Malaysia' 'Thailand' 'Singapore' 'Taiwan' 'China'\n",
      " 'Other Asia' 'Japan' 'South Korea' 'Australia' 'New Zealand'\n",
      " 'United Arab Emirates' 'Saudi Arabia' 'Kuwait' 'Other Middle East'\n",
      " 'Egypt' 'Israel' 'India' 'Pakistan' 'South Africa'\n",
      " 'Other Southern Africa' 'Nigeria' 'Kenya' 'Other Africa' 'Bulgaria'\n",
      " 'Romania' 'Serbia' 'Chile' 'Indonesia' 'Bahrain' 'Oman' 'Qatar']\n",
      "['Belgium' 'Luxembourg' 'France' 'Germany' 'Italy' 'Netherlands' 'Denmark'\n",
      " 'Greece' 'Spain' 'Portugal' 'Austria' 'Sweden' 'Finland' 'Irish Republic'\n",
      " 'Turkey' 'Switzerland' 'Norway' 'Iceland' 'Czech Republic' 'Poland'\n",
      " 'Hungary' 'Russia' 'Other Western Europe' 'Other Eastern Europe' 'USA'\n",
      " 'Canada' 'Mexico' 'Brazil' 'Argentina' 'Other Central & South America'\n",
      " 'Hong Kong' 'Malaysia' 'Thailand' 'Singapore' 'Taiwan' 'China'\n",
      " 'Other Asia' 'Japan' 'South Korea' 'Australia' 'New Zealand'\n",
      " 'United Arab Emirates' 'Saudi Arabia' 'Kuwait' 'Other Middle East'\n",
      " 'Egypt' 'Israel' 'India' 'Pakistan' 'South Africa'\n",
      " 'Other Southern Africa' 'Nigeria' 'Kenya' 'Other Africa' 'Bulgaria'\n",
      " 'Romania' 'Serbia' 'Chile' 'Indonesia' 'Bahrain' 'Oman' 'Qatar']\n",
      "['Belgium' 'Luxembourg' 'France' 'Germany' 'Italy' 'Netherlands' 'Denmark'\n",
      " 'Greece' 'Spain' 'Portugal' 'Austria' 'Sweden' 'Finland' 'Irish Republic'\n",
      " 'Turkey' 'Switzerland' 'Norway' 'Iceland' 'Czech Republic' 'Poland'\n",
      " 'Hungary' 'Russia' 'Other Western Europe' 'Other Eastern Europe' 'USA'\n",
      " 'Canada' 'Mexico' 'Brazil' 'Argentina' 'Other Central & South America'\n",
      " 'Hong Kong' 'Malaysia' 'Thailand' 'Singapore' 'Taiwan' 'China'\n",
      " 'Other Asia' 'Japan' 'South Korea' 'Australia' 'New Zealand'\n",
      " 'United Arab Emirates' 'Saudi Arabia' 'Kuwait' 'Other Middle East'\n",
      " 'Egypt' 'Israel' 'India' 'Pakistan' 'South Africa'\n",
      " 'Other Southern Africa' 'Nigeria' 'Kenya' 'Other Africa' 'Bulgaria'\n",
      " 'Romania' 'Serbia' 'Chile' 'Indonesia' 'Bahrain' 'Oman' 'Qatar']\n",
      "['Belgium' 'Luxembourg' 'France' 'Germany' 'Italy' 'Netherlands' 'Denmark'\n",
      " 'Greece' 'Spain' 'Portugal' 'Austria' 'Sweden' 'Finland' 'Irish Republic'\n",
      " 'Turkey' 'Switzerland' 'Norway' 'Iceland' 'Czech Republic' 'Poland'\n",
      " 'Hungary' 'Russia' 'Other Western Europe' 'Other Eastern Europe' 'USA'\n",
      " 'Canada' 'Mexico' 'Brazil' 'Argentina' 'Other Central & South America'\n",
      " 'Hong Kong' 'Malaysia' 'Thailand' 'Singapore' 'Taiwan' 'China'\n",
      " 'Other Asia' 'Japan' 'South Korea' 'Australia' 'New Zealand'\n",
      " 'United Arab Emirates' 'Saudi Arabia' 'Kuwait' 'Other Middle East'\n",
      " 'Egypt' 'Israel' 'India' 'Pakistan' 'South Africa'\n",
      " 'Other Southern Africa' 'Nigeria' 'Kenya' 'Other Africa' 'Bulgaria'\n",
      " 'Romania' 'Serbia' 'Chile' 'Indonesia' 'Bahrain' 'Oman' 'Qatar']\n",
      "['Belgium' 'Luxembourg' 'France' 'Germany' 'Italy' 'Netherlands' 'Denmark'\n",
      " 'Greece' 'Spain' 'Portugal' 'Austria' 'Sweden' 'Finland' 'Irish Republic'\n",
      " 'Turkey' 'Switzerland' 'Norway' 'Iceland' 'Czech Republic' 'Poland'\n",
      " 'Hungary' 'Russia' 'Other Western Europe' 'Other Eastern Europe' 'USA'\n",
      " 'Canada' 'Mexico' 'Brazil' 'Argentina' 'Other Central & South America'\n",
      " 'Hong Kong' 'Malaysia' 'Thailand' 'Singapore' 'Taiwan' 'China'\n",
      " 'Other Asia' 'Japan' 'South Korea' 'Australia' 'New Zealand'\n",
      " 'United Arab Emirates' 'Saudi Arabia' 'Kuwait' 'Other Middle East'\n",
      " 'Egypt' 'Israel' 'India' 'Pakistan' 'South Africa'\n",
      " 'Other Southern Africa' 'Nigeria' 'Kenya' 'Other Africa' 'Bulgaria'\n",
      " 'Romania' 'Serbia' 'Chile' 'Indonesia' 'Bahrain' 'Oman' 'Qatar']\n",
      "['Belgium' 'Luxembourg' 'France' 'Germany' 'Italy' 'Netherlands' 'Denmark'\n",
      " 'Greece' 'Spain' 'Portugal' 'Austria' 'Sweden' 'Finland' 'Irish Republic'\n",
      " 'Turkey' 'Switzerland' 'Norway' 'Iceland' 'Czech Republic' 'Poland'\n",
      " 'Hungary' 'Russia' 'Other Western Europe' 'Other Eastern Europe' 'USA'\n",
      " 'Canada' 'Mexico' 'Brazil' 'Argentina' 'Other Central & South America'\n",
      " 'Hong Kong' 'Malaysia' 'Thailand' 'Singapore' 'Taiwan' 'China'\n",
      " 'Other Asia' 'Japan' 'South Korea' 'Australia' 'New Zealand'\n",
      " 'United Arab Emirates' 'Saudi Arabia' 'Kuwait' 'Other Middle East'\n",
      " 'Egypt' 'Israel' 'India' 'Pakistan' 'South Africa'\n",
      " 'Other Southern Africa' 'Nigeria' 'Kenya' 'Other Africa' 'Bulgaria'\n",
      " 'Romania' 'Serbia' 'Chile' 'Indonesia' 'Bahrain' 'Oman' 'Qatar']\n",
      "['Belgium' 'Luxembourg' 'France' 'Germany' 'Italy' 'Netherlands' 'Denmark'\n",
      " 'Greece' 'Spain' 'Portugal' 'Austria' 'Sweden' 'Finland' 'Irish Republic'\n",
      " 'Turkey' 'Switzerland' 'Norway' 'Iceland' 'Czech Republic' 'Poland'\n",
      " 'Hungary' 'Russia' 'Other Western Europe' 'Other Eastern Europe' 'USA'\n",
      " 'Canada' 'Mexico' 'Brazil' 'Argentina' 'Other Central & South America'\n",
      " 'Hong Kong' 'Malaysia' 'Thailand' 'Singapore' 'Taiwan' 'China'\n",
      " 'Other Asia' 'Japan' 'South Korea' 'Australia' 'New Zealand'\n",
      " 'United Arab Emirates' 'Saudi Arabia' 'Kuwait' 'Other Middle East'\n",
      " 'Egypt' 'Israel' 'India' 'Pakistan' 'South Africa'\n",
      " 'Other Southern Africa' 'Nigeria' 'Kenya' 'Other Africa' 'Bulgaria'\n",
      " 'Romania' 'Serbia' 'Chile' 'Indonesia' 'Bahrain' 'Oman' 'Qatar']\n",
      "['Belgium' 'Luxembourg' 'France' 'Germany' 'Italy' 'Netherlands' 'Denmark'\n",
      " 'Greece' 'Spain' 'Portugal' 'Austria' 'Sweden' 'Finland' 'Irish Republic'\n",
      " 'Turkey' 'Switzerland' 'Norway' 'Iceland' 'Czech Republic' 'Poland'\n",
      " 'Hungary' 'Russia' 'Other Western Europe' 'Other Eastern Europe' 'USA'\n",
      " 'Canada' 'Mexico' 'Brazil' 'Argentina' 'Other Central & South America'\n",
      " 'Hong Kong' 'Malaysia' 'Thailand' 'Singapore' 'Taiwan' 'China'\n",
      " 'Other Asia' 'Japan' 'South Korea' 'Australia' 'New Zealand'\n",
      " 'United Arab Emirates' 'Saudi Arabia' 'Kuwait' 'Other Middle East'\n",
      " 'Egypt' 'Israel' 'India' 'Pakistan' 'South Africa'\n",
      " 'Other Southern Africa' 'Nigeria' 'Kenya' 'Other Africa' 'Bulgaria'\n",
      " 'Romania' 'Serbia' 'Chile' 'Indonesia' 'Bahrain' 'Oman' 'Qatar']\n",
      "['Belgium' 'Luxembourg' 'France' 'Germany' 'Italy' 'Netherlands' 'Denmark'\n",
      " 'Greece' 'Spain' 'Portugal' 'Austria' 'Sweden' 'Finland' 'Irish Republic'\n",
      " 'Turkey' 'Switzerland' 'Norway' 'Iceland' 'Czech Republic' 'Poland'\n",
      " 'Hungary' 'Russia' 'Other Western Europe' 'Other Eastern Europe' 'USA'\n",
      " 'Canada' 'Mexico' 'Brazil' 'Argentina' 'Other Central & South America'\n",
      " 'Hong Kong' 'Malaysia' 'Thailand' 'Singapore' 'Taiwan' 'China'\n",
      " 'Other Asia' 'Japan' 'South Korea' 'Australia' 'New Zealand'\n",
      " 'United Arab Emirates' 'Saudi Arabia' 'Kuwait' 'Other Middle East'\n",
      " 'Egypt' 'Israel' 'India' 'Pakistan' 'South Africa'\n",
      " 'Other Southern Africa' 'Nigeria' 'Kenya' 'Other Africa' 'Bulgaria'\n",
      " 'Romania' 'Serbia' 'Chile' 'Indonesia' 'Bahrain' 'Oman' 'Qatar']\n",
      "['Belgium' 'Luxembourg' 'France' 'Germany' 'Italy' 'Netherlands' 'Denmark'\n",
      " 'Greece' 'Spain' 'Portugal' 'Austria' 'Sweden' 'Finland' 'Irish Republic'\n",
      " 'Turkey' 'Switzerland' 'Norway' 'Iceland' 'Czech Republic' 'Poland'\n",
      " 'Hungary' 'Russia' 'Other Western Europe' 'Other Eastern Europe' 'USA'\n",
      " 'Canada' 'Mexico' 'Brazil' 'Argentina' 'Other Central & South America'\n",
      " 'Hong Kong' 'Malaysia' 'Thailand' 'Singapore' 'Taiwan' 'China'\n",
      " 'Other Asia' 'Japan' 'South Korea' 'Australia' 'New Zealand'\n",
      " 'United Arab Emirates' 'Saudi Arabia' 'Kuwait' 'Other Middle East'\n",
      " 'Egypt' 'Israel' 'India' 'Pakistan' 'South Africa'\n",
      " 'Other Southern Africa' 'Nigeria' 'Kenya' 'Other Africa' 'Bulgaria'\n",
      " 'Romania' 'Serbia' 'Chile' 'Indonesia' 'Bahrain' 'Oman' 'Qatar']\n",
      "['Belgium' 'Luxembourg' 'France' 'Germany' 'Italy' 'Netherlands' 'Denmark'\n",
      " 'Greece' 'Spain' 'Portugal' 'Austria' 'Sweden' 'Finland' 'Irish Republic'\n",
      " 'Turkey' 'Switzerland' 'Norway' 'Iceland' 'Czech Republic' 'Poland'\n",
      " 'Hungary' 'Russia' 'Other Western Europe' 'Other Eastern Europe' 'USA'\n",
      " 'Canada' 'Mexico' 'Brazil' 'Argentina' 'Other Central & South America'\n",
      " 'Hong Kong' 'Malaysia' 'Thailand' 'Singapore' 'Taiwan' 'China'\n",
      " 'Other Asia' 'Japan' 'South Korea' 'Australia' 'New Zealand'\n",
      " 'United Arab Emirates' 'Saudi Arabia' 'Kuwait' 'Other Middle East'\n",
      " 'Egypt' 'Israel' 'India' 'Pakistan' 'South Africa'\n",
      " 'Other Southern Africa' 'Nigeria' 'Kenya' 'Other Africa' 'Bulgaria'\n",
      " 'Romania' 'Serbia' 'Chile' 'Indonesia' 'Bahrain' 'Oman' 'Qatar']\n",
      "['Belgium' 'Luxembourg' 'France' 'Germany' 'Italy' 'Netherlands' 'Denmark'\n",
      " 'Greece' 'Spain' 'Portugal' 'Austria' 'Sweden' 'Finland' 'Irish Republic'\n",
      " 'Turkey' 'Switzerland' 'Norway' 'Iceland' 'Czech Republic' 'Poland'\n",
      " 'Hungary' 'Russia' 'Other Western Europe' 'Other Eastern Europe' 'USA'\n",
      " 'Canada' 'Mexico' 'Brazil' 'Argentina' 'Other Central & South America'\n",
      " 'Hong Kong' 'Malaysia' 'Thailand' 'Singapore' 'Taiwan' 'China'\n",
      " 'Other Asia' 'Japan' 'South Korea' 'Australia' 'New Zealand'\n",
      " 'United Arab Emirates' 'Saudi Arabia' 'Kuwait' 'Other Middle East'\n",
      " 'Egypt' 'Israel' 'India' 'Pakistan' 'South Africa'\n",
      " 'Other Southern Africa' 'Nigeria' 'Kenya' 'Other Africa' 'Bulgaria'\n",
      " 'Romania' 'Serbia' 'Chile' 'Indonesia' 'Bahrain' 'Oman' 'Qatar']\n",
      "['Belgium' 'Luxembourg' 'France' 'Germany' 'Italy' 'Netherlands' 'Denmark'\n",
      " 'Greece' 'Spain' 'Portugal' 'Austria' 'Sweden' 'Finland' 'Irish Republic'\n",
      " 'Turkey' 'Switzerland' 'Norway' 'Iceland' 'Czech Republic' 'Poland'\n",
      " 'Hungary' 'Russia' 'Other Western Europe' 'Other Eastern Europe' 'USA'\n",
      " 'Canada' 'Mexico' 'Brazil' 'Argentina' 'Other Central & South America'\n",
      " 'Hong Kong' 'Malaysia' 'Thailand' 'Singapore' 'Taiwan' 'China'\n",
      " 'Other Asia' 'Japan' 'South Korea' 'Australia' 'New Zealand'\n",
      " 'United Arab Emirates' 'Saudi Arabia' 'Kuwait' 'Other Middle East'\n",
      " 'Egypt' 'Israel' 'India' 'Pakistan' 'South Africa'\n",
      " 'Other Southern Africa' 'Nigeria' 'Kenya' 'Other Africa' 'Bulgaria'\n",
      " 'Romania' 'Serbia' 'Chile' 'Indonesia' 'Bahrain' 'Oman' 'Qatar']\n",
      "['Belgium' 'Luxembourg' 'France' 'Germany' 'Italy' 'Netherlands' 'Denmark'\n",
      " 'Greece' 'Spain' 'Portugal' 'Austria' 'Sweden' 'Finland' 'Irish Republic'\n",
      " 'Turkey' 'Switzerland' 'Norway' 'Iceland' 'Czech Republic' 'Poland'\n",
      " 'Hungary' 'Russia' 'Other Western Europe' 'Other Eastern Europe' 'USA'\n",
      " 'Canada' 'Mexico' 'Brazil' 'Argentina' 'Other Central & South America'\n",
      " 'Hong Kong' 'Malaysia' 'Thailand' 'Singapore' 'Taiwan' 'China'\n",
      " 'Other Asia' 'Japan' 'South Korea' 'Australia' 'New Zealand'\n",
      " 'United Arab Emirates' 'Saudi Arabia' 'Kuwait' 'Other Middle East'\n",
      " 'Egypt' 'Israel' 'India' 'Pakistan' 'South Africa'\n",
      " 'Other Southern Africa' 'Nigeria' 'Kenya' 'Other Africa' 'Bulgaria'\n",
      " 'Romania' 'Serbia' 'Chile' 'Indonesia' 'Bahrain' 'Oman' 'Qatar']\n",
      "['Belgium' 'Luxembourg' 'France' 'Germany' 'Italy' 'Netherlands' 'Denmark'\n",
      " 'Greece' 'Spain' 'Portugal' 'Austria' 'Sweden' 'Finland' 'Irish Republic'\n",
      " 'Turkey' 'Switzerland' 'Norway' 'Iceland' 'Czech Republic' 'Poland'\n",
      " 'Hungary' 'Russia' 'Other Western Europe' 'Other Eastern Europe' 'USA'\n",
      " 'Canada' 'Mexico' 'Brazil' 'Argentina' 'Other Central & South America'\n",
      " 'Hong Kong' 'Malaysia' 'Thailand' 'Singapore' 'Taiwan' 'China'\n",
      " 'Other Asia' 'Japan' 'South Korea' 'Australia' 'New Zealand'\n",
      " 'United Arab Emirates' 'Saudi Arabia' 'Kuwait' 'Other Middle East'\n",
      " 'Egypt' 'Israel' 'India' 'Pakistan' 'South Africa'\n",
      " 'Other Southern Africa' 'Nigeria' 'Kenya' 'Other Africa' 'Bulgaria'\n",
      " 'Romania' 'Serbia' 'Chile' 'Indonesia' 'Bahrain' 'Oman' 'Qatar']\n",
      "['Belgium' 'Luxembourg' 'France' 'Germany' 'Italy' 'Netherlands' 'Denmark'\n",
      " 'Greece' 'Spain' 'Portugal' 'Austria' 'Sweden' 'Finland' 'Irish Republic'\n",
      " 'Turkey' 'Switzerland' 'Norway' 'Iceland' 'Czech Republic' 'Poland'\n",
      " 'Hungary' 'Russia' 'Other Western Europe' 'Other Eastern Europe' 'USA'\n",
      " 'Canada' 'Mexico' 'Brazil' 'Argentina' 'Other Central & South America'\n",
      " 'Hong Kong' 'Malaysia' 'Thailand' 'Singapore' 'Taiwan' 'China'\n",
      " 'Other Asia' 'Japan' 'South Korea' 'Australia' 'New Zealand'\n",
      " 'United Arab Emirates' 'Saudi Arabia' 'Kuwait' 'Other Middle East'\n",
      " 'Egypt' 'Israel' 'India' 'Pakistan' 'South Africa'\n",
      " 'Other Southern Africa' 'Nigeria' 'Kenya' 'Other Africa' 'Bulgaria'\n",
      " 'Romania' 'Serbia' 'Chile' 'Indonesia' 'Bahrain' 'Oman' 'Qatar']\n",
      "['Belgium' 'Luxembourg' 'France' 'Germany' 'Italy' 'Netherlands' 'Denmark'\n",
      " 'Greece' 'Spain' 'Portugal' 'Austria' 'Sweden' 'Finland' 'Irish Republic'\n",
      " 'Turkey' 'Switzerland' 'Norway' 'Iceland' 'Czech Republic' 'Poland'\n",
      " 'Hungary' 'Russia' 'Other Western Europe' 'Other Eastern Europe' 'USA'\n",
      " 'Canada' 'Mexico' 'Brazil' 'Argentina' 'Other Central & South America'\n",
      " 'Hong Kong' 'Malaysia' 'Thailand' 'Singapore' 'Taiwan' 'China'\n",
      " 'Other Asia' 'Japan' 'South Korea' 'Australia' 'New Zealand'\n",
      " 'United Arab Emirates' 'Saudi Arabia' 'Kuwait' 'Other Middle East'\n",
      " 'Egypt' 'Israel' 'India' 'Pakistan' 'South Africa'\n",
      " 'Other Southern Africa' 'Nigeria' 'Kenya' 'Other Africa' 'Bulgaria'\n",
      " 'Romania' 'Serbia' 'Chile' 'Indonesia' 'Bahrain' 'Oman' 'Qatar']\n",
      "['Belgium' 'Luxembourg' 'France' 'Germany' 'Italy' 'Netherlands' 'Denmark'\n",
      " 'Greece' 'Spain' 'Portugal' 'Austria' 'Sweden' 'Finland' 'Irish Republic'\n",
      " 'Turkey' 'Switzerland' 'Norway' 'Iceland' 'Czech Republic' 'Poland'\n",
      " 'Hungary' 'Russia' 'Other Western Europe' 'Other Eastern Europe' 'USA'\n",
      " 'Canada' 'Mexico' 'Brazil' 'Argentina' 'Other Central & South America'\n",
      " 'Hong Kong' 'Malaysia' 'Thailand' 'Singapore' 'Taiwan' 'China'\n",
      " 'Other Asia' 'Japan' 'South Korea' 'Australia' 'New Zealand'\n",
      " 'United Arab Emirates' 'Saudi Arabia' 'Kuwait' 'Other Middle East'\n",
      " 'Egypt' 'Israel' 'India' 'Pakistan' 'South Africa'\n",
      " 'Other Southern Africa' 'Nigeria' 'Kenya' 'Other Africa' 'Bulgaria'\n",
      " 'Romania' 'Serbia' 'Chile' 'Indonesia' 'Bahrain' 'Oman' 'Qatar']\n",
      "['Belgium' 'Luxembourg' 'France' 'Germany' 'Italy' 'Netherlands' 'Denmark'\n",
      " 'Greece' 'Spain' 'Portugal' 'Austria' 'Sweden' 'Finland' 'Irish Republic'\n",
      " 'Turkey' 'Switzerland' 'Norway' 'Iceland' 'Czech Republic' 'Poland'\n",
      " 'Hungary' 'Russia' 'Other Western Europe' 'Other Eastern Europe' 'USA'\n",
      " 'Canada' 'Mexico' 'Brazil' 'Argentina' 'Other Central & South America'\n",
      " 'Hong Kong' 'Malaysia' 'Thailand' 'Singapore' 'Taiwan' 'China'\n",
      " 'Other Asia' 'Japan' 'South Korea' 'Australia' 'New Zealand'\n",
      " 'United Arab Emirates' 'Saudi Arabia' 'Kuwait' 'Other Middle East'\n",
      " 'Egypt' 'Israel' 'India' 'Pakistan' 'South Africa'\n",
      " 'Other Southern Africa' 'Nigeria' 'Kenya' 'Other Africa' 'Bulgaria'\n",
      " 'Romania' 'Serbia' 'Chile' 'Indonesia' 'Bahrain' 'Oman' 'Qatar']\n",
      "['Belgium' 'Luxembourg' 'France' 'Germany' 'Italy' 'Netherlands' 'Denmark'\n",
      " 'Greece' 'Spain' 'Portugal' 'Austria' 'Sweden' 'Finland' 'Irish Republic'\n",
      " 'Turkey' 'Switzerland' 'Norway' 'Iceland' 'Czech Republic' 'Poland'\n",
      " 'Hungary' 'Russia' 'Other Western Europe' 'Other Eastern Europe' 'USA'\n",
      " 'Canada' 'Mexico' 'Brazil' 'Argentina' 'Other Central & South America'\n",
      " 'Hong Kong' 'Malaysia' 'Thailand' 'Singapore' 'Taiwan' 'China'\n",
      " 'Other Asia' 'Japan' 'South Korea' 'Australia' 'New Zealand'\n",
      " 'United Arab Emirates' 'Saudi Arabia' 'Kuwait' 'Other Middle East'\n",
      " 'Egypt' 'Israel' 'India' 'Pakistan' 'South Africa'\n",
      " 'Other Southern Africa' 'Nigeria' 'Kenya' 'Other Africa' 'Bulgaria'\n",
      " 'Romania' 'Serbia' 'Chile' 'Indonesia' 'Bahrain' 'Oman' 'Qatar']\n",
      "['Belgium' 'Luxembourg' 'France' 'Germany' 'Italy' 'Netherlands' 'Denmark'\n",
      " 'Greece' 'Spain' 'Portugal' 'Austria' 'Sweden' 'Finland' 'Irish Republic'\n",
      " 'Turkey' 'Switzerland' 'Norway' 'Iceland' 'Czech Republic' 'Poland'\n",
      " 'Hungary' 'Russia' 'Other Western Europe' 'Other Eastern Europe' 'USA'\n",
      " 'Canada' 'Mexico' 'Brazil' 'Argentina' 'Other Central & South America'\n",
      " 'Hong Kong' 'Malaysia' 'Thailand' 'Singapore' 'Taiwan' 'China'\n",
      " 'Other Asia' 'Japan' 'South Korea' 'Australia' 'New Zealand'\n",
      " 'United Arab Emirates' 'Saudi Arabia' 'Kuwait' 'Other Middle East'\n",
      " 'Egypt' 'Israel' 'India' 'Pakistan' 'South Africa'\n",
      " 'Other Southern Africa' 'Nigeria' 'Kenya' 'Other Africa' 'Bulgaria'\n",
      " 'Romania' 'Serbia' 'Chile' 'Indonesia' 'Bahrain' 'Oman' 'Qatar']\n",
      "['Belgium' 'Luxembourg' 'France' 'Germany' 'Italy' 'Netherlands' 'Denmark'\n",
      " 'Greece' 'Spain' 'Portugal' 'Austria' 'Sweden' 'Finland' 'Irish Republic'\n",
      " 'Turkey' 'Switzerland' 'Norway' 'Iceland' 'Czech Republic' 'Poland'\n",
      " 'Hungary' 'Russia' 'Other Western Europe' 'Other Eastern Europe' 'USA'\n",
      " 'Canada' 'Mexico' 'Brazil' 'Argentina' 'Other Central & South America'\n",
      " 'Hong Kong' 'Malaysia' 'Thailand' 'Singapore' 'Taiwan' 'China'\n",
      " 'Other Asia' 'Japan' 'South Korea' 'Australia' 'New Zealand'\n",
      " 'United Arab Emirates' 'Saudi Arabia' 'Kuwait' 'Other Middle East'\n",
      " 'Egypt' 'Israel' 'India' 'Pakistan' 'South Africa'\n",
      " 'Other Southern Africa' 'Nigeria' 'Kenya' 'Other Africa' 'Bulgaria'\n",
      " 'Romania' 'Serbia' 'Chile' 'Indonesia' 'Bahrain' 'Oman' 'Qatar']\n",
      "['Belgium' 'Luxembourg' 'France' 'Germany' 'Italy' 'Netherlands' 'Denmark'\n",
      " 'Greece' 'Spain' 'Portugal' 'Austria' 'Sweden' 'Finland' 'Irish Republic'\n",
      " 'Turkey' 'Switzerland' 'Norway' 'Iceland' 'Czech Republic' 'Poland'\n",
      " 'Hungary' 'Russia' 'Other Western Europe' 'Other Eastern Europe' 'USA'\n",
      " 'Canada' 'Mexico' 'Brazil' 'Argentina' 'Other Central & South America'\n",
      " 'Hong Kong' 'Malaysia' 'Thailand' 'Singapore' 'Taiwan' 'China'\n",
      " 'Other Asia' 'Japan' 'South Korea' 'Australia' 'New Zealand'\n",
      " 'United Arab Emirates' 'Saudi Arabia' 'Kuwait' 'Other Middle East'\n",
      " 'Egypt' 'Israel' 'India' 'Pakistan' 'South Africa'\n",
      " 'Other Southern Africa' 'Nigeria' 'Kenya' 'Other Africa' 'Bulgaria'\n",
      " 'Romania' 'Serbia' 'Chile' 'Indonesia' 'Bahrain' 'Oman' 'Qatar']\n",
      "['Belgium' 'Luxembourg' 'France' 'Germany' 'Italy' 'Netherlands' 'Denmark'\n",
      " 'Greece' 'Spain' 'Portugal' 'Austria' 'Sweden' 'Finland' 'Irish Republic'\n",
      " 'Turkey' 'Switzerland' 'Norway' 'Iceland' 'Czech Republic' 'Poland'\n",
      " 'Hungary' 'Russia' 'Other Western Europe' 'Other Eastern Europe' 'USA'\n",
      " 'Canada' 'Mexico' 'Brazil' 'Argentina' 'Other Central & South America'\n",
      " 'Hong Kong' 'Malaysia' 'Thailand' 'Singapore' 'Taiwan' 'China'\n",
      " 'Other Asia' 'Japan' 'South Korea' 'Australia' 'New Zealand'\n",
      " 'United Arab Emirates' 'Saudi Arabia' 'Kuwait' 'Other Middle East'\n",
      " 'Egypt' 'Israel' 'India' 'Pakistan' 'South Africa'\n",
      " 'Other Southern Africa' 'Nigeria' 'Kenya' 'Other Africa' 'Bulgaria'\n",
      " 'Romania' 'Serbia' 'Chile' 'Indonesia' 'Bahrain' 'Oman' 'Qatar']\n",
      "['Belgium' 'Luxembourg' 'France' 'Germany' 'Italy' 'Netherlands' 'Denmark'\n",
      " 'Greece' 'Spain' 'Portugal' 'Austria' 'Sweden' 'Finland' 'Irish Republic'\n",
      " 'Turkey' 'Switzerland' 'Norway' 'Iceland' 'Czech Republic' 'Poland'\n",
      " 'Hungary' 'Russia' 'Other Western Europe' 'Other Eastern Europe' 'USA'\n",
      " 'Canada' 'Mexico' 'Brazil' 'Argentina' 'Other Central & South America'\n",
      " 'Hong Kong' 'Malaysia' 'Thailand' 'Singapore' 'Taiwan' 'China'\n",
      " 'Other Asia' 'Japan' 'South Korea' 'Australia' 'New Zealand'\n",
      " 'United Arab Emirates' 'Saudi Arabia' 'Kuwait' 'Other Middle East'\n",
      " 'Egypt' 'Israel' 'India' 'Pakistan' 'South Africa'\n",
      " 'Other Southern Africa' 'Nigeria' 'Kenya' 'Other Africa' 'Bulgaria'\n",
      " 'Romania' 'Serbia' 'Chile' 'Indonesia' 'Bahrain' 'Oman' 'Qatar']\n",
      "['Belgium' 'Luxembourg' 'France' 'Germany' 'Italy' 'Netherlands' 'Denmark'\n",
      " 'Greece' 'Spain' 'Portugal' 'Austria' 'Sweden' 'Finland' 'Irish Republic'\n",
      " 'Turkey' 'Switzerland' 'Norway' 'Iceland' 'Czech Republic' 'Poland'\n",
      " 'Hungary' 'Russia' 'Other Western Europe' 'Other Eastern Europe' 'USA'\n",
      " 'Canada' 'Mexico' 'Brazil' 'Argentina' 'Other Central & South America'\n",
      " 'Hong Kong' 'Malaysia' 'Thailand' 'Singapore' 'Taiwan' 'China'\n",
      " 'Other Asia' 'Japan' 'South Korea' 'Australia' 'New Zealand'\n",
      " 'United Arab Emirates' 'Saudi Arabia' 'Kuwait' 'Other Middle East'\n",
      " 'Egypt' 'Israel' 'India' 'Pakistan' 'South Africa'\n",
      " 'Other Southern Africa' 'Nigeria' 'Kenya' 'Other Africa' 'Bulgaria'\n",
      " 'Romania' 'Serbia' 'Chile' 'Indonesia' 'Bahrain' 'Oman' 'Qatar']\n",
      "['Belgium' 'Luxembourg' 'France' 'Germany' 'Italy' 'Netherlands' 'Denmark'\n",
      " 'Greece' 'Spain' 'Portugal' 'Austria' 'Sweden' 'Finland' 'Irish Republic'\n",
      " 'Turkey' 'Switzerland' 'Norway' 'Iceland' 'Czech Republic' 'Poland'\n",
      " 'Hungary' 'Russia' 'Other Western Europe' 'Other Eastern Europe' 'USA'\n",
      " 'Canada' 'Mexico' 'Brazil' 'Argentina' 'Other Central & South America'\n",
      " 'Hong Kong' 'Malaysia' 'Thailand' 'Singapore' 'Taiwan' 'China'\n",
      " 'Other Asia' 'Japan' 'South Korea' 'Australia' 'New Zealand'\n",
      " 'United Arab Emirates' 'Saudi Arabia' 'Kuwait' 'Other Middle East'\n",
      " 'Egypt' 'Israel' 'India' 'Pakistan' 'South Africa'\n",
      " 'Other Southern Africa' 'Nigeria' 'Kenya' 'Other Africa' 'Bulgaria'\n",
      " 'Romania' 'Serbia' 'Chile' 'Indonesia' 'Bahrain' 'Oman' 'Qatar']\n",
      "['Belgium' 'Luxembourg' 'France' 'Germany' 'Italy' 'Netherlands' 'Denmark'\n",
      " 'Greece' 'Spain' 'Portugal' 'Austria' 'Sweden' 'Finland' 'Irish Republic'\n",
      " 'Turkey' 'Switzerland' 'Norway' 'Iceland' 'Czech Republic' 'Poland'\n",
      " 'Hungary' 'Russia' 'Other Western Europe' 'Other Eastern Europe' 'USA'\n",
      " 'Canada' 'Mexico' 'Brazil' 'Argentina' 'Other Central & South America'\n",
      " 'Hong Kong' 'Malaysia' 'Thailand' 'Singapore' 'Taiwan' 'China'\n",
      " 'Other Asia' 'Japan' 'South Korea' 'Australia' 'New Zealand'\n",
      " 'United Arab Emirates' 'Saudi Arabia' 'Kuwait' 'Other Middle East'\n",
      " 'Egypt' 'Israel' 'India' 'Pakistan' 'South Africa'\n",
      " 'Other Southern Africa' 'Nigeria' 'Kenya' 'Other Africa' 'Bulgaria'\n",
      " 'Romania' 'Serbia' 'Chile' 'Indonesia' 'Bahrain' 'Oman' 'Qatar']\n",
      "['Belgium' 'Luxembourg' 'France' 'Germany' 'Italy' 'Netherlands' 'Denmark'\n",
      " 'Greece' 'Spain' 'Portugal' 'Austria' 'Sweden' 'Finland' 'Irish Republic'\n",
      " 'Turkey' 'Switzerland' 'Norway' 'Iceland' 'Czech Republic' 'Poland'\n",
      " 'Hungary' 'Russia' 'Other Western Europe' 'Other Eastern Europe' 'USA'\n",
      " 'Canada' 'Mexico' 'Brazil' 'Argentina' 'Other Central & South America'\n",
      " 'Hong Kong' 'Malaysia' 'Thailand' 'Singapore' 'Taiwan' 'China'\n",
      " 'Other Asia' 'Japan' 'South Korea' 'Australia' 'New Zealand'\n",
      " 'United Arab Emirates' 'Saudi Arabia' 'Kuwait' 'Other Middle East'\n",
      " 'Egypt' 'Israel' 'India' 'Pakistan' 'South Africa'\n",
      " 'Other Southern Africa' 'Nigeria' 'Kenya' 'Other Africa' 'Bulgaria'\n",
      " 'Romania' 'Serbia' 'Chile' 'Indonesia' 'Bahrain' 'Oman' 'Qatar']\n",
      "['Belgium' 'Luxembourg' 'France' 'Germany' 'Italy' 'Netherlands' 'Denmark'\n",
      " 'Greece' 'Spain' 'Portugal' 'Austria' 'Sweden' 'Finland' 'Irish Republic'\n",
      " 'Turkey' 'Switzerland' 'Norway' 'Iceland' 'Czech Republic' 'Poland'\n",
      " 'Hungary' 'Russia' 'Other Western Europe' 'Other Eastern Europe' 'USA'\n",
      " 'Canada' 'Mexico' 'Brazil' 'Argentina' 'Other Central & South America'\n",
      " 'Hong Kong' 'Malaysia' 'Thailand' 'Singapore' 'Taiwan' 'China'\n",
      " 'Other Asia' 'Japan' 'South Korea' 'Australia' 'New Zealand'\n",
      " 'United Arab Emirates' 'Saudi Arabia' 'Kuwait' 'Other Middle East'\n",
      " 'Egypt' 'Israel' 'India' 'Pakistan' 'South Africa'\n",
      " 'Other Southern Africa' 'Nigeria' 'Kenya' 'Other Africa' 'Bulgaria'\n",
      " 'Romania' 'Serbia' 'Chile' 'Indonesia' 'Bahrain' 'Oman' 'Qatar']\n",
      "['Belgium' 'Luxembourg' 'France' 'Germany' 'Italy' 'Netherlands' 'Denmark'\n",
      " 'Greece' 'Spain' 'Portugal' 'Austria' 'Sweden' 'Finland' 'Irish Republic'\n",
      " 'Turkey' 'Switzerland' 'Norway' 'Iceland' 'Czech Republic' 'Poland'\n",
      " 'Hungary' 'Russia' 'Other Western Europe' 'Other Eastern Europe' 'USA'\n",
      " 'Canada' 'Mexico' 'Brazil' 'Argentina' 'Other Central & South America'\n",
      " 'Hong Kong' 'Malaysia' 'Thailand' 'Singapore' 'Taiwan' 'China'\n",
      " 'Other Asia' 'Japan' 'South Korea' 'Australia' 'New Zealand'\n",
      " 'United Arab Emirates' 'Saudi Arabia' 'Kuwait' 'Other Middle East'\n",
      " 'Egypt' 'Israel' 'India' 'Pakistan' 'South Africa'\n",
      " 'Other Southern Africa' 'Nigeria' 'Kenya' 'Other Africa' 'Bulgaria'\n",
      " 'Romania' 'Serbia' 'Chile' 'Indonesia' 'Bahrain' 'Oman' 'Qatar']\n",
      "['Belgium' 'Luxembourg' 'France' 'Germany' 'Italy' 'Netherlands' 'Denmark'\n",
      " 'Greece' 'Spain' 'Portugal' 'Austria' 'Sweden' 'Finland' 'Irish Republic'\n",
      " 'Turkey' 'Switzerland' 'Norway' 'Iceland' 'Czech Republic' 'Poland'\n",
      " 'Hungary' 'Russia' 'Other Western Europe' 'Other Eastern Europe' 'USA'\n",
      " 'Canada' 'Mexico' 'Brazil' 'Argentina' 'Other Central & South America'\n",
      " 'Hong Kong' 'Malaysia' 'Thailand' 'Singapore' 'Taiwan' 'China'\n",
      " 'Other Asia' 'Japan' 'South Korea' 'Australia' 'New Zealand'\n",
      " 'United Arab Emirates' 'Saudi Arabia' 'Kuwait' 'Other Middle East'\n",
      " 'Egypt' 'Israel' 'India' 'Pakistan' 'South Africa'\n",
      " 'Other Southern Africa' 'Nigeria' 'Kenya' 'Other Africa' 'Bulgaria'\n",
      " 'Romania' 'Serbia' 'Chile' 'Indonesia' 'Bahrain' 'Oman' 'Qatar']\n",
      "['Belgium' 'Luxembourg' 'France' 'Germany' 'Italy' 'Netherlands' 'Denmark'\n",
      " 'Greece' 'Spain' 'Portugal' 'Austria' 'Sweden' 'Finland' 'Irish Republic'\n",
      " 'Turkey' 'Switzerland' 'Norway' 'Iceland' 'Czech Republic' 'Poland'\n",
      " 'Hungary' 'Russia' 'Other Western Europe' 'Other Eastern Europe' 'USA'\n",
      " 'Canada' 'Mexico' 'Brazil' 'Argentina' 'Other Central & South America'\n",
      " 'Hong Kong' 'Malaysia' 'Thailand' 'Singapore' 'Taiwan' 'China'\n",
      " 'Other Asia' 'Japan' 'South Korea' 'Australia' 'New Zealand'\n",
      " 'United Arab Emirates' 'Saudi Arabia' 'Kuwait' 'Other Middle East'\n",
      " 'Egypt' 'Israel' 'India' 'Pakistan' 'South Africa'\n",
      " 'Other Southern Africa' 'Nigeria' 'Kenya' 'Other Africa' 'Bulgaria'\n",
      " 'Romania' 'Serbia' 'Chile' 'Indonesia' 'Bahrain' 'Oman' 'Qatar']\n",
      "['Belgium' 'Luxembourg' 'France' 'Germany' 'Italy' 'Netherlands' 'Denmark'\n",
      " 'Greece' 'Spain' 'Portugal' 'Austria' 'Sweden' 'Finland' 'Irish Republic'\n",
      " 'Turkey' 'Switzerland' 'Norway' 'Iceland' 'Czech Republic' 'Poland'\n",
      " 'Hungary' 'Russia' 'Other Western Europe' 'Other Eastern Europe' 'USA'\n",
      " 'Canada' 'Mexico' 'Brazil' 'Argentina' 'Other Central & South America'\n",
      " 'Hong Kong' 'Malaysia' 'Thailand' 'Singapore' 'Taiwan' 'China'\n",
      " 'Other Asia' 'Japan' 'South Korea' 'Australia' 'New Zealand'\n",
      " 'United Arab Emirates' 'Saudi Arabia' 'Kuwait' 'Other Middle East'\n",
      " 'Egypt' 'Israel' 'India' 'Pakistan' 'South Africa'\n",
      " 'Other Southern Africa' 'Nigeria' 'Kenya' 'Other Africa' 'Bulgaria'\n",
      " 'Romania' 'Serbia' 'Chile' 'Indonesia' 'Bahrain' 'Oman' 'Qatar']\n",
      "['Belgium' 'Luxembourg' 'France' 'Germany' 'Italy' 'Netherlands' 'Denmark'\n",
      " 'Greece' 'Spain' 'Portugal' 'Austria' 'Sweden' 'Finland' 'Irish Republic'\n",
      " 'Turkey' 'Switzerland' 'Norway' 'Iceland' 'Czech Republic' 'Poland'\n",
      " 'Hungary' 'Russia' 'Other Western Europe' 'Other Eastern Europe' 'USA'\n",
      " 'Canada' 'Mexico' 'Brazil' 'Argentina' 'Other Central & South America'\n",
      " 'Hong Kong' 'Malaysia' 'Thailand' 'Singapore' 'Taiwan' 'China'\n",
      " 'Other Asia' 'Japan' 'South Korea' 'Australia' 'New Zealand'\n",
      " 'United Arab Emirates' 'Saudi Arabia' 'Kuwait' 'Other Middle East'\n",
      " 'Egypt' 'Israel' 'India' 'Pakistan' 'South Africa'\n",
      " 'Other Southern Africa' 'Nigeria' 'Kenya' 'Other Africa' 'Bulgaria'\n",
      " 'Romania' 'Serbia' 'Chile' 'Indonesia' 'Bahrain' 'Oman' 'Qatar']\n",
      "['Belgium' 'Luxembourg' 'France' 'Germany' 'Italy' 'Netherlands' 'Denmark'\n",
      " 'Greece' 'Spain' 'Portugal' 'Austria' 'Sweden' 'Finland' 'Irish Republic'\n",
      " 'Turkey' 'Switzerland' 'Norway' 'Iceland' 'Czech Republic' 'Poland'\n",
      " 'Hungary' 'Russia' 'Other Western Europe' 'Other Eastern Europe' 'USA'\n",
      " 'Canada' 'Mexico' 'Brazil' 'Argentina' 'Other Central & South America'\n",
      " 'Hong Kong' 'Malaysia' 'Thailand' 'Singapore' 'Taiwan' 'China'\n",
      " 'Other Asia' 'Japan' 'South Korea' 'Australia' 'New Zealand'\n",
      " 'United Arab Emirates' 'Saudi Arabia' 'Kuwait' 'Other Middle East'\n",
      " 'Egypt' 'Israel' 'India' 'Pakistan' 'South Africa'\n",
      " 'Other Southern Africa' 'Nigeria' 'Kenya' 'Other Africa' 'Bulgaria'\n",
      " 'Romania' 'Serbia' 'Chile' 'Indonesia' 'Bahrain' 'Oman' 'Qatar']\n",
      "['Belgium' 'Luxembourg' 'France' 'Germany' 'Italy' 'Netherlands' 'Denmark'\n",
      " 'Greece' 'Spain' 'Portugal' 'Austria' 'Sweden' 'Finland' 'Irish Republic'\n",
      " 'Turkey' 'Switzerland' 'Norway' 'Iceland' 'Czech Republic' 'Poland'\n",
      " 'Hungary' 'Russia' 'Other Western Europe' 'Other Eastern Europe' 'USA'\n",
      " 'Canada' 'Mexico' 'Brazil' 'Argentina' 'Other Central & South America'\n",
      " 'Hong Kong' 'Malaysia' 'Thailand' 'Singapore' 'Taiwan' 'China'\n",
      " 'Other Asia' 'Japan' 'South Korea' 'Australia' 'New Zealand'\n",
      " 'United Arab Emirates' 'Saudi Arabia' 'Kuwait' 'Other Middle East'\n",
      " 'Egypt' 'Israel' 'India' 'Pakistan' 'South Africa'\n",
      " 'Other Southern Africa' 'Nigeria' 'Kenya' 'Other Africa' 'Bulgaria'\n",
      " 'Romania' 'Serbia' 'Chile' 'Indonesia' 'Bahrain' 'Oman' 'Qatar']\n",
      "['Belgium' 'Luxembourg' 'France' 'Germany' 'Italy' 'Netherlands' 'Denmark'\n",
      " 'Greece' 'Spain' 'Portugal' 'Austria' 'Sweden' 'Finland' 'Irish Republic'\n",
      " 'Turkey' 'Switzerland' 'Norway' 'Iceland' 'Czech Republic' 'Poland'\n",
      " 'Hungary' 'Russia' 'Other Western Europe' 'Other Eastern Europe' 'USA'\n",
      " 'Canada' 'Mexico' 'Brazil' 'Argentina' 'Other Central & South America'\n",
      " 'Hong Kong' 'Malaysia' 'Thailand' 'Singapore' 'Taiwan' 'China'\n",
      " 'Other Asia' 'Japan' 'South Korea' 'Australia' 'New Zealand'\n",
      " 'United Arab Emirates' 'Saudi Arabia' 'Kuwait' 'Other Middle East'\n",
      " 'Egypt' 'Israel' 'India' 'Pakistan' 'South Africa'\n",
      " 'Other Southern Africa' 'Nigeria' 'Kenya' 'Other Africa' 'Bulgaria'\n",
      " 'Romania' 'Serbia' 'Chile' 'Indonesia' 'Bahrain' 'Oman' 'Qatar']\n",
      "['Belgium' 'Luxembourg' 'France' 'Germany' 'Italy' 'Netherlands' 'Denmark'\n",
      " 'Greece' 'Spain' 'Portugal' 'Austria' 'Sweden' 'Finland' 'Irish Republic'\n",
      " 'Turkey' 'Switzerland' 'Norway' 'Iceland' 'Czech Republic' 'Poland'\n",
      " 'Hungary' 'Russia' 'Other Western Europe' 'Other Eastern Europe' 'USA'\n",
      " 'Canada' 'Mexico' 'Brazil' 'Argentina' 'Other Central & South America'\n",
      " 'Hong Kong' 'Malaysia' 'Thailand' 'Singapore' 'Taiwan' 'China'\n",
      " 'Other Asia' 'Japan' 'South Korea' 'Australia' 'New Zealand'\n",
      " 'United Arab Emirates' 'Saudi Arabia' 'Kuwait' 'Other Middle East'\n",
      " 'Egypt' 'Israel' 'India' 'Pakistan' 'South Africa'\n",
      " 'Other Southern Africa' 'Nigeria' 'Kenya' 'Other Africa' 'Bulgaria'\n",
      " 'Romania' 'Serbia' 'Chile' 'Indonesia' 'Bahrain' 'Oman' 'Qatar']\n",
      "['Belgium' 'Luxembourg' 'France' 'Germany' 'Italy' 'Netherlands' 'Denmark'\n",
      " 'Greece' 'Spain' 'Portugal' 'Austria' 'Sweden' 'Finland' 'Irish Republic'\n",
      " 'Turkey' 'Switzerland' 'Norway' 'Iceland' 'Czech Republic' 'Poland'\n",
      " 'Hungary' 'Russia' 'Other Western Europe' 'Other Eastern Europe' 'USA'\n",
      " 'Canada' 'Mexico' 'Brazil' 'Argentina' 'Other Central & South America'\n",
      " 'Hong Kong' 'Malaysia' 'Thailand' 'Singapore' 'Taiwan' 'China'\n",
      " 'Other Asia' 'Japan' 'South Korea' 'Australia' 'New Zealand'\n",
      " 'United Arab Emirates' 'Saudi Arabia' 'Kuwait' 'Other Middle East'\n",
      " 'Egypt' 'Israel' 'India' 'Pakistan' 'South Africa'\n",
      " 'Other Southern Africa' 'Nigeria' 'Kenya' 'Other Africa' 'Bulgaria'\n",
      " 'Romania' 'Serbia' 'Chile' 'Indonesia' 'Bahrain' 'Oman' 'Qatar']\n",
      "['Belgium' 'Luxembourg' 'France' 'Germany' 'Italy' 'Netherlands' 'Denmark'\n",
      " 'Greece' 'Spain' 'Portugal' 'Austria' 'Sweden' 'Finland' 'Irish Republic'\n",
      " 'Turkey' 'Switzerland' 'Norway' 'Iceland' 'Czech Republic' 'Poland'\n",
      " 'Hungary' 'Russia' 'Other Western Europe' 'Other Eastern Europe' 'USA'\n",
      " 'Canada' 'Mexico' 'Brazil' 'Argentina' 'Other Central & South America'\n",
      " 'Hong Kong' 'Malaysia' 'Thailand' 'Singapore' 'Taiwan' 'China'\n",
      " 'Other Asia' 'Japan' 'South Korea' 'Australia' 'New Zealand'\n",
      " 'United Arab Emirates' 'Saudi Arabia' 'Kuwait' 'Other Middle East'\n",
      " 'Egypt' 'Israel' 'India' 'Pakistan' 'South Africa'\n",
      " 'Other Southern Africa' 'Nigeria' 'Kenya' 'Other Africa' 'Bulgaria'\n",
      " 'Romania' 'Serbia' 'Chile' 'Indonesia' 'Bahrain' 'Oman' 'Qatar']\n",
      "['Belgium' 'Luxembourg' 'France' 'Germany' 'Italy' 'Netherlands' 'Denmark'\n",
      " 'Greece' 'Spain' 'Portugal' 'Austria' 'Sweden' 'Finland' 'Irish Republic'\n",
      " 'Turkey' 'Switzerland' 'Norway' 'Iceland' 'Czech Republic' 'Poland'\n",
      " 'Hungary' 'Russia' 'Other Western Europe' 'Other Eastern Europe' 'USA'\n",
      " 'Canada' 'Mexico' 'Brazil' 'Argentina' 'Other Central & South America'\n",
      " 'Hong Kong' 'Malaysia' 'Thailand' 'Singapore' 'Taiwan' 'China'\n",
      " 'Other Asia' 'Japan' 'South Korea' 'Australia' 'New Zealand'\n",
      " 'United Arab Emirates' 'Saudi Arabia' 'Kuwait' 'Other Middle East'\n",
      " 'Egypt' 'Israel' 'India' 'Pakistan' 'South Africa'\n",
      " 'Other Southern Africa' 'Nigeria' 'Kenya' 'Other Africa' 'Bulgaria'\n",
      " 'Romania' 'Serbia' 'Chile' 'Indonesia' 'Bahrain' 'Oman' 'Qatar']\n",
      "['Belgium' 'Luxembourg' 'France' 'Germany' 'Italy' 'Netherlands' 'Denmark'\n",
      " 'Greece' 'Spain' 'Portugal' 'Austria' 'Sweden' 'Finland' 'Irish Republic'\n",
      " 'Turkey' 'Switzerland' 'Norway' 'Iceland' 'Czech Republic' 'Poland'\n",
      " 'Hungary' 'Russia' 'Other Western Europe' 'Other Eastern Europe' 'USA'\n",
      " 'Canada' 'Mexico' 'Brazil' 'Argentina' 'Other Central & South America'\n",
      " 'Hong Kong' 'Malaysia' 'Thailand' 'Singapore' 'Taiwan' 'China'\n",
      " 'Other Asia' 'Japan' 'South Korea' 'Australia' 'New Zealand'\n",
      " 'United Arab Emirates' 'Saudi Arabia' 'Kuwait' 'Other Middle East'\n",
      " 'Egypt' 'Israel' 'India' 'Pakistan' 'South Africa'\n",
      " 'Other Southern Africa' 'Nigeria' 'Kenya' 'Other Africa' 'Bulgaria'\n",
      " 'Romania' 'Serbia' 'Chile' 'Indonesia' 'Bahrain' 'Oman' 'Qatar']\n",
      "['Belgium' 'Luxembourg' 'France' 'Germany' 'Italy' 'Netherlands' 'Denmark'\n",
      " 'Greece' 'Spain' 'Portugal' 'Austria' 'Sweden' 'Finland' 'Irish Republic'\n",
      " 'Turkey' 'Switzerland' 'Norway' 'Iceland' 'Czech Republic' 'Poland'\n",
      " 'Hungary' 'Russia' 'Other Western Europe' 'Other Eastern Europe' 'USA'\n",
      " 'Canada' 'Mexico' 'Brazil' 'Argentina' 'Other Central & South America'\n",
      " 'Hong Kong' 'Malaysia' 'Thailand' 'Singapore' 'Taiwan' 'China'\n",
      " 'Other Asia' 'Japan' 'South Korea' 'Australia' 'New Zealand'\n",
      " 'United Arab Emirates' 'Saudi Arabia' 'Kuwait' 'Other Middle East'\n",
      " 'Egypt' 'Israel' 'India' 'Pakistan' 'South Africa'\n",
      " 'Other Southern Africa' 'Nigeria' 'Kenya' 'Other Africa' 'Bulgaria'\n",
      " 'Romania' 'Serbia' 'Chile' 'Indonesia' 'Bahrain' 'Oman' 'Qatar']\n",
      "['Belgium' 'Luxembourg' 'France' 'Germany' 'Italy' 'Netherlands' 'Denmark'\n",
      " 'Greece' 'Spain' 'Portugal' 'Austria' 'Sweden' 'Finland' 'Irish Republic'\n",
      " 'Turkey' 'Switzerland' 'Norway' 'Iceland' 'Czech Republic' 'Poland'\n",
      " 'Hungary' 'Russia' 'Other Western Europe' 'Other Eastern Europe' 'USA'\n",
      " 'Canada' 'Mexico' 'Brazil' 'Argentina' 'Other Central & South America'\n",
      " 'Hong Kong' 'Malaysia' 'Thailand' 'Singapore' 'Taiwan' 'China'\n",
      " 'Other Asia' 'Japan' 'South Korea' 'Australia' 'New Zealand'\n",
      " 'United Arab Emirates' 'Saudi Arabia' 'Kuwait' 'Other Middle East'\n",
      " 'Egypt' 'Israel' 'India' 'Pakistan' 'South Africa'\n",
      " 'Other Southern Africa' 'Nigeria' 'Kenya' 'Other Africa' 'Bulgaria'\n",
      " 'Romania' 'Serbia' 'Chile' 'Indonesia' 'Bahrain' 'Oman' 'Qatar']\n",
      "['Belgium' 'Luxembourg' 'France' 'Germany' 'Italy' 'Netherlands' 'Denmark'\n",
      " 'Greece' 'Spain' 'Portugal' 'Austria' 'Sweden' 'Finland' 'Irish Republic'\n",
      " 'Turkey' 'Switzerland' 'Norway' 'Iceland' 'Czech Republic' 'Poland'\n",
      " 'Hungary' 'Russia' 'Other Western Europe' 'Other Eastern Europe' 'USA'\n",
      " 'Canada' 'Mexico' 'Brazil' 'Argentina' 'Other Central & South America'\n",
      " 'Hong Kong' 'Malaysia' 'Thailand' 'Singapore' 'Taiwan' 'China'\n",
      " 'Other Asia' 'Japan' 'South Korea' 'Australia' 'New Zealand'\n",
      " 'United Arab Emirates' 'Saudi Arabia' 'Kuwait' 'Other Middle East'\n",
      " 'Egypt' 'Israel' 'India' 'Pakistan' 'South Africa'\n",
      " 'Other Southern Africa' 'Nigeria' 'Kenya' 'Other Africa' 'Bulgaria'\n",
      " 'Romania' 'Serbia' 'Chile' 'Indonesia' 'Bahrain' 'Oman' 'Qatar']\n",
      "['Belgium' 'Luxembourg' 'France' 'Germany' 'Italy' 'Netherlands' 'Denmark'\n",
      " 'Greece' 'Spain' 'Portugal' 'Austria' 'Sweden' 'Finland' 'Irish Republic'\n",
      " 'Turkey' 'Switzerland' 'Norway' 'Iceland' 'Czech Republic' 'Poland'\n",
      " 'Hungary' 'Russia' 'Other Western Europe' 'Other Eastern Europe' 'USA'\n",
      " 'Canada' 'Mexico' 'Brazil' 'Argentina' 'Other Central & South America'\n",
      " 'Hong Kong' 'Malaysia' 'Thailand' 'Singapore' 'Taiwan' 'China'\n",
      " 'Other Asia' 'Japan' 'South Korea' 'Australia' 'New Zealand'\n",
      " 'United Arab Emirates' 'Saudi Arabia' 'Kuwait' 'Other Middle East'\n",
      " 'Egypt' 'Israel' 'India' 'Pakistan' 'South Africa'\n",
      " 'Other Southern Africa' 'Nigeria' 'Kenya' 'Other Africa' 'Bulgaria'\n",
      " 'Romania' 'Serbia' 'Chile' 'Indonesia' 'Bahrain' 'Oman' 'Qatar']\n",
      "['Belgium' 'Luxembourg' 'France' 'Germany' 'Italy' 'Netherlands' 'Denmark'\n",
      " 'Greece' 'Spain' 'Portugal' 'Austria' 'Sweden' 'Finland' 'Irish Republic'\n",
      " 'Turkey' 'Switzerland' 'Norway' 'Iceland' 'Czech Republic' 'Poland'\n",
      " 'Hungary' 'Russia' 'Other Western Europe' 'Other Eastern Europe' 'USA'\n",
      " 'Canada' 'Mexico' 'Brazil' 'Argentina' 'Other Central & South America'\n",
      " 'Hong Kong' 'Malaysia' 'Thailand' 'Singapore' 'Taiwan' 'China'\n",
      " 'Other Asia' 'Japan' 'South Korea' 'Australia' 'New Zealand'\n",
      " 'United Arab Emirates' 'Saudi Arabia' 'Kuwait' 'Other Middle East'\n",
      " 'Egypt' 'Israel' 'India' 'Pakistan' 'South Africa'\n",
      " 'Other Southern Africa' 'Nigeria' 'Kenya' 'Other Africa' 'Bulgaria'\n",
      " 'Romania' 'Serbia' 'Chile' 'Indonesia' 'Bahrain' 'Oman' 'Qatar']\n",
      "['Belgium' 'Luxembourg' 'France' 'Germany' 'Italy' 'Netherlands' 'Denmark'\n",
      " 'Greece' 'Spain' 'Portugal' 'Austria' 'Sweden' 'Finland' 'Irish Republic'\n",
      " 'Turkey' 'Switzerland' 'Norway' 'Iceland' 'Czech Republic' 'Poland'\n",
      " 'Hungary' 'Russia' 'Other Western Europe' 'Other Eastern Europe' 'USA'\n",
      " 'Canada' 'Mexico' 'Brazil' 'Argentina' 'Other Central & South America'\n",
      " 'Hong Kong' 'Malaysia' 'Thailand' 'Singapore' 'Taiwan' 'China'\n",
      " 'Other Asia' 'Japan' 'South Korea' 'Australia' 'New Zealand'\n",
      " 'United Arab Emirates' 'Saudi Arabia' 'Kuwait' 'Other Middle East'\n",
      " 'Egypt' 'Israel' 'India' 'Pakistan' 'South Africa'\n",
      " 'Other Southern Africa' 'Nigeria' 'Kenya' 'Other Africa' 'Bulgaria'\n",
      " 'Romania' 'Serbia' 'Chile' 'Indonesia' 'Bahrain' 'Oman' 'Qatar']\n"
     ]
    }
   ],
   "source": [
    "unique_market = df[\"market\"].unique()\n",
    "\n",
    "for item in unique_market:\n",
    "    print(unique_market)"
   ]
  },
  {
   "cell_type": "code",
   "execution_count": 6,
   "metadata": {},
   "outputs": [
    {
     "name": "stdout",
     "output_type": "stream",
     "text": [
      "['1-3  nights' '4-7  nights' '8-14 nights' '15+  nights']\n",
      "['1-3  nights' '4-7  nights' '8-14 nights' '15+  nights']\n",
      "['1-3  nights' '4-7  nights' '8-14 nights' '15+  nights']\n",
      "['1-3  nights' '4-7  nights' '8-14 nights' '15+  nights']\n"
     ]
    }
   ],
   "source": [
    "unique_dur_stay = df[\"dur_stay\"].unique()\n",
    "\n",
    "for item in unique_dur_stay:\n",
    "    print(unique_dur_stay)"
   ]
  },
  {
   "cell_type": "code",
   "execution_count": 7,
   "metadata": {},
   "outputs": [
    {
     "name": "stdout",
     "output_type": "stream",
     "text": [
      "['Air' 'Sea' 'Tunnel']\n",
      "['Air' 'Sea' 'Tunnel']\n",
      "['Air' 'Sea' 'Tunnel']\n"
     ]
    }
   ],
   "source": [
    "unique_mode = df[\"mode\"].unique()\n",
    "\n",
    "for item in unique_mode:\n",
    "    print(unique_mode)"
   ]
  },
  {
   "cell_type": "code",
   "execution_count": 8,
   "metadata": {},
   "outputs": [
    {
     "name": "stdout",
     "output_type": "stream",
     "text": [
      "['Holiday' 'Business' 'VFR' 'Miscellaneous' 'Study']\n",
      "['Holiday' 'Business' 'VFR' 'Miscellaneous' 'Study']\n",
      "['Holiday' 'Business' 'VFR' 'Miscellaneous' 'Study']\n",
      "['Holiday' 'Business' 'VFR' 'Miscellaneous' 'Study']\n",
      "['Holiday' 'Business' 'VFR' 'Miscellaneous' 'Study']\n"
     ]
    }
   ],
   "source": [
    "unique_purpose = df[\"purpose\"].unique()\n",
    "\n",
    "for item in unique_purpose:\n",
    "    print(unique_purpose)"
   ]
  },
  {
   "cell_type": "code",
   "execution_count": 7,
   "metadata": {},
   "outputs": [
    {
     "data": {
      "text/html": [
       "<div>\n",
       "<style scoped>\n",
       "    .dataframe tbody tr th:only-of-type {\n",
       "        vertical-align: middle;\n",
       "    }\n",
       "\n",
       "    .dataframe tbody tr th {\n",
       "        vertical-align: top;\n",
       "    }\n",
       "\n",
       "    .dataframe thead th {\n",
       "        text-align: right;\n",
       "    }\n",
       "</style>\n",
       "<table border=\"1\" class=\"dataframe\">\n",
       "  <thead>\n",
       "    <tr style=\"text-align: right;\">\n",
       "      <th></th>\n",
       "      <th>year</th>\n",
       "      <th>quarter</th>\n",
       "      <th>market</th>\n",
       "      <th>dur_stay</th>\n",
       "      <th>mode</th>\n",
       "      <th>purpose</th>\n",
       "      <th>area</th>\n",
       "      <th>Visits (000s)</th>\n",
       "      <th>Spend_£m</th>\n",
       "      <th>Nights</th>\n",
       "      <th>sample</th>\n",
       "      <th>continent</th>\n",
       "    </tr>\n",
       "  </thead>\n",
       "  <tbody>\n",
       "    <tr>\n",
       "      <th>0</th>\n",
       "      <td>2002</td>\n",
       "      <td>January-March</td>\n",
       "      <td>Belgium</td>\n",
       "      <td>1-3  nights</td>\n",
       "      <td>Air</td>\n",
       "      <td>Holiday</td>\n",
       "      <td>LONDON</td>\n",
       "      <td>3.572186</td>\n",
       "      <td>0.969138</td>\n",
       "      <td>6.954456</td>\n",
       "      <td>5</td>\n",
       "      <td>Europe</td>\n",
       "    </tr>\n",
       "    <tr>\n",
       "      <th>1</th>\n",
       "      <td>2002</td>\n",
       "      <td>January-March</td>\n",
       "      <td>Belgium</td>\n",
       "      <td>1-3  nights</td>\n",
       "      <td>Air</td>\n",
       "      <td>Business</td>\n",
       "      <td>LONDON</td>\n",
       "      <td>9.284226</td>\n",
       "      <td>2.399577</td>\n",
       "      <td>12.604959</td>\n",
       "      <td>19</td>\n",
       "      <td>Europe</td>\n",
       "    </tr>\n",
       "    <tr>\n",
       "      <th>2</th>\n",
       "      <td>2002</td>\n",
       "      <td>January-March</td>\n",
       "      <td>Belgium</td>\n",
       "      <td>1-3  nights</td>\n",
       "      <td>Air</td>\n",
       "      <td>VFR</td>\n",
       "      <td>LONDON</td>\n",
       "      <td>0.877182</td>\n",
       "      <td>0.089833</td>\n",
       "      <td>2.153128</td>\n",
       "      <td>3</td>\n",
       "      <td>Europe</td>\n",
       "    </tr>\n",
       "    <tr>\n",
       "      <th>3</th>\n",
       "      <td>2002</td>\n",
       "      <td>January-March</td>\n",
       "      <td>Belgium</td>\n",
       "      <td>1-3  nights</td>\n",
       "      <td>Air</td>\n",
       "      <td>Miscellaneous</td>\n",
       "      <td>LONDON</td>\n",
       "      <td>0.163874</td>\n",
       "      <td>0.010160</td>\n",
       "      <td>0.163874</td>\n",
       "      <td>1</td>\n",
       "      <td>Europe</td>\n",
       "    </tr>\n",
       "    <tr>\n",
       "      <th>4</th>\n",
       "      <td>2002</td>\n",
       "      <td>January-March</td>\n",
       "      <td>Belgium</td>\n",
       "      <td>1-3  nights</td>\n",
       "      <td>Sea</td>\n",
       "      <td>Business</td>\n",
       "      <td>LONDON</td>\n",
       "      <td>1.648670</td>\n",
       "      <td>0.016789</td>\n",
       "      <td>1.650300</td>\n",
       "      <td>1</td>\n",
       "      <td>Europe</td>\n",
       "    </tr>\n",
       "  </tbody>\n",
       "</table>\n",
       "</div>"
      ],
      "text/plain": [
       "   year        quarter   market     dur_stay mode        purpose     area  \\\n",
       "0  2002  January-March  Belgium  1-3  nights  Air        Holiday   LONDON   \n",
       "1  2002  January-March  Belgium  1-3  nights  Air       Business   LONDON   \n",
       "2  2002  January-March  Belgium  1-3  nights  Air            VFR   LONDON   \n",
       "3  2002  January-March  Belgium  1-3  nights  Air  Miscellaneous   LONDON   \n",
       "4  2002  January-March  Belgium  1-3  nights  Sea       Business   LONDON   \n",
       "\n",
       "   Visits (000s)  Spend_£m     Nights  sample continent  \n",
       "0       3.572186  0.969138   6.954456       5    Europe  \n",
       "1       9.284226  2.399577  12.604959      19    Europe  \n",
       "2       0.877182  0.089833   2.153128       3    Europe  \n",
       "3       0.163874  0.010160   0.163874       1    Europe  \n",
       "4       1.648670  0.016789   1.650300       1    Europe  "
      ]
     },
     "metadata": {},
     "output_type": "display_data"
    }
   ],
   "source": [
    "# Dictionary mapping markets to continents\n",
    "market_to_continent = {\n",
    "    'Belgium': 'Europe',\n",
    "    'Luxembourg': 'Europe',\n",
    "    'France': 'Europe',\n",
    "    'Germany': 'Europe',\n",
    "    'Italy': 'Europe',\n",
    "    'Netherlands': 'Europe',\n",
    "    'Denmark': 'Europe',\n",
    "    'Greece': 'Europe',\n",
    "    'Spain': 'Europe',\n",
    "    'Portugal': 'Europe',\n",
    "    'Austria': 'Europe',\n",
    "    'Sweden': 'Europe',\n",
    "    'Finland': 'Europe',\n",
    "    'Irish Republic': 'Europe',\n",
    "    'Turkey': 'Europe',\n",
    "    'Switzerland': 'Europe',\n",
    "    'Norway': 'Europe',\n",
    "    'Iceland': 'Europe',\n",
    "    'Czech Republic': 'Europe',\n",
    "    'Poland': 'Europe',\n",
    "    'Hungary': 'Europe',\n",
    "    'Russia': 'Europe',\n",
    "    'Other Western Europe': 'Europe',\n",
    "    'Other Eastern Europe': 'Europe',\n",
    "    'USA': 'North America',\n",
    "    'Canada': 'North America',\n",
    "    'Mexico': 'North America',\n",
    "    'Brazil': 'South America',\n",
    "    'Argentina': 'South America',\n",
    "    'Other Central & South America': 'South America',\n",
    "    'Hong Kong': 'Asia',\n",
    "    'Malaysia': 'Asia',\n",
    "    'Thailand': 'Asia',\n",
    "    'Singapore': 'Asia',\n",
    "    'Taiwan': 'Asia',\n",
    "    'China': 'Asia',\n",
    "    'Other Asia': 'Asia',\n",
    "    'Japan': 'Asia',\n",
    "    'South Korea': 'Asia',\n",
    "    'Australia': 'Australia',\n",
    "    'New Zealand': 'Australia',\n",
    "    'United Arab Emirates': 'Middle East',\n",
    "    'Saudi Arabia': 'Middle East',\n",
    "    'Kuwait': 'Middle East',\n",
    "    'Other Middle East': 'Middle East',\n",
    "    'Egypt': 'Africa',\n",
    "    'Israel': 'Middle East',\n",
    "    'India': 'Asia',\n",
    "    'Pakistan': 'Asia',\n",
    "    'South Africa': 'Africa',\n",
    "    'Other Southern Africa': 'Africa',\n",
    "    'Nigeria': 'Africa',\n",
    "    'Kenya': 'Africa',\n",
    "    'Other Africa': 'Africa',\n",
    "    'Bulgaria': 'Europe',\n",
    "    'Romania': 'Europe',\n",
    "    'Serbia': 'Europe',\n",
    "    'Chile': 'South America',\n",
    "    'Indonesia': 'Asia',\n",
    "    'Bahrain': 'Middle East',\n",
    "    'Oman': 'Middle East',\n",
    "    'Qatar': 'Middle East'\n",
    "}\n",
    "\n",
    "# Add a new column 'continent' to the DataFrame based on the market\n",
    "df['continent'] = df['market'].map(market_to_continent)\n",
    "\n",
    "# Display the DataFrame with the new column\n",
    "display(df.head())"
   ]
  },
  {
   "cell_type": "code",
   "execution_count": 11,
   "metadata": {},
   "outputs": [],
   "source": [
    "gr_cat = df[[\"continent\",\n",
    "             \"market\"]].groupby([\"continent\",\n",
    "                                       \"market\"], as_index=False).size()"
   ]
  },
  {
   "cell_type": "code",
   "execution_count": 13,
   "metadata": {},
   "outputs": [
    {
     "data": {
      "application/vnd.plotly.v1+json": {
       "config": {
        "plotlyServerURL": "https://plot.ly"
       },
       "data": [
        {
         "branchvalues": "total",
         "customdata": [
          [
           "South America"
          ],
          [
           "Australia"
          ],
          [
           "Europe"
          ],
          [
           "Middle East"
          ],
          [
           "Europe"
          ],
          [
           "South America"
          ],
          [
           "Asia"
          ],
          [
           "Europe"
          ],
          [
           "Europe"
          ],
          [
           "Europe"
          ],
          [
           "Africa"
          ],
          [
           "Europe"
          ],
          [
           "Europe"
          ],
          [
           "Asia"
          ],
          [
           "South America"
          ],
          [
           "North America"
          ],
          [
           "Europe"
          ],
          [
           "Europe"
          ],
          [
           "Europe"
          ],
          [
           "Europe"
          ],
          [
           "Africa"
          ],
          [
           "Asia"
          ],
          [
           "South America"
          ],
          [
           "Europe"
          ],
          [
           "Middle East"
          ],
          [
           "Europe"
          ],
          [
           "Europe"
          ],
          [
           "Asia"
          ],
          [
           "Europe"
          ],
          [
           "Middle East"
          ],
          [
           "Middle East"
          ],
          [
           "Africa"
          ],
          [
           "Europe"
          ],
          [
           "North America"
          ],
          [
           "Australia"
          ],
          [
           "Africa"
          ],
          [
           "Asia"
          ],
          [
           "Asia"
          ],
          [
           "Europe"
          ],
          [
           "Middle East"
          ],
          [
           "Asia"
          ],
          [
           "Europe"
          ],
          [
           "Middle East"
          ],
          [
           "Europe"
          ],
          [
           "Asia"
          ],
          [
           "Europe"
          ],
          [
           "Africa"
          ],
          [
           "Africa"
          ],
          [
           "Europe"
          ],
          [
           "Asia"
          ],
          [
           "Asia"
          ],
          [
           "Europe"
          ],
          [
           "Middle East"
          ],
          [
           "Europe"
          ],
          [
           "Europe"
          ],
          [
           "Europe"
          ],
          [
           "Europe"
          ],
          [
           "Asia"
          ],
          [
           "North America"
          ],
          [
           "Asia"
          ],
          [
           "Europe"
          ],
          [
           "Middle East"
          ],
          [
           "Africa"
          ],
          [
           "Asia"
          ],
          [
           "Australia"
          ],
          [
           "Europe"
          ],
          [
           "Middle East"
          ],
          [
           "North America"
          ],
          [
           "South America"
          ]
         ],
         "domain": {
          "x": [
           0,
           1
          ],
          "y": [
           0,
           1
          ]
         },
         "hovertemplate": "labels=%{label}<br>size=%{value}<br>parent=%{parent}<br>id=%{id}<br>continent=%{customdata[0]}<extra></extra>",
         "ids": [
          "South America/Argentina",
          "Australia/Australia",
          "Europe/Austria",
          "Middle East/Bahrain",
          "Europe/Belgium",
          "South America/Brazil",
          "Asia/Hong Kong",
          "Europe/Germany",
          "Europe/France",
          "Europe/Finland",
          "Africa/Egypt",
          "Europe/Greece",
          "Europe/Czech Republic",
          "Asia/China",
          "South America/Chile",
          "North America/Canada",
          "Europe/Bulgaria",
          "Europe/Denmark",
          "Europe/Hungary",
          "Europe/Iceland",
          "Africa/Other Africa",
          "Asia/Other Asia",
          "South America/Other Central & South America",
          "Europe/Other Eastern Europe",
          "Middle East/Other Middle East",
          "Europe/Poland",
          "Europe/Other Western Europe",
          "Asia/Pakistan",
          "Europe/Portugal",
          "Middle East/Qatar",
          "Middle East/Oman",
          "Africa/Other Southern Africa",
          "Europe/Norway",
          "North America/Mexico",
          "Australia/New Zealand",
          "Africa/Nigeria",
          "Asia/India",
          "Asia/Indonesia",
          "Europe/Irish Republic",
          "Middle East/Israel",
          "Asia/Japan",
          "Europe/Italy",
          "Middle East/Kuwait",
          "Europe/Luxembourg",
          "Asia/Malaysia",
          "Europe/Netherlands",
          "Africa/Kenya",
          "Africa/South Africa",
          "Europe/Spain",
          "Asia/South Korea",
          "Asia/Singapore",
          "Europe/Romania",
          "Middle East/Saudi Arabia",
          "Europe/Russia",
          "Europe/Serbia",
          "Europe/Sweden",
          "Europe/Switzerland",
          "Asia/Taiwan",
          "North America/USA",
          "Asia/Thailand",
          "Europe/Turkey",
          "Middle East/United Arab Emirates",
          "Africa",
          "Asia",
          "Australia",
          "Europe",
          "Middle East",
          "North America",
          "South America"
         ],
         "labels": [
          "Argentina",
          "Australia",
          "Austria",
          "Bahrain",
          "Belgium",
          "Brazil",
          "Hong Kong",
          "Germany",
          "France",
          "Finland",
          "Egypt",
          "Greece",
          "Czech Republic",
          "China",
          "Chile",
          "Canada",
          "Bulgaria",
          "Denmark",
          "Hungary",
          "Iceland",
          "Other Africa",
          "Other Asia",
          "Other Central & South America",
          "Other Eastern Europe",
          "Other Middle East",
          "Poland",
          "Other Western Europe",
          "Pakistan",
          "Portugal",
          "Qatar",
          "Oman",
          "Other Southern Africa",
          "Norway",
          "Mexico",
          "New Zealand",
          "Nigeria",
          "India",
          "Indonesia",
          "Irish Republic",
          "Israel",
          "Japan",
          "Italy",
          "Kuwait",
          "Luxembourg",
          "Malaysia",
          "Netherlands",
          "Kenya",
          "South Africa",
          "Spain",
          "South Korea",
          "Singapore",
          "Romania",
          "Saudi Arabia",
          "Russia",
          "Serbia",
          "Sweden",
          "Switzerland",
          "Taiwan",
          "USA",
          "Thailand",
          "Turkey",
          "United Arab Emirates",
          "Africa",
          "Asia",
          "Australia",
          "Europe",
          "Middle East",
          "North America",
          "South America"
         ],
         "marker": {
          "colors": [
           "#636efa",
           "#EF553B",
           "#00cc96",
           "#ab63fa",
           "#00cc96",
           "#636efa",
           "#FFA15A",
           "#00cc96",
           "#00cc96",
           "#00cc96",
           "#19d3f3",
           "#00cc96",
           "#00cc96",
           "#FFA15A",
           "#636efa",
           "#FF6692",
           "#00cc96",
           "#00cc96",
           "#00cc96",
           "#00cc96",
           "#19d3f3",
           "#FFA15A",
           "#636efa",
           "#00cc96",
           "#ab63fa",
           "#00cc96",
           "#00cc96",
           "#FFA15A",
           "#00cc96",
           "#ab63fa",
           "#ab63fa",
           "#19d3f3",
           "#00cc96",
           "#FF6692",
           "#EF553B",
           "#19d3f3",
           "#FFA15A",
           "#FFA15A",
           "#00cc96",
           "#ab63fa",
           "#FFA15A",
           "#00cc96",
           "#ab63fa",
           "#00cc96",
           "#FFA15A",
           "#00cc96",
           "#19d3f3",
           "#19d3f3",
           "#00cc96",
           "#FFA15A",
           "#FFA15A",
           "#00cc96",
           "#ab63fa",
           "#00cc96",
           "#00cc96",
           "#00cc96",
           "#00cc96",
           "#FFA15A",
           "#FF6692",
           "#FFA15A",
           "#00cc96",
           "#ab63fa",
           "#19d3f3",
           "#FFA15A",
           "#EF553B",
           "#00cc96",
           "#ab63fa",
           "#FF6692",
           "#636efa"
          ]
         },
         "name": "",
         "parents": [
          "South America",
          "Australia",
          "Europe",
          "Middle East",
          "Europe",
          "South America",
          "Asia",
          "Europe",
          "Europe",
          "Europe",
          "Africa",
          "Europe",
          "Europe",
          "Asia",
          "South America",
          "North America",
          "Europe",
          "Europe",
          "Europe",
          "Europe",
          "Africa",
          "Asia",
          "South America",
          "Europe",
          "Middle East",
          "Europe",
          "Europe",
          "Asia",
          "Europe",
          "Middle East",
          "Middle East",
          "Africa",
          "Europe",
          "North America",
          "Australia",
          "Africa",
          "Asia",
          "Asia",
          "Europe",
          "Middle East",
          "Asia",
          "Europe",
          "Middle East",
          "Europe",
          "Asia",
          "Europe",
          "Africa",
          "Africa",
          "Europe",
          "Asia",
          "Asia",
          "Europe",
          "Middle East",
          "Europe",
          "Europe",
          "Europe",
          "Europe",
          "Asia",
          "North America",
          "Asia",
          "Europe",
          "Middle East",
          "",
          "",
          "",
          "",
          "",
          "",
          ""
         ],
         "textinfo": "label+percent parent",
         "type": "sunburst",
         "values": [
          660,
          1943,
          858,
          268,
          1485,
          1203,
          1086,
          2206,
          2611,
          765,
          650,
          846,
          903,
          992,
          242,
          1573,
          431,
          966,
          755,
          409,
          1068,
          971,
          1066,
          1240,
          941,
          1461,
          960,
          749,
          888,
          383,
          219,
          406,
          946,
          784,
          1156,
          1037,
          1309,
          254,
          1397,
          949,
          1206,
          1426,
          733,
          442,
          978,
          1957,
          532,
          1141,
          1468,
          884,
          1011,
          754,
          865,
          979,
          171,
          1063,
          1167,
          543,
          2498,
          664,
          838,
          1106,
          4834,
          10647,
          3099,
          29392,
          5464,
          4855,
          3171
         ]
        }
       ],
       "layout": {
        "font": {
         "size": 10
        },
        "height": 800,
        "legend": {
         "tracegroupgap": 0
        },
        "margin": {
         "b": 50,
         "l": 10,
         "r": 10,
         "t": 30
        },
        "template": {
         "data": {
          "bar": [
           {
            "error_x": {
             "color": "#2a3f5f"
            },
            "error_y": {
             "color": "#2a3f5f"
            },
            "marker": {
             "line": {
              "color": "#E5ECF6",
              "width": 0.5
             },
             "pattern": {
              "fillmode": "overlay",
              "size": 10,
              "solidity": 0.2
             }
            },
            "type": "bar"
           }
          ],
          "barpolar": [
           {
            "marker": {
             "line": {
              "color": "#E5ECF6",
              "width": 0.5
             },
             "pattern": {
              "fillmode": "overlay",
              "size": 10,
              "solidity": 0.2
             }
            },
            "type": "barpolar"
           }
          ],
          "carpet": [
           {
            "aaxis": {
             "endlinecolor": "#2a3f5f",
             "gridcolor": "white",
             "linecolor": "white",
             "minorgridcolor": "white",
             "startlinecolor": "#2a3f5f"
            },
            "baxis": {
             "endlinecolor": "#2a3f5f",
             "gridcolor": "white",
             "linecolor": "white",
             "minorgridcolor": "white",
             "startlinecolor": "#2a3f5f"
            },
            "type": "carpet"
           }
          ],
          "choropleth": [
           {
            "colorbar": {
             "outlinewidth": 0,
             "ticks": ""
            },
            "type": "choropleth"
           }
          ],
          "contour": [
           {
            "colorbar": {
             "outlinewidth": 0,
             "ticks": ""
            },
            "colorscale": [
             [
              0,
              "#0d0887"
             ],
             [
              0.1111111111111111,
              "#46039f"
             ],
             [
              0.2222222222222222,
              "#7201a8"
             ],
             [
              0.3333333333333333,
              "#9c179e"
             ],
             [
              0.4444444444444444,
              "#bd3786"
             ],
             [
              0.5555555555555556,
              "#d8576b"
             ],
             [
              0.6666666666666666,
              "#ed7953"
             ],
             [
              0.7777777777777778,
              "#fb9f3a"
             ],
             [
              0.8888888888888888,
              "#fdca26"
             ],
             [
              1,
              "#f0f921"
             ]
            ],
            "type": "contour"
           }
          ],
          "contourcarpet": [
           {
            "colorbar": {
             "outlinewidth": 0,
             "ticks": ""
            },
            "type": "contourcarpet"
           }
          ],
          "heatmap": [
           {
            "colorbar": {
             "outlinewidth": 0,
             "ticks": ""
            },
            "colorscale": [
             [
              0,
              "#0d0887"
             ],
             [
              0.1111111111111111,
              "#46039f"
             ],
             [
              0.2222222222222222,
              "#7201a8"
             ],
             [
              0.3333333333333333,
              "#9c179e"
             ],
             [
              0.4444444444444444,
              "#bd3786"
             ],
             [
              0.5555555555555556,
              "#d8576b"
             ],
             [
              0.6666666666666666,
              "#ed7953"
             ],
             [
              0.7777777777777778,
              "#fb9f3a"
             ],
             [
              0.8888888888888888,
              "#fdca26"
             ],
             [
              1,
              "#f0f921"
             ]
            ],
            "type": "heatmap"
           }
          ],
          "heatmapgl": [
           {
            "colorbar": {
             "outlinewidth": 0,
             "ticks": ""
            },
            "colorscale": [
             [
              0,
              "#0d0887"
             ],
             [
              0.1111111111111111,
              "#46039f"
             ],
             [
              0.2222222222222222,
              "#7201a8"
             ],
             [
              0.3333333333333333,
              "#9c179e"
             ],
             [
              0.4444444444444444,
              "#bd3786"
             ],
             [
              0.5555555555555556,
              "#d8576b"
             ],
             [
              0.6666666666666666,
              "#ed7953"
             ],
             [
              0.7777777777777778,
              "#fb9f3a"
             ],
             [
              0.8888888888888888,
              "#fdca26"
             ],
             [
              1,
              "#f0f921"
             ]
            ],
            "type": "heatmapgl"
           }
          ],
          "histogram": [
           {
            "marker": {
             "pattern": {
              "fillmode": "overlay",
              "size": 10,
              "solidity": 0.2
             }
            },
            "type": "histogram"
           }
          ],
          "histogram2d": [
           {
            "colorbar": {
             "outlinewidth": 0,
             "ticks": ""
            },
            "colorscale": [
             [
              0,
              "#0d0887"
             ],
             [
              0.1111111111111111,
              "#46039f"
             ],
             [
              0.2222222222222222,
              "#7201a8"
             ],
             [
              0.3333333333333333,
              "#9c179e"
             ],
             [
              0.4444444444444444,
              "#bd3786"
             ],
             [
              0.5555555555555556,
              "#d8576b"
             ],
             [
              0.6666666666666666,
              "#ed7953"
             ],
             [
              0.7777777777777778,
              "#fb9f3a"
             ],
             [
              0.8888888888888888,
              "#fdca26"
             ],
             [
              1,
              "#f0f921"
             ]
            ],
            "type": "histogram2d"
           }
          ],
          "histogram2dcontour": [
           {
            "colorbar": {
             "outlinewidth": 0,
             "ticks": ""
            },
            "colorscale": [
             [
              0,
              "#0d0887"
             ],
             [
              0.1111111111111111,
              "#46039f"
             ],
             [
              0.2222222222222222,
              "#7201a8"
             ],
             [
              0.3333333333333333,
              "#9c179e"
             ],
             [
              0.4444444444444444,
              "#bd3786"
             ],
             [
              0.5555555555555556,
              "#d8576b"
             ],
             [
              0.6666666666666666,
              "#ed7953"
             ],
             [
              0.7777777777777778,
              "#fb9f3a"
             ],
             [
              0.8888888888888888,
              "#fdca26"
             ],
             [
              1,
              "#f0f921"
             ]
            ],
            "type": "histogram2dcontour"
           }
          ],
          "mesh3d": [
           {
            "colorbar": {
             "outlinewidth": 0,
             "ticks": ""
            },
            "type": "mesh3d"
           }
          ],
          "parcoords": [
           {
            "line": {
             "colorbar": {
              "outlinewidth": 0,
              "ticks": ""
             }
            },
            "type": "parcoords"
           }
          ],
          "pie": [
           {
            "automargin": true,
            "type": "pie"
           }
          ],
          "scatter": [
           {
            "fillpattern": {
             "fillmode": "overlay",
             "size": 10,
             "solidity": 0.2
            },
            "type": "scatter"
           }
          ],
          "scatter3d": [
           {
            "line": {
             "colorbar": {
              "outlinewidth": 0,
              "ticks": ""
             }
            },
            "marker": {
             "colorbar": {
              "outlinewidth": 0,
              "ticks": ""
             }
            },
            "type": "scatter3d"
           }
          ],
          "scattercarpet": [
           {
            "marker": {
             "colorbar": {
              "outlinewidth": 0,
              "ticks": ""
             }
            },
            "type": "scattercarpet"
           }
          ],
          "scattergeo": [
           {
            "marker": {
             "colorbar": {
              "outlinewidth": 0,
              "ticks": ""
             }
            },
            "type": "scattergeo"
           }
          ],
          "scattergl": [
           {
            "marker": {
             "colorbar": {
              "outlinewidth": 0,
              "ticks": ""
             }
            },
            "type": "scattergl"
           }
          ],
          "scattermapbox": [
           {
            "marker": {
             "colorbar": {
              "outlinewidth": 0,
              "ticks": ""
             }
            },
            "type": "scattermapbox"
           }
          ],
          "scatterpolar": [
           {
            "marker": {
             "colorbar": {
              "outlinewidth": 0,
              "ticks": ""
             }
            },
            "type": "scatterpolar"
           }
          ],
          "scatterpolargl": [
           {
            "marker": {
             "colorbar": {
              "outlinewidth": 0,
              "ticks": ""
             }
            },
            "type": "scatterpolargl"
           }
          ],
          "scatterternary": [
           {
            "marker": {
             "colorbar": {
              "outlinewidth": 0,
              "ticks": ""
             }
            },
            "type": "scatterternary"
           }
          ],
          "surface": [
           {
            "colorbar": {
             "outlinewidth": 0,
             "ticks": ""
            },
            "colorscale": [
             [
              0,
              "#0d0887"
             ],
             [
              0.1111111111111111,
              "#46039f"
             ],
             [
              0.2222222222222222,
              "#7201a8"
             ],
             [
              0.3333333333333333,
              "#9c179e"
             ],
             [
              0.4444444444444444,
              "#bd3786"
             ],
             [
              0.5555555555555556,
              "#d8576b"
             ],
             [
              0.6666666666666666,
              "#ed7953"
             ],
             [
              0.7777777777777778,
              "#fb9f3a"
             ],
             [
              0.8888888888888888,
              "#fdca26"
             ],
             [
              1,
              "#f0f921"
             ]
            ],
            "type": "surface"
           }
          ],
          "table": [
           {
            "cells": {
             "fill": {
              "color": "#EBF0F8"
             },
             "line": {
              "color": "white"
             }
            },
            "header": {
             "fill": {
              "color": "#C8D4E3"
             },
             "line": {
              "color": "white"
             }
            },
            "type": "table"
           }
          ]
         },
         "layout": {
          "annotationdefaults": {
           "arrowcolor": "#2a3f5f",
           "arrowhead": 0,
           "arrowwidth": 1
          },
          "autotypenumbers": "strict",
          "coloraxis": {
           "colorbar": {
            "outlinewidth": 0,
            "ticks": ""
           }
          },
          "colorscale": {
           "diverging": [
            [
             0,
             "#8e0152"
            ],
            [
             0.1,
             "#c51b7d"
            ],
            [
             0.2,
             "#de77ae"
            ],
            [
             0.3,
             "#f1b6da"
            ],
            [
             0.4,
             "#fde0ef"
            ],
            [
             0.5,
             "#f7f7f7"
            ],
            [
             0.6,
             "#e6f5d0"
            ],
            [
             0.7,
             "#b8e186"
            ],
            [
             0.8,
             "#7fbc41"
            ],
            [
             0.9,
             "#4d9221"
            ],
            [
             1,
             "#276419"
            ]
           ],
           "sequential": [
            [
             0,
             "#0d0887"
            ],
            [
             0.1111111111111111,
             "#46039f"
            ],
            [
             0.2222222222222222,
             "#7201a8"
            ],
            [
             0.3333333333333333,
             "#9c179e"
            ],
            [
             0.4444444444444444,
             "#bd3786"
            ],
            [
             0.5555555555555556,
             "#d8576b"
            ],
            [
             0.6666666666666666,
             "#ed7953"
            ],
            [
             0.7777777777777778,
             "#fb9f3a"
            ],
            [
             0.8888888888888888,
             "#fdca26"
            ],
            [
             1,
             "#f0f921"
            ]
           ],
           "sequentialminus": [
            [
             0,
             "#0d0887"
            ],
            [
             0.1111111111111111,
             "#46039f"
            ],
            [
             0.2222222222222222,
             "#7201a8"
            ],
            [
             0.3333333333333333,
             "#9c179e"
            ],
            [
             0.4444444444444444,
             "#bd3786"
            ],
            [
             0.5555555555555556,
             "#d8576b"
            ],
            [
             0.6666666666666666,
             "#ed7953"
            ],
            [
             0.7777777777777778,
             "#fb9f3a"
            ],
            [
             0.8888888888888888,
             "#fdca26"
            ],
            [
             1,
             "#f0f921"
            ]
           ]
          },
          "colorway": [
           "#636efa",
           "#EF553B",
           "#00cc96",
           "#ab63fa",
           "#FFA15A",
           "#19d3f3",
           "#FF6692",
           "#B6E880",
           "#FF97FF",
           "#FECB52"
          ],
          "font": {
           "color": "#2a3f5f"
          },
          "geo": {
           "bgcolor": "white",
           "lakecolor": "white",
           "landcolor": "#E5ECF6",
           "showlakes": true,
           "showland": true,
           "subunitcolor": "white"
          },
          "hoverlabel": {
           "align": "left"
          },
          "hovermode": "closest",
          "mapbox": {
           "style": "light"
          },
          "paper_bgcolor": "white",
          "plot_bgcolor": "#E5ECF6",
          "polar": {
           "angularaxis": {
            "gridcolor": "white",
            "linecolor": "white",
            "ticks": ""
           },
           "bgcolor": "#E5ECF6",
           "radialaxis": {
            "gridcolor": "white",
            "linecolor": "white",
            "ticks": ""
           }
          },
          "scene": {
           "xaxis": {
            "backgroundcolor": "#E5ECF6",
            "gridcolor": "white",
            "gridwidth": 2,
            "linecolor": "white",
            "showbackground": true,
            "ticks": "",
            "zerolinecolor": "white"
           },
           "yaxis": {
            "backgroundcolor": "#E5ECF6",
            "gridcolor": "white",
            "gridwidth": 2,
            "linecolor": "white",
            "showbackground": true,
            "ticks": "",
            "zerolinecolor": "white"
           },
           "zaxis": {
            "backgroundcolor": "#E5ECF6",
            "gridcolor": "white",
            "gridwidth": 2,
            "linecolor": "white",
            "showbackground": true,
            "ticks": "",
            "zerolinecolor": "white"
           }
          },
          "shapedefaults": {
           "line": {
            "color": "#2a3f5f"
           }
          },
          "ternary": {
           "aaxis": {
            "gridcolor": "white",
            "linecolor": "white",
            "ticks": ""
           },
           "baxis": {
            "gridcolor": "white",
            "linecolor": "white",
            "ticks": ""
           },
           "bgcolor": "#E5ECF6",
           "caxis": {
            "gridcolor": "white",
            "linecolor": "white",
            "ticks": ""
           }
          },
          "title": {
           "x": 0.05
          },
          "xaxis": {
           "automargin": true,
           "gridcolor": "white",
           "linecolor": "white",
           "ticks": "",
           "title": {
            "standoff": 15
           },
           "zerolinecolor": "white",
           "zerolinewidth": 2
          },
          "yaxis": {
           "automargin": true,
           "gridcolor": "white",
           "linecolor": "white",
           "ticks": "",
           "title": {
            "standoff": 15
           },
           "zerolinecolor": "white",
           "zerolinewidth": 2
          }
         }
        },
        "title": {
         "text": "<span style='font-size:18px;'><b>London tourists by continent and country</b></span><b></b>"
        },
        "width": 1280
       }
      }
     },
     "metadata": {},
     "output_type": "display_data"
    }
   ],
   "source": [
    "import plotly.express as px\n",
    "\n",
    "fig = px.sunburst(gr_cat, width=1280, height=800,\n",
    "                  path=[\"continent\", \"market\"], values=\"size\",\n",
    "                  color=\"continent\",\n",
    "                  title=\"<span style='font-size:18px;'><b>London tourists by continent and country</b></span><b></b>\"\n",
    "                  )\n",
    "fig.update_layout(font_size=10, margin=dict(l=10, r=10, t=30, b=50))\n",
    "fig.update_traces(textinfo=\"label+percent parent\")\n",
    "fig.show()"
   ]
  },
  {
   "cell_type": "code",
   "execution_count": 14,
   "metadata": {},
   "outputs": [],
   "source": [
    "gr_cat_mode = df[[\"continent\",\n",
    "             \"mode\"]].groupby([\"continent\",\n",
    "                                       \"mode\"], as_index=False).size()"
   ]
  },
  {
   "cell_type": "code",
   "execution_count": 15,
   "metadata": {},
   "outputs": [
    {
     "data": {
      "application/vnd.plotly.v1+json": {
       "config": {
        "plotlyServerURL": "https://plot.ly"
       },
       "data": [
        {
         "branchvalues": "total",
         "customdata": [
          [
           "Africa"
          ],
          [
           "Asia"
          ],
          [
           "Australia"
          ],
          [
           "Europe"
          ],
          [
           "Middle East"
          ],
          [
           "North America"
          ],
          [
           "South America"
          ],
          [
           "Africa"
          ],
          [
           "Asia"
          ],
          [
           "Middle East"
          ],
          [
           "Europe"
          ],
          [
           "Australia"
          ],
          [
           "North America"
          ],
          [
           "South America"
          ],
          [
           "Africa"
          ],
          [
           "Asia"
          ],
          [
           "Australia"
          ],
          [
           "Europe"
          ],
          [
           "Middle East"
          ],
          [
           "North America"
          ],
          [
           "South America"
          ],
          [
           "Africa"
          ],
          [
           "Asia"
          ],
          [
           "Australia"
          ],
          [
           "Europe"
          ],
          [
           "Middle East"
          ],
          [
           "North America"
          ],
          [
           "South America"
          ]
         ],
         "domain": {
          "x": [
           0,
           1
          ],
          "y": [
           0,
           1
          ]
         },
         "hovertemplate": "labels=%{label}<br>size=%{value}<br>parent=%{parent}<br>id=%{id}<br>continent=%{customdata[0]}<extra></extra>",
         "ids": [
          "Africa/Air",
          "Asia/Air",
          "Australia/Air",
          "Europe/Air",
          "Middle East/Air",
          "North America/Air",
          "South America/Air",
          "Africa/Sea",
          "Asia/Sea",
          "Middle East/Sea",
          "Europe/Sea",
          "Australia/Sea",
          "North America/Sea",
          "South America/Sea",
          "Africa/Tunnel",
          "Asia/Tunnel",
          "Australia/Tunnel",
          "Europe/Tunnel",
          "Middle East/Tunnel",
          "North America/Tunnel",
          "South America/Tunnel",
          "Africa",
          "Asia",
          "Australia",
          "Europe",
          "Middle East",
          "North America",
          "South America"
         ],
         "labels": [
          "Air",
          "Air",
          "Air",
          "Air",
          "Air",
          "Air",
          "Air",
          "Sea",
          "Sea",
          "Sea",
          "Sea",
          "Sea",
          "Sea",
          "Sea",
          "Tunnel",
          "Tunnel",
          "Tunnel",
          "Tunnel",
          "Tunnel",
          "Tunnel",
          "Tunnel",
          "Africa",
          "Asia",
          "Australia",
          "Europe",
          "Middle East",
          "North America",
          "South America"
         ],
         "marker": {
          "colors": [
           "#636efa",
           "#EF553B",
           "#00cc96",
           "#ab63fa",
           "#FFA15A",
           "#19d3f3",
           "#FF6692",
           "#636efa",
           "#EF553B",
           "#FFA15A",
           "#ab63fa",
           "#00cc96",
           "#19d3f3",
           "#FF6692",
           "#636efa",
           "#EF553B",
           "#00cc96",
           "#ab63fa",
           "#FFA15A",
           "#19d3f3",
           "#FF6692",
           "#636efa",
           "#EF553B",
           "#00cc96",
           "#ab63fa",
           "#FFA15A",
           "#19d3f3",
           "#FF6692"
          ]
         },
         "name": "",
         "parents": [
          "Africa",
          "Asia",
          "Australia",
          "Europe",
          "Middle East",
          "North America",
          "South America",
          "Africa",
          "Asia",
          "Middle East",
          "Europe",
          "Australia",
          "North America",
          "South America",
          "Africa",
          "Asia",
          "Australia",
          "Europe",
          "Middle East",
          "North America",
          "South America",
          "",
          "",
          "",
          "",
          "",
          "",
          ""
         ],
         "textinfo": "label+percent parent",
         "type": "sunburst",
         "values": [
          4488,
          9267,
          1951,
          20462,
          5123,
          3042,
          2445,
          88,
          271,
          50,
          4384,
          428,
          610,
          171,
          258,
          1109,
          720,
          4546,
          291,
          1203,
          555,
          4834,
          10647,
          3099,
          29392,
          5464,
          4855,
          3171
         ]
        }
       ],
       "layout": {
        "font": {
         "size": 10
        },
        "height": 800,
        "legend": {
         "tracegroupgap": 0
        },
        "margin": {
         "b": 50,
         "l": 10,
         "r": 10,
         "t": 30
        },
        "template": {
         "data": {
          "bar": [
           {
            "error_x": {
             "color": "#2a3f5f"
            },
            "error_y": {
             "color": "#2a3f5f"
            },
            "marker": {
             "line": {
              "color": "#E5ECF6",
              "width": 0.5
             },
             "pattern": {
              "fillmode": "overlay",
              "size": 10,
              "solidity": 0.2
             }
            },
            "type": "bar"
           }
          ],
          "barpolar": [
           {
            "marker": {
             "line": {
              "color": "#E5ECF6",
              "width": 0.5
             },
             "pattern": {
              "fillmode": "overlay",
              "size": 10,
              "solidity": 0.2
             }
            },
            "type": "barpolar"
           }
          ],
          "carpet": [
           {
            "aaxis": {
             "endlinecolor": "#2a3f5f",
             "gridcolor": "white",
             "linecolor": "white",
             "minorgridcolor": "white",
             "startlinecolor": "#2a3f5f"
            },
            "baxis": {
             "endlinecolor": "#2a3f5f",
             "gridcolor": "white",
             "linecolor": "white",
             "minorgridcolor": "white",
             "startlinecolor": "#2a3f5f"
            },
            "type": "carpet"
           }
          ],
          "choropleth": [
           {
            "colorbar": {
             "outlinewidth": 0,
             "ticks": ""
            },
            "type": "choropleth"
           }
          ],
          "contour": [
           {
            "colorbar": {
             "outlinewidth": 0,
             "ticks": ""
            },
            "colorscale": [
             [
              0,
              "#0d0887"
             ],
             [
              0.1111111111111111,
              "#46039f"
             ],
             [
              0.2222222222222222,
              "#7201a8"
             ],
             [
              0.3333333333333333,
              "#9c179e"
             ],
             [
              0.4444444444444444,
              "#bd3786"
             ],
             [
              0.5555555555555556,
              "#d8576b"
             ],
             [
              0.6666666666666666,
              "#ed7953"
             ],
             [
              0.7777777777777778,
              "#fb9f3a"
             ],
             [
              0.8888888888888888,
              "#fdca26"
             ],
             [
              1,
              "#f0f921"
             ]
            ],
            "type": "contour"
           }
          ],
          "contourcarpet": [
           {
            "colorbar": {
             "outlinewidth": 0,
             "ticks": ""
            },
            "type": "contourcarpet"
           }
          ],
          "heatmap": [
           {
            "colorbar": {
             "outlinewidth": 0,
             "ticks": ""
            },
            "colorscale": [
             [
              0,
              "#0d0887"
             ],
             [
              0.1111111111111111,
              "#46039f"
             ],
             [
              0.2222222222222222,
              "#7201a8"
             ],
             [
              0.3333333333333333,
              "#9c179e"
             ],
             [
              0.4444444444444444,
              "#bd3786"
             ],
             [
              0.5555555555555556,
              "#d8576b"
             ],
             [
              0.6666666666666666,
              "#ed7953"
             ],
             [
              0.7777777777777778,
              "#fb9f3a"
             ],
             [
              0.8888888888888888,
              "#fdca26"
             ],
             [
              1,
              "#f0f921"
             ]
            ],
            "type": "heatmap"
           }
          ],
          "heatmapgl": [
           {
            "colorbar": {
             "outlinewidth": 0,
             "ticks": ""
            },
            "colorscale": [
             [
              0,
              "#0d0887"
             ],
             [
              0.1111111111111111,
              "#46039f"
             ],
             [
              0.2222222222222222,
              "#7201a8"
             ],
             [
              0.3333333333333333,
              "#9c179e"
             ],
             [
              0.4444444444444444,
              "#bd3786"
             ],
             [
              0.5555555555555556,
              "#d8576b"
             ],
             [
              0.6666666666666666,
              "#ed7953"
             ],
             [
              0.7777777777777778,
              "#fb9f3a"
             ],
             [
              0.8888888888888888,
              "#fdca26"
             ],
             [
              1,
              "#f0f921"
             ]
            ],
            "type": "heatmapgl"
           }
          ],
          "histogram": [
           {
            "marker": {
             "pattern": {
              "fillmode": "overlay",
              "size": 10,
              "solidity": 0.2
             }
            },
            "type": "histogram"
           }
          ],
          "histogram2d": [
           {
            "colorbar": {
             "outlinewidth": 0,
             "ticks": ""
            },
            "colorscale": [
             [
              0,
              "#0d0887"
             ],
             [
              0.1111111111111111,
              "#46039f"
             ],
             [
              0.2222222222222222,
              "#7201a8"
             ],
             [
              0.3333333333333333,
              "#9c179e"
             ],
             [
              0.4444444444444444,
              "#bd3786"
             ],
             [
              0.5555555555555556,
              "#d8576b"
             ],
             [
              0.6666666666666666,
              "#ed7953"
             ],
             [
              0.7777777777777778,
              "#fb9f3a"
             ],
             [
              0.8888888888888888,
              "#fdca26"
             ],
             [
              1,
              "#f0f921"
             ]
            ],
            "type": "histogram2d"
           }
          ],
          "histogram2dcontour": [
           {
            "colorbar": {
             "outlinewidth": 0,
             "ticks": ""
            },
            "colorscale": [
             [
              0,
              "#0d0887"
             ],
             [
              0.1111111111111111,
              "#46039f"
             ],
             [
              0.2222222222222222,
              "#7201a8"
             ],
             [
              0.3333333333333333,
              "#9c179e"
             ],
             [
              0.4444444444444444,
              "#bd3786"
             ],
             [
              0.5555555555555556,
              "#d8576b"
             ],
             [
              0.6666666666666666,
              "#ed7953"
             ],
             [
              0.7777777777777778,
              "#fb9f3a"
             ],
             [
              0.8888888888888888,
              "#fdca26"
             ],
             [
              1,
              "#f0f921"
             ]
            ],
            "type": "histogram2dcontour"
           }
          ],
          "mesh3d": [
           {
            "colorbar": {
             "outlinewidth": 0,
             "ticks": ""
            },
            "type": "mesh3d"
           }
          ],
          "parcoords": [
           {
            "line": {
             "colorbar": {
              "outlinewidth": 0,
              "ticks": ""
             }
            },
            "type": "parcoords"
           }
          ],
          "pie": [
           {
            "automargin": true,
            "type": "pie"
           }
          ],
          "scatter": [
           {
            "fillpattern": {
             "fillmode": "overlay",
             "size": 10,
             "solidity": 0.2
            },
            "type": "scatter"
           }
          ],
          "scatter3d": [
           {
            "line": {
             "colorbar": {
              "outlinewidth": 0,
              "ticks": ""
             }
            },
            "marker": {
             "colorbar": {
              "outlinewidth": 0,
              "ticks": ""
             }
            },
            "type": "scatter3d"
           }
          ],
          "scattercarpet": [
           {
            "marker": {
             "colorbar": {
              "outlinewidth": 0,
              "ticks": ""
             }
            },
            "type": "scattercarpet"
           }
          ],
          "scattergeo": [
           {
            "marker": {
             "colorbar": {
              "outlinewidth": 0,
              "ticks": ""
             }
            },
            "type": "scattergeo"
           }
          ],
          "scattergl": [
           {
            "marker": {
             "colorbar": {
              "outlinewidth": 0,
              "ticks": ""
             }
            },
            "type": "scattergl"
           }
          ],
          "scattermapbox": [
           {
            "marker": {
             "colorbar": {
              "outlinewidth": 0,
              "ticks": ""
             }
            },
            "type": "scattermapbox"
           }
          ],
          "scatterpolar": [
           {
            "marker": {
             "colorbar": {
              "outlinewidth": 0,
              "ticks": ""
             }
            },
            "type": "scatterpolar"
           }
          ],
          "scatterpolargl": [
           {
            "marker": {
             "colorbar": {
              "outlinewidth": 0,
              "ticks": ""
             }
            },
            "type": "scatterpolargl"
           }
          ],
          "scatterternary": [
           {
            "marker": {
             "colorbar": {
              "outlinewidth": 0,
              "ticks": ""
             }
            },
            "type": "scatterternary"
           }
          ],
          "surface": [
           {
            "colorbar": {
             "outlinewidth": 0,
             "ticks": ""
            },
            "colorscale": [
             [
              0,
              "#0d0887"
             ],
             [
              0.1111111111111111,
              "#46039f"
             ],
             [
              0.2222222222222222,
              "#7201a8"
             ],
             [
              0.3333333333333333,
              "#9c179e"
             ],
             [
              0.4444444444444444,
              "#bd3786"
             ],
             [
              0.5555555555555556,
              "#d8576b"
             ],
             [
              0.6666666666666666,
              "#ed7953"
             ],
             [
              0.7777777777777778,
              "#fb9f3a"
             ],
             [
              0.8888888888888888,
              "#fdca26"
             ],
             [
              1,
              "#f0f921"
             ]
            ],
            "type": "surface"
           }
          ],
          "table": [
           {
            "cells": {
             "fill": {
              "color": "#EBF0F8"
             },
             "line": {
              "color": "white"
             }
            },
            "header": {
             "fill": {
              "color": "#C8D4E3"
             },
             "line": {
              "color": "white"
             }
            },
            "type": "table"
           }
          ]
         },
         "layout": {
          "annotationdefaults": {
           "arrowcolor": "#2a3f5f",
           "arrowhead": 0,
           "arrowwidth": 1
          },
          "autotypenumbers": "strict",
          "coloraxis": {
           "colorbar": {
            "outlinewidth": 0,
            "ticks": ""
           }
          },
          "colorscale": {
           "diverging": [
            [
             0,
             "#8e0152"
            ],
            [
             0.1,
             "#c51b7d"
            ],
            [
             0.2,
             "#de77ae"
            ],
            [
             0.3,
             "#f1b6da"
            ],
            [
             0.4,
             "#fde0ef"
            ],
            [
             0.5,
             "#f7f7f7"
            ],
            [
             0.6,
             "#e6f5d0"
            ],
            [
             0.7,
             "#b8e186"
            ],
            [
             0.8,
             "#7fbc41"
            ],
            [
             0.9,
             "#4d9221"
            ],
            [
             1,
             "#276419"
            ]
           ],
           "sequential": [
            [
             0,
             "#0d0887"
            ],
            [
             0.1111111111111111,
             "#46039f"
            ],
            [
             0.2222222222222222,
             "#7201a8"
            ],
            [
             0.3333333333333333,
             "#9c179e"
            ],
            [
             0.4444444444444444,
             "#bd3786"
            ],
            [
             0.5555555555555556,
             "#d8576b"
            ],
            [
             0.6666666666666666,
             "#ed7953"
            ],
            [
             0.7777777777777778,
             "#fb9f3a"
            ],
            [
             0.8888888888888888,
             "#fdca26"
            ],
            [
             1,
             "#f0f921"
            ]
           ],
           "sequentialminus": [
            [
             0,
             "#0d0887"
            ],
            [
             0.1111111111111111,
             "#46039f"
            ],
            [
             0.2222222222222222,
             "#7201a8"
            ],
            [
             0.3333333333333333,
             "#9c179e"
            ],
            [
             0.4444444444444444,
             "#bd3786"
            ],
            [
             0.5555555555555556,
             "#d8576b"
            ],
            [
             0.6666666666666666,
             "#ed7953"
            ],
            [
             0.7777777777777778,
             "#fb9f3a"
            ],
            [
             0.8888888888888888,
             "#fdca26"
            ],
            [
             1,
             "#f0f921"
            ]
           ]
          },
          "colorway": [
           "#636efa",
           "#EF553B",
           "#00cc96",
           "#ab63fa",
           "#FFA15A",
           "#19d3f3",
           "#FF6692",
           "#B6E880",
           "#FF97FF",
           "#FECB52"
          ],
          "font": {
           "color": "#2a3f5f"
          },
          "geo": {
           "bgcolor": "white",
           "lakecolor": "white",
           "landcolor": "#E5ECF6",
           "showlakes": true,
           "showland": true,
           "subunitcolor": "white"
          },
          "hoverlabel": {
           "align": "left"
          },
          "hovermode": "closest",
          "mapbox": {
           "style": "light"
          },
          "paper_bgcolor": "white",
          "plot_bgcolor": "#E5ECF6",
          "polar": {
           "angularaxis": {
            "gridcolor": "white",
            "linecolor": "white",
            "ticks": ""
           },
           "bgcolor": "#E5ECF6",
           "radialaxis": {
            "gridcolor": "white",
            "linecolor": "white",
            "ticks": ""
           }
          },
          "scene": {
           "xaxis": {
            "backgroundcolor": "#E5ECF6",
            "gridcolor": "white",
            "gridwidth": 2,
            "linecolor": "white",
            "showbackground": true,
            "ticks": "",
            "zerolinecolor": "white"
           },
           "yaxis": {
            "backgroundcolor": "#E5ECF6",
            "gridcolor": "white",
            "gridwidth": 2,
            "linecolor": "white",
            "showbackground": true,
            "ticks": "",
            "zerolinecolor": "white"
           },
           "zaxis": {
            "backgroundcolor": "#E5ECF6",
            "gridcolor": "white",
            "gridwidth": 2,
            "linecolor": "white",
            "showbackground": true,
            "ticks": "",
            "zerolinecolor": "white"
           }
          },
          "shapedefaults": {
           "line": {
            "color": "#2a3f5f"
           }
          },
          "ternary": {
           "aaxis": {
            "gridcolor": "white",
            "linecolor": "white",
            "ticks": ""
           },
           "baxis": {
            "gridcolor": "white",
            "linecolor": "white",
            "ticks": ""
           },
           "bgcolor": "#E5ECF6",
           "caxis": {
            "gridcolor": "white",
            "linecolor": "white",
            "ticks": ""
           }
          },
          "title": {
           "x": 0.05
          },
          "xaxis": {
           "automargin": true,
           "gridcolor": "white",
           "linecolor": "white",
           "ticks": "",
           "title": {
            "standoff": 15
           },
           "zerolinecolor": "white",
           "zerolinewidth": 2
          },
          "yaxis": {
           "automargin": true,
           "gridcolor": "white",
           "linecolor": "white",
           "ticks": "",
           "title": {
            "standoff": 15
           },
           "zerolinecolor": "white",
           "zerolinewidth": 2
          }
         }
        },
        "title": {
         "text": "<span style='font-size:18px;'><b>London tourists by continent and country</b></span><b></b>"
        },
        "width": 1280
       }
      }
     },
     "metadata": {},
     "output_type": "display_data"
    }
   ],
   "source": [
    "import plotly.express as px\n",
    "\n",
    "fig = px.sunburst(gr_cat_mode, width=1280, height=800,\n",
    "                  path=[\"continent\", \"mode\"], values=\"size\",\n",
    "                  color=\"continent\",\n",
    "                  title=\"<span style='font-size:18px;'><b>London tourists by continent and country</b></span><b></b>\"\n",
    "                  )\n",
    "fig.update_layout(font_size=10, margin=dict(l=10, r=10, t=30, b=50))\n",
    "fig.update_traces(textinfo=\"label+percent parent\")\n",
    "fig.show()"
   ]
  },
  {
   "cell_type": "code",
   "execution_count": 16,
   "metadata": {},
   "outputs": [
    {
     "data": {
      "application/vnd.plotly.v1+json": {
       "config": {
        "plotlyServerURL": "https://plot.ly"
       },
       "data": [
        {
         "branchvalues": "total",
         "customdata": [
          [
           "South America"
          ],
          [
           "Australia"
          ],
          [
           "Europe"
          ],
          [
           "Middle East"
          ],
          [
           "Europe"
          ],
          [
           "South America"
          ],
          [
           "Asia"
          ],
          [
           "Europe"
          ],
          [
           "Europe"
          ],
          [
           "Europe"
          ],
          [
           "Africa"
          ],
          [
           "Europe"
          ],
          [
           "Europe"
          ],
          [
           "Asia"
          ],
          [
           "South America"
          ],
          [
           "North America"
          ],
          [
           "Europe"
          ],
          [
           "Europe"
          ],
          [
           "Europe"
          ],
          [
           "Europe"
          ],
          [
           "Africa"
          ],
          [
           "Asia"
          ],
          [
           "South America"
          ],
          [
           "Europe"
          ],
          [
           "Middle East"
          ],
          [
           "Europe"
          ],
          [
           "Europe"
          ],
          [
           "Asia"
          ],
          [
           "Europe"
          ],
          [
           "Middle East"
          ],
          [
           "Middle East"
          ],
          [
           "Africa"
          ],
          [
           "Europe"
          ],
          [
           "North America"
          ],
          [
           "Australia"
          ],
          [
           "Africa"
          ],
          [
           "Asia"
          ],
          [
           "Asia"
          ],
          [
           "Europe"
          ],
          [
           "Middle East"
          ],
          [
           "Asia"
          ],
          [
           "Europe"
          ],
          [
           "Middle East"
          ],
          [
           "Europe"
          ],
          [
           "Asia"
          ],
          [
           "Europe"
          ],
          [
           "Africa"
          ],
          [
           "Africa"
          ],
          [
           "Europe"
          ],
          [
           "Asia"
          ],
          [
           "Asia"
          ],
          [
           "Europe"
          ],
          [
           "Middle East"
          ],
          [
           "Europe"
          ],
          [
           "Europe"
          ],
          [
           "Europe"
          ],
          [
           "Europe"
          ],
          [
           "Asia"
          ],
          [
           "North America"
          ],
          [
           "Asia"
          ],
          [
           "Europe"
          ],
          [
           "Middle East"
          ],
          [
           "Africa"
          ],
          [
           "Asia"
          ],
          [
           "Australia"
          ],
          [
           "Europe"
          ],
          [
           "Middle East"
          ],
          [
           "North America"
          ],
          [
           "South America"
          ]
         ],
         "domain": {
          "x": [
           0,
           1
          ],
          "y": [
           0,
           1
          ]
         },
         "hovertemplate": "labels=%{label}<br>size=%{value}<br>parent=%{parent}<br>id=%{id}<br>continent=%{customdata[0]}<extra></extra>",
         "ids": [
          "South America/Argentina",
          "Australia/Australia",
          "Europe/Austria",
          "Middle East/Bahrain",
          "Europe/Belgium",
          "South America/Brazil",
          "Asia/Hong Kong",
          "Europe/Germany",
          "Europe/France",
          "Europe/Finland",
          "Africa/Egypt",
          "Europe/Greece",
          "Europe/Czech Republic",
          "Asia/China",
          "South America/Chile",
          "North America/Canada",
          "Europe/Bulgaria",
          "Europe/Denmark",
          "Europe/Hungary",
          "Europe/Iceland",
          "Africa/Other Africa",
          "Asia/Other Asia",
          "South America/Other Central & South America",
          "Europe/Other Eastern Europe",
          "Middle East/Other Middle East",
          "Europe/Poland",
          "Europe/Other Western Europe",
          "Asia/Pakistan",
          "Europe/Portugal",
          "Middle East/Qatar",
          "Middle East/Oman",
          "Africa/Other Southern Africa",
          "Europe/Norway",
          "North America/Mexico",
          "Australia/New Zealand",
          "Africa/Nigeria",
          "Asia/India",
          "Asia/Indonesia",
          "Europe/Irish Republic",
          "Middle East/Israel",
          "Asia/Japan",
          "Europe/Italy",
          "Middle East/Kuwait",
          "Europe/Luxembourg",
          "Asia/Malaysia",
          "Europe/Netherlands",
          "Africa/Kenya",
          "Africa/South Africa",
          "Europe/Spain",
          "Asia/South Korea",
          "Asia/Singapore",
          "Europe/Romania",
          "Middle East/Saudi Arabia",
          "Europe/Russia",
          "Europe/Serbia",
          "Europe/Sweden",
          "Europe/Switzerland",
          "Asia/Taiwan",
          "North America/USA",
          "Asia/Thailand",
          "Europe/Turkey",
          "Middle East/United Arab Emirates",
          "Africa",
          "Asia",
          "Australia",
          "Europe",
          "Middle East",
          "North America",
          "South America"
         ],
         "labels": [
          "Argentina",
          "Australia",
          "Austria",
          "Bahrain",
          "Belgium",
          "Brazil",
          "Hong Kong",
          "Germany",
          "France",
          "Finland",
          "Egypt",
          "Greece",
          "Czech Republic",
          "China",
          "Chile",
          "Canada",
          "Bulgaria",
          "Denmark",
          "Hungary",
          "Iceland",
          "Other Africa",
          "Other Asia",
          "Other Central & South America",
          "Other Eastern Europe",
          "Other Middle East",
          "Poland",
          "Other Western Europe",
          "Pakistan",
          "Portugal",
          "Qatar",
          "Oman",
          "Other Southern Africa",
          "Norway",
          "Mexico",
          "New Zealand",
          "Nigeria",
          "India",
          "Indonesia",
          "Irish Republic",
          "Israel",
          "Japan",
          "Italy",
          "Kuwait",
          "Luxembourg",
          "Malaysia",
          "Netherlands",
          "Kenya",
          "South Africa",
          "Spain",
          "South Korea",
          "Singapore",
          "Romania",
          "Saudi Arabia",
          "Russia",
          "Serbia",
          "Sweden",
          "Switzerland",
          "Taiwan",
          "USA",
          "Thailand",
          "Turkey",
          "United Arab Emirates",
          "Africa",
          "Asia",
          "Australia",
          "Europe",
          "Middle East",
          "North America",
          "South America"
         ],
         "marker": {
          "colors": [
           "#636efa",
           "#EF553B",
           "#00cc96",
           "#ab63fa",
           "#00cc96",
           "#636efa",
           "#FFA15A",
           "#00cc96",
           "#00cc96",
           "#00cc96",
           "#19d3f3",
           "#00cc96",
           "#00cc96",
           "#FFA15A",
           "#636efa",
           "#FF6692",
           "#00cc96",
           "#00cc96",
           "#00cc96",
           "#00cc96",
           "#19d3f3",
           "#FFA15A",
           "#636efa",
           "#00cc96",
           "#ab63fa",
           "#00cc96",
           "#00cc96",
           "#FFA15A",
           "#00cc96",
           "#ab63fa",
           "#ab63fa",
           "#19d3f3",
           "#00cc96",
           "#FF6692",
           "#EF553B",
           "#19d3f3",
           "#FFA15A",
           "#FFA15A",
           "#00cc96",
           "#ab63fa",
           "#FFA15A",
           "#00cc96",
           "#ab63fa",
           "#00cc96",
           "#FFA15A",
           "#00cc96",
           "#19d3f3",
           "#19d3f3",
           "#00cc96",
           "#FFA15A",
           "#FFA15A",
           "#00cc96",
           "#ab63fa",
           "#00cc96",
           "#00cc96",
           "#00cc96",
           "#00cc96",
           "#FFA15A",
           "#FF6692",
           "#FFA15A",
           "#00cc96",
           "#ab63fa",
           "#19d3f3",
           "#FFA15A",
           "#EF553B",
           "#00cc96",
           "#ab63fa",
           "#FF6692",
           "#636efa"
          ]
         },
         "name": "",
         "parents": [
          "South America",
          "Australia",
          "Europe",
          "Middle East",
          "Europe",
          "South America",
          "Asia",
          "Europe",
          "Europe",
          "Europe",
          "Africa",
          "Europe",
          "Europe",
          "Asia",
          "South America",
          "North America",
          "Europe",
          "Europe",
          "Europe",
          "Europe",
          "Africa",
          "Asia",
          "South America",
          "Europe",
          "Middle East",
          "Europe",
          "Europe",
          "Asia",
          "Europe",
          "Middle East",
          "Middle East",
          "Africa",
          "Europe",
          "North America",
          "Australia",
          "Africa",
          "Asia",
          "Asia",
          "Europe",
          "Middle East",
          "Asia",
          "Europe",
          "Middle East",
          "Europe",
          "Asia",
          "Europe",
          "Africa",
          "Africa",
          "Europe",
          "Asia",
          "Asia",
          "Europe",
          "Middle East",
          "Europe",
          "Europe",
          "Europe",
          "Europe",
          "Asia",
          "North America",
          "Asia",
          "Europe",
          "Middle East",
          "",
          "",
          "",
          "",
          "",
          "",
          ""
         ],
         "textinfo": "label+percent parent",
         "type": "treemap",
         "values": [
          660,
          1943,
          858,
          268,
          1485,
          1203,
          1086,
          2206,
          2611,
          765,
          650,
          846,
          903,
          992,
          242,
          1573,
          431,
          966,
          755,
          409,
          1068,
          971,
          1066,
          1240,
          941,
          1461,
          960,
          749,
          888,
          383,
          219,
          406,
          946,
          784,
          1156,
          1037,
          1309,
          254,
          1397,
          949,
          1206,
          1426,
          733,
          442,
          978,
          1957,
          532,
          1141,
          1468,
          884,
          1011,
          754,
          865,
          979,
          171,
          1063,
          1167,
          543,
          2498,
          664,
          838,
          1106,
          4834,
          10647,
          3099,
          29392,
          5464,
          4855,
          3171
         ]
        }
       ],
       "layout": {
        "height": 800,
        "legend": {
         "tracegroupgap": 0
        },
        "margin": {
         "t": 60
        },
        "template": {
         "data": {
          "bar": [
           {
            "error_x": {
             "color": "#2a3f5f"
            },
            "error_y": {
             "color": "#2a3f5f"
            },
            "marker": {
             "line": {
              "color": "#E5ECF6",
              "width": 0.5
             },
             "pattern": {
              "fillmode": "overlay",
              "size": 10,
              "solidity": 0.2
             }
            },
            "type": "bar"
           }
          ],
          "barpolar": [
           {
            "marker": {
             "line": {
              "color": "#E5ECF6",
              "width": 0.5
             },
             "pattern": {
              "fillmode": "overlay",
              "size": 10,
              "solidity": 0.2
             }
            },
            "type": "barpolar"
           }
          ],
          "carpet": [
           {
            "aaxis": {
             "endlinecolor": "#2a3f5f",
             "gridcolor": "white",
             "linecolor": "white",
             "minorgridcolor": "white",
             "startlinecolor": "#2a3f5f"
            },
            "baxis": {
             "endlinecolor": "#2a3f5f",
             "gridcolor": "white",
             "linecolor": "white",
             "minorgridcolor": "white",
             "startlinecolor": "#2a3f5f"
            },
            "type": "carpet"
           }
          ],
          "choropleth": [
           {
            "colorbar": {
             "outlinewidth": 0,
             "ticks": ""
            },
            "type": "choropleth"
           }
          ],
          "contour": [
           {
            "colorbar": {
             "outlinewidth": 0,
             "ticks": ""
            },
            "colorscale": [
             [
              0,
              "#0d0887"
             ],
             [
              0.1111111111111111,
              "#46039f"
             ],
             [
              0.2222222222222222,
              "#7201a8"
             ],
             [
              0.3333333333333333,
              "#9c179e"
             ],
             [
              0.4444444444444444,
              "#bd3786"
             ],
             [
              0.5555555555555556,
              "#d8576b"
             ],
             [
              0.6666666666666666,
              "#ed7953"
             ],
             [
              0.7777777777777778,
              "#fb9f3a"
             ],
             [
              0.8888888888888888,
              "#fdca26"
             ],
             [
              1,
              "#f0f921"
             ]
            ],
            "type": "contour"
           }
          ],
          "contourcarpet": [
           {
            "colorbar": {
             "outlinewidth": 0,
             "ticks": ""
            },
            "type": "contourcarpet"
           }
          ],
          "heatmap": [
           {
            "colorbar": {
             "outlinewidth": 0,
             "ticks": ""
            },
            "colorscale": [
             [
              0,
              "#0d0887"
             ],
             [
              0.1111111111111111,
              "#46039f"
             ],
             [
              0.2222222222222222,
              "#7201a8"
             ],
             [
              0.3333333333333333,
              "#9c179e"
             ],
             [
              0.4444444444444444,
              "#bd3786"
             ],
             [
              0.5555555555555556,
              "#d8576b"
             ],
             [
              0.6666666666666666,
              "#ed7953"
             ],
             [
              0.7777777777777778,
              "#fb9f3a"
             ],
             [
              0.8888888888888888,
              "#fdca26"
             ],
             [
              1,
              "#f0f921"
             ]
            ],
            "type": "heatmap"
           }
          ],
          "heatmapgl": [
           {
            "colorbar": {
             "outlinewidth": 0,
             "ticks": ""
            },
            "colorscale": [
             [
              0,
              "#0d0887"
             ],
             [
              0.1111111111111111,
              "#46039f"
             ],
             [
              0.2222222222222222,
              "#7201a8"
             ],
             [
              0.3333333333333333,
              "#9c179e"
             ],
             [
              0.4444444444444444,
              "#bd3786"
             ],
             [
              0.5555555555555556,
              "#d8576b"
             ],
             [
              0.6666666666666666,
              "#ed7953"
             ],
             [
              0.7777777777777778,
              "#fb9f3a"
             ],
             [
              0.8888888888888888,
              "#fdca26"
             ],
             [
              1,
              "#f0f921"
             ]
            ],
            "type": "heatmapgl"
           }
          ],
          "histogram": [
           {
            "marker": {
             "pattern": {
              "fillmode": "overlay",
              "size": 10,
              "solidity": 0.2
             }
            },
            "type": "histogram"
           }
          ],
          "histogram2d": [
           {
            "colorbar": {
             "outlinewidth": 0,
             "ticks": ""
            },
            "colorscale": [
             [
              0,
              "#0d0887"
             ],
             [
              0.1111111111111111,
              "#46039f"
             ],
             [
              0.2222222222222222,
              "#7201a8"
             ],
             [
              0.3333333333333333,
              "#9c179e"
             ],
             [
              0.4444444444444444,
              "#bd3786"
             ],
             [
              0.5555555555555556,
              "#d8576b"
             ],
             [
              0.6666666666666666,
              "#ed7953"
             ],
             [
              0.7777777777777778,
              "#fb9f3a"
             ],
             [
              0.8888888888888888,
              "#fdca26"
             ],
             [
              1,
              "#f0f921"
             ]
            ],
            "type": "histogram2d"
           }
          ],
          "histogram2dcontour": [
           {
            "colorbar": {
             "outlinewidth": 0,
             "ticks": ""
            },
            "colorscale": [
             [
              0,
              "#0d0887"
             ],
             [
              0.1111111111111111,
              "#46039f"
             ],
             [
              0.2222222222222222,
              "#7201a8"
             ],
             [
              0.3333333333333333,
              "#9c179e"
             ],
             [
              0.4444444444444444,
              "#bd3786"
             ],
             [
              0.5555555555555556,
              "#d8576b"
             ],
             [
              0.6666666666666666,
              "#ed7953"
             ],
             [
              0.7777777777777778,
              "#fb9f3a"
             ],
             [
              0.8888888888888888,
              "#fdca26"
             ],
             [
              1,
              "#f0f921"
             ]
            ],
            "type": "histogram2dcontour"
           }
          ],
          "mesh3d": [
           {
            "colorbar": {
             "outlinewidth": 0,
             "ticks": ""
            },
            "type": "mesh3d"
           }
          ],
          "parcoords": [
           {
            "line": {
             "colorbar": {
              "outlinewidth": 0,
              "ticks": ""
             }
            },
            "type": "parcoords"
           }
          ],
          "pie": [
           {
            "automargin": true,
            "type": "pie"
           }
          ],
          "scatter": [
           {
            "fillpattern": {
             "fillmode": "overlay",
             "size": 10,
             "solidity": 0.2
            },
            "type": "scatter"
           }
          ],
          "scatter3d": [
           {
            "line": {
             "colorbar": {
              "outlinewidth": 0,
              "ticks": ""
             }
            },
            "marker": {
             "colorbar": {
              "outlinewidth": 0,
              "ticks": ""
             }
            },
            "type": "scatter3d"
           }
          ],
          "scattercarpet": [
           {
            "marker": {
             "colorbar": {
              "outlinewidth": 0,
              "ticks": ""
             }
            },
            "type": "scattercarpet"
           }
          ],
          "scattergeo": [
           {
            "marker": {
             "colorbar": {
              "outlinewidth": 0,
              "ticks": ""
             }
            },
            "type": "scattergeo"
           }
          ],
          "scattergl": [
           {
            "marker": {
             "colorbar": {
              "outlinewidth": 0,
              "ticks": ""
             }
            },
            "type": "scattergl"
           }
          ],
          "scattermapbox": [
           {
            "marker": {
             "colorbar": {
              "outlinewidth": 0,
              "ticks": ""
             }
            },
            "type": "scattermapbox"
           }
          ],
          "scatterpolar": [
           {
            "marker": {
             "colorbar": {
              "outlinewidth": 0,
              "ticks": ""
             }
            },
            "type": "scatterpolar"
           }
          ],
          "scatterpolargl": [
           {
            "marker": {
             "colorbar": {
              "outlinewidth": 0,
              "ticks": ""
             }
            },
            "type": "scatterpolargl"
           }
          ],
          "scatterternary": [
           {
            "marker": {
             "colorbar": {
              "outlinewidth": 0,
              "ticks": ""
             }
            },
            "type": "scatterternary"
           }
          ],
          "surface": [
           {
            "colorbar": {
             "outlinewidth": 0,
             "ticks": ""
            },
            "colorscale": [
             [
              0,
              "#0d0887"
             ],
             [
              0.1111111111111111,
              "#46039f"
             ],
             [
              0.2222222222222222,
              "#7201a8"
             ],
             [
              0.3333333333333333,
              "#9c179e"
             ],
             [
              0.4444444444444444,
              "#bd3786"
             ],
             [
              0.5555555555555556,
              "#d8576b"
             ],
             [
              0.6666666666666666,
              "#ed7953"
             ],
             [
              0.7777777777777778,
              "#fb9f3a"
             ],
             [
              0.8888888888888888,
              "#fdca26"
             ],
             [
              1,
              "#f0f921"
             ]
            ],
            "type": "surface"
           }
          ],
          "table": [
           {
            "cells": {
             "fill": {
              "color": "#EBF0F8"
             },
             "line": {
              "color": "white"
             }
            },
            "header": {
             "fill": {
              "color": "#C8D4E3"
             },
             "line": {
              "color": "white"
             }
            },
            "type": "table"
           }
          ]
         },
         "layout": {
          "annotationdefaults": {
           "arrowcolor": "#2a3f5f",
           "arrowhead": 0,
           "arrowwidth": 1
          },
          "autotypenumbers": "strict",
          "coloraxis": {
           "colorbar": {
            "outlinewidth": 0,
            "ticks": ""
           }
          },
          "colorscale": {
           "diverging": [
            [
             0,
             "#8e0152"
            ],
            [
             0.1,
             "#c51b7d"
            ],
            [
             0.2,
             "#de77ae"
            ],
            [
             0.3,
             "#f1b6da"
            ],
            [
             0.4,
             "#fde0ef"
            ],
            [
             0.5,
             "#f7f7f7"
            ],
            [
             0.6,
             "#e6f5d0"
            ],
            [
             0.7,
             "#b8e186"
            ],
            [
             0.8,
             "#7fbc41"
            ],
            [
             0.9,
             "#4d9221"
            ],
            [
             1,
             "#276419"
            ]
           ],
           "sequential": [
            [
             0,
             "#0d0887"
            ],
            [
             0.1111111111111111,
             "#46039f"
            ],
            [
             0.2222222222222222,
             "#7201a8"
            ],
            [
             0.3333333333333333,
             "#9c179e"
            ],
            [
             0.4444444444444444,
             "#bd3786"
            ],
            [
             0.5555555555555556,
             "#d8576b"
            ],
            [
             0.6666666666666666,
             "#ed7953"
            ],
            [
             0.7777777777777778,
             "#fb9f3a"
            ],
            [
             0.8888888888888888,
             "#fdca26"
            ],
            [
             1,
             "#f0f921"
            ]
           ],
           "sequentialminus": [
            [
             0,
             "#0d0887"
            ],
            [
             0.1111111111111111,
             "#46039f"
            ],
            [
             0.2222222222222222,
             "#7201a8"
            ],
            [
             0.3333333333333333,
             "#9c179e"
            ],
            [
             0.4444444444444444,
             "#bd3786"
            ],
            [
             0.5555555555555556,
             "#d8576b"
            ],
            [
             0.6666666666666666,
             "#ed7953"
            ],
            [
             0.7777777777777778,
             "#fb9f3a"
            ],
            [
             0.8888888888888888,
             "#fdca26"
            ],
            [
             1,
             "#f0f921"
            ]
           ]
          },
          "colorway": [
           "#636efa",
           "#EF553B",
           "#00cc96",
           "#ab63fa",
           "#FFA15A",
           "#19d3f3",
           "#FF6692",
           "#B6E880",
           "#FF97FF",
           "#FECB52"
          ],
          "font": {
           "color": "#2a3f5f"
          },
          "geo": {
           "bgcolor": "white",
           "lakecolor": "white",
           "landcolor": "#E5ECF6",
           "showlakes": true,
           "showland": true,
           "subunitcolor": "white"
          },
          "hoverlabel": {
           "align": "left"
          },
          "hovermode": "closest",
          "mapbox": {
           "style": "light"
          },
          "paper_bgcolor": "white",
          "plot_bgcolor": "#E5ECF6",
          "polar": {
           "angularaxis": {
            "gridcolor": "white",
            "linecolor": "white",
            "ticks": ""
           },
           "bgcolor": "#E5ECF6",
           "radialaxis": {
            "gridcolor": "white",
            "linecolor": "white",
            "ticks": ""
           }
          },
          "scene": {
           "xaxis": {
            "backgroundcolor": "#E5ECF6",
            "gridcolor": "white",
            "gridwidth": 2,
            "linecolor": "white",
            "showbackground": true,
            "ticks": "",
            "zerolinecolor": "white"
           },
           "yaxis": {
            "backgroundcolor": "#E5ECF6",
            "gridcolor": "white",
            "gridwidth": 2,
            "linecolor": "white",
            "showbackground": true,
            "ticks": "",
            "zerolinecolor": "white"
           },
           "zaxis": {
            "backgroundcolor": "#E5ECF6",
            "gridcolor": "white",
            "gridwidth": 2,
            "linecolor": "white",
            "showbackground": true,
            "ticks": "",
            "zerolinecolor": "white"
           }
          },
          "shapedefaults": {
           "line": {
            "color": "#2a3f5f"
           }
          },
          "ternary": {
           "aaxis": {
            "gridcolor": "white",
            "linecolor": "white",
            "ticks": ""
           },
           "baxis": {
            "gridcolor": "white",
            "linecolor": "white",
            "ticks": ""
           },
           "bgcolor": "#E5ECF6",
           "caxis": {
            "gridcolor": "white",
            "linecolor": "white",
            "ticks": ""
           }
          },
          "title": {
           "x": 0.05
          },
          "xaxis": {
           "automargin": true,
           "gridcolor": "white",
           "linecolor": "white",
           "ticks": "",
           "title": {
            "standoff": 15
           },
           "zerolinecolor": "white",
           "zerolinewidth": 2
          },
          "yaxis": {
           "automargin": true,
           "gridcolor": "white",
           "linecolor": "white",
           "ticks": "",
           "title": {
            "standoff": 15
           },
           "zerolinecolor": "white",
           "zerolinewidth": 2
          }
         }
        },
        "width": 1280
       }
      }
     },
     "metadata": {},
     "output_type": "display_data"
    }
   ],
   "source": [
    "fig = px.treemap(gr_cat, width=1280, height=800,\n",
    "                 path=['continent', 'market'], values='size',\n",
    "                 color='continent')\n",
    "fig.update_traces(textinfo=\"label+percent parent\")\n",
    "fig.show()"
   ]
  },
  {
   "cell_type": "markdown",
   "metadata": {},
   "source": [
    "Locations\n",
    "As a warm-up, let’s group data by location and get the top 10 visitor markets"
   ]
  },
  {
   "cell_type": "code",
   "execution_count": 17,
   "metadata": {},
   "outputs": [
    {
     "data": {
      "text/html": [
       "<div>\n",
       "<style scoped>\n",
       "    .dataframe tbody tr th:only-of-type {\n",
       "        vertical-align: middle;\n",
       "    }\n",
       "\n",
       "    .dataframe tbody tr th {\n",
       "        vertical-align: top;\n",
       "    }\n",
       "\n",
       "    .dataframe thead th {\n",
       "        text-align: right;\n",
       "    }\n",
       "</style>\n",
       "<table border=\"1\" class=\"dataframe\">\n",
       "  <thead>\n",
       "    <tr style=\"text-align: right;\">\n",
       "      <th></th>\n",
       "      <th>market</th>\n",
       "      <th>size</th>\n",
       "    </tr>\n",
       "  </thead>\n",
       "  <tbody>\n",
       "    <tr>\n",
       "      <th>14</th>\n",
       "      <td>France</td>\n",
       "      <td>2611</td>\n",
       "    </tr>\n",
       "    <tr>\n",
       "      <th>60</th>\n",
       "      <td>USA</td>\n",
       "      <td>2498</td>\n",
       "    </tr>\n",
       "    <tr>\n",
       "      <th>15</th>\n",
       "      <td>Germany</td>\n",
       "      <td>2206</td>\n",
       "    </tr>\n",
       "    <tr>\n",
       "      <th>31</th>\n",
       "      <td>Netherlands</td>\n",
       "      <td>1957</td>\n",
       "    </tr>\n",
       "    <tr>\n",
       "      <th>1</th>\n",
       "      <td>Australia</td>\n",
       "      <td>1943</td>\n",
       "    </tr>\n",
       "    <tr>\n",
       "      <th>7</th>\n",
       "      <td>Canada</td>\n",
       "      <td>1573</td>\n",
       "    </tr>\n",
       "    <tr>\n",
       "      <th>4</th>\n",
       "      <td>Belgium</td>\n",
       "      <td>1485</td>\n",
       "    </tr>\n",
       "    <tr>\n",
       "      <th>54</th>\n",
       "      <td>Spain</td>\n",
       "      <td>1468</td>\n",
       "    </tr>\n",
       "    <tr>\n",
       "      <th>44</th>\n",
       "      <td>Poland</td>\n",
       "      <td>1461</td>\n",
       "    </tr>\n",
       "    <tr>\n",
       "      <th>24</th>\n",
       "      <td>Italy</td>\n",
       "      <td>1426</td>\n",
       "    </tr>\n",
       "  </tbody>\n",
       "</table>\n",
       "</div>"
      ],
      "text/plain": [
       "         market  size\n",
       "14       France  2611\n",
       "60          USA  2498\n",
       "15      Germany  2206\n",
       "31  Netherlands  1957\n",
       "1     Australia  1943\n",
       "7        Canada  1573\n",
       "4       Belgium  1485\n",
       "54        Spain  1468\n",
       "44       Poland  1461\n",
       "24        Italy  1426"
      ]
     },
     "metadata": {},
     "output_type": "display_data"
    }
   ],
   "source": [
    "gr_location = df[[\"market\"]].groupby(['market'], as_index=False).size().sort_values(by=\"size\", ascending=False)\n",
    "display(gr_location[:10])"
   ]
  },
  {
   "cell_type": "markdown",
   "metadata": {},
   "source": [
    "I will use a Python geopy library to get the coordinates:"
   ]
  },
  {
   "cell_type": "code",
   "execution_count": 21,
   "metadata": {},
   "outputs": [
    {
     "data": {
      "text/html": [
       "<div>\n",
       "<style scoped>\n",
       "    .dataframe tbody tr th:only-of-type {\n",
       "        vertical-align: middle;\n",
       "    }\n",
       "\n",
       "    .dataframe tbody tr th {\n",
       "        vertical-align: top;\n",
       "    }\n",
       "\n",
       "    .dataframe thead th {\n",
       "        text-align: right;\n",
       "    }\n",
       "</style>\n",
       "<table border=\"1\" class=\"dataframe\">\n",
       "  <thead>\n",
       "    <tr style=\"text-align: right;\">\n",
       "      <th></th>\n",
       "      <th>year</th>\n",
       "      <th>quarter</th>\n",
       "      <th>market</th>\n",
       "      <th>dur_stay</th>\n",
       "      <th>mode</th>\n",
       "      <th>purpose</th>\n",
       "      <th>area</th>\n",
       "      <th>Visits (000s)</th>\n",
       "      <th>Spend_£m</th>\n",
       "      <th>Nights</th>\n",
       "      <th>sample</th>\n",
       "      <th>continent</th>\n",
       "      <th>latitude</th>\n",
       "      <th>longitude</th>\n",
       "    </tr>\n",
       "  </thead>\n",
       "  <tbody>\n",
       "    <tr>\n",
       "      <th>0</th>\n",
       "      <td>2002</td>\n",
       "      <td>January-March</td>\n",
       "      <td>Belgium</td>\n",
       "      <td>1-3  nights</td>\n",
       "      <td>Air</td>\n",
       "      <td>Holiday</td>\n",
       "      <td>LONDON</td>\n",
       "      <td>3.572186</td>\n",
       "      <td>0.969138</td>\n",
       "      <td>6.954456</td>\n",
       "      <td>5</td>\n",
       "      <td>Europe</td>\n",
       "      <td>50.640281</td>\n",
       "      <td>4.666715</td>\n",
       "    </tr>\n",
       "    <tr>\n",
       "      <th>1</th>\n",
       "      <td>2002</td>\n",
       "      <td>January-March</td>\n",
       "      <td>Belgium</td>\n",
       "      <td>1-3  nights</td>\n",
       "      <td>Air</td>\n",
       "      <td>Business</td>\n",
       "      <td>LONDON</td>\n",
       "      <td>9.284226</td>\n",
       "      <td>2.399577</td>\n",
       "      <td>12.604959</td>\n",
       "      <td>19</td>\n",
       "      <td>Europe</td>\n",
       "      <td>50.640281</td>\n",
       "      <td>4.666715</td>\n",
       "    </tr>\n",
       "    <tr>\n",
       "      <th>2</th>\n",
       "      <td>2002</td>\n",
       "      <td>January-March</td>\n",
       "      <td>Belgium</td>\n",
       "      <td>1-3  nights</td>\n",
       "      <td>Air</td>\n",
       "      <td>VFR</td>\n",
       "      <td>LONDON</td>\n",
       "      <td>0.877182</td>\n",
       "      <td>0.089833</td>\n",
       "      <td>2.153128</td>\n",
       "      <td>3</td>\n",
       "      <td>Europe</td>\n",
       "      <td>50.640281</td>\n",
       "      <td>4.666715</td>\n",
       "    </tr>\n",
       "    <tr>\n",
       "      <th>3</th>\n",
       "      <td>2002</td>\n",
       "      <td>January-March</td>\n",
       "      <td>Belgium</td>\n",
       "      <td>1-3  nights</td>\n",
       "      <td>Air</td>\n",
       "      <td>Miscellaneous</td>\n",
       "      <td>LONDON</td>\n",
       "      <td>0.163874</td>\n",
       "      <td>0.010160</td>\n",
       "      <td>0.163874</td>\n",
       "      <td>1</td>\n",
       "      <td>Europe</td>\n",
       "      <td>50.640281</td>\n",
       "      <td>4.666715</td>\n",
       "    </tr>\n",
       "    <tr>\n",
       "      <th>4</th>\n",
       "      <td>2002</td>\n",
       "      <td>January-March</td>\n",
       "      <td>Belgium</td>\n",
       "      <td>1-3  nights</td>\n",
       "      <td>Sea</td>\n",
       "      <td>Business</td>\n",
       "      <td>LONDON</td>\n",
       "      <td>1.648670</td>\n",
       "      <td>0.016789</td>\n",
       "      <td>1.650300</td>\n",
       "      <td>1</td>\n",
       "      <td>Europe</td>\n",
       "      <td>50.640281</td>\n",
       "      <td>4.666715</td>\n",
       "    </tr>\n",
       "  </tbody>\n",
       "</table>\n",
       "</div>"
      ],
      "text/plain": [
       "   year        quarter   market     dur_stay mode        purpose     area  \\\n",
       "0  2002  January-March  Belgium  1-3  nights  Air        Holiday   LONDON   \n",
       "1  2002  January-March  Belgium  1-3  nights  Air       Business   LONDON   \n",
       "2  2002  January-March  Belgium  1-3  nights  Air            VFR   LONDON   \n",
       "3  2002  January-March  Belgium  1-3  nights  Air  Miscellaneous   LONDON   \n",
       "4  2002  January-March  Belgium  1-3  nights  Sea       Business   LONDON   \n",
       "\n",
       "   Visits (000s)  Spend_£m     Nights  sample continent   latitude  longitude  \n",
       "0       3.572186  0.969138   6.954456       5    Europe  50.640281   4.666715  \n",
       "1       9.284226  2.399577  12.604959      19    Europe  50.640281   4.666715  \n",
       "2       0.877182  0.089833   2.153128       3    Europe  50.640281   4.666715  \n",
       "3       0.163874  0.010160   0.163874       1    Europe  50.640281   4.666715  \n",
       "4       1.648670  0.016789   1.650300       1    Europe  50.640281   4.666715  "
      ]
     },
     "metadata": {},
     "output_type": "display_data"
    }
   ],
   "source": [
    "from geopy.geocoders import Nominatim\n",
    "from typing import Tuple\n",
    "from functools import lru_cache\n",
    "\n",
    "geolocator = Nominatim(user_agent=\"Python3.12\")\n",
    "\n",
    "@lru_cache(maxsize=None)\n",
    "def get_coord_lat_lon(country_name: str) -> Tuple[float, float]:\n",
    "    \"\"\" Get coordinates for country \"\"\"\n",
    "    location = geolocator.geocode(country_name)\n",
    "    return (location.latitude, location.longitude) if location else (None, None)\n",
    "\n",
    "# Create empty lists to store latitude and longitude\n",
    "latitudes = []\n",
    "longitudes = []\n",
    "\n",
    "# Iterate over each row in the DataFrame\n",
    "for index, row in df.iterrows():\n",
    "    country_name = row['market']\n",
    "    lat, lon = get_coord_lat_lon(country_name)\n",
    "    if lat is not None and lon is not None:\n",
    "        latitudes.append(lat)\n",
    "        longitudes.append(lon)\n",
    "    else:\n",
    "        latitudes.append(None)\n",
    "        longitudes.append(None)\n",
    "\n",
    "# Add latitude and longitude columns to the DataFrame\n",
    "df['latitude'] = latitudes\n",
    "df['longitude'] = longitudes\n",
    "\n",
    "# Display the DataFrame with latitude and longitude columns\n",
    "display(df.head())"
   ]
  },
  {
   "cell_type": "markdown",
   "metadata": {},
   "source": [
    "Here, I used the lru_cache decorator, which may be helpful if I want to run the code several times; the data will be taken from the cache instead of a new API call. I also used a tqdm Python library that allows me to see a progress bar during the processing—it’s useful because the process takes several minutes:"
   ]
  },
  {
   "cell_type": "code",
   "execution_count": 32,
   "metadata": {},
   "outputs": [
    {
     "name": "stderr",
     "output_type": "stream",
     "text": [
      "100%|██████████| 62/62 [00:00<00:00, 67334.76it/s]\n"
     ]
    },
    {
     "data": {
      "text/html": [
       "<div>\n",
       "<style scoped>\n",
       "    .dataframe tbody tr th:only-of-type {\n",
       "        vertical-align: middle;\n",
       "    }\n",
       "\n",
       "    .dataframe tbody tr th {\n",
       "        vertical-align: top;\n",
       "    }\n",
       "\n",
       "    .dataframe thead th {\n",
       "        text-align: right;\n",
       "    }\n",
       "</style>\n",
       "<table border=\"1\" class=\"dataframe\">\n",
       "  <thead>\n",
       "    <tr style=\"text-align: right;\">\n",
       "      <th></th>\n",
       "      <th>market</th>\n",
       "      <th>size</th>\n",
       "      <th>Coordinates</th>\n",
       "    </tr>\n",
       "  </thead>\n",
       "  <tbody>\n",
       "    <tr>\n",
       "      <th>14</th>\n",
       "      <td>France</td>\n",
       "      <td>2611</td>\n",
       "      <td>(46.603354, 1.8883335)</td>\n",
       "    </tr>\n",
       "    <tr>\n",
       "      <th>60</th>\n",
       "      <td>USA</td>\n",
       "      <td>2498</td>\n",
       "      <td>(39.7837304, -100.445882)</td>\n",
       "    </tr>\n",
       "    <tr>\n",
       "      <th>15</th>\n",
       "      <td>Germany</td>\n",
       "      <td>2206</td>\n",
       "      <td>(51.1638175, 10.4478313)</td>\n",
       "    </tr>\n",
       "    <tr>\n",
       "      <th>31</th>\n",
       "      <td>Netherlands</td>\n",
       "      <td>1957</td>\n",
       "      <td>(52.2434979, 5.6343227)</td>\n",
       "    </tr>\n",
       "    <tr>\n",
       "      <th>1</th>\n",
       "      <td>Australia</td>\n",
       "      <td>1943</td>\n",
       "      <td>(-24.7761086, 134.755)</td>\n",
       "    </tr>\n",
       "    <tr>\n",
       "      <th>...</th>\n",
       "      <td>...</td>\n",
       "      <td>...</td>\n",
       "      <td>...</td>\n",
       "    </tr>\n",
       "    <tr>\n",
       "      <th>3</th>\n",
       "      <td>Bahrain</td>\n",
       "      <td>268</td>\n",
       "      <td>(26.1551249, 50.5344606)</td>\n",
       "    </tr>\n",
       "    <tr>\n",
       "      <th>21</th>\n",
       "      <td>Indonesia</td>\n",
       "      <td>254</td>\n",
       "      <td>(-2.4833826, 117.8902853)</td>\n",
       "    </tr>\n",
       "    <tr>\n",
       "      <th>8</th>\n",
       "      <td>Chile</td>\n",
       "      <td>242</td>\n",
       "      <td>(-31.7613365, -71.3187697)</td>\n",
       "    </tr>\n",
       "    <tr>\n",
       "      <th>35</th>\n",
       "      <td>Oman</td>\n",
       "      <td>219</td>\n",
       "      <td>(21.0000287, 57.0036901)</td>\n",
       "    </tr>\n",
       "    <tr>\n",
       "      <th>50</th>\n",
       "      <td>Serbia</td>\n",
       "      <td>171</td>\n",
       "      <td>(44.024322850000004, 21.07657433209902)</td>\n",
       "    </tr>\n",
       "  </tbody>\n",
       "</table>\n",
       "<p>62 rows × 3 columns</p>\n",
       "</div>"
      ],
      "text/plain": [
       "         market  size                              Coordinates\n",
       "14       France  2611                   (46.603354, 1.8883335)\n",
       "60          USA  2498                (39.7837304, -100.445882)\n",
       "15      Germany  2206                 (51.1638175, 10.4478313)\n",
       "31  Netherlands  1957                  (52.2434979, 5.6343227)\n",
       "1     Australia  1943                   (-24.7761086, 134.755)\n",
       "..          ...   ...                                      ...\n",
       "3       Bahrain   268                 (26.1551249, 50.5344606)\n",
       "21    Indonesia   254                (-2.4833826, 117.8902853)\n",
       "8         Chile   242               (-31.7613365, -71.3187697)\n",
       "35         Oman   219                 (21.0000287, 57.0036901)\n",
       "50       Serbia   171  (44.024322850000004, 21.07657433209902)\n",
       "\n",
       "[62 rows x 3 columns]"
      ]
     },
     "metadata": {},
     "output_type": "display_data"
    }
   ],
   "source": [
    "from tqdm import tqdm\n",
    "tqdm.pandas()\n",
    "\n",
    "gr_location[\"Coordinates\"] = gr_location[\"market\"].progress_map(get_coord_lat_lon)\n",
    "display(gr_location)"
   ]
  },
  {
   "cell_type": "code",
   "execution_count": 3,
   "metadata": {},
   "outputs": [
    {
     "ename": "NameError",
     "evalue": "name 'df' is not defined",
     "output_type": "error",
     "traceback": [
      "\u001b[0;31m---------------------------------------------------------------------------\u001b[0m",
      "\u001b[0;31mNameError\u001b[0m                                 Traceback (most recent call last)",
      "Cell \u001b[0;32mIn[3], line 11\u001b[0m\n\u001b[1;32m      8\u001b[0m fmap \u001b[38;5;241m=\u001b[39m folium\u001b[38;5;241m.\u001b[39mMap(location\u001b[38;5;241m=\u001b[39m[\u001b[38;5;241m0\u001b[39m, \u001b[38;5;241m0\u001b[39m], tiles\u001b[38;5;241m=\u001b[39m\u001b[38;5;124m\"\u001b[39m\u001b[38;5;124mopenstreetmap\u001b[39m\u001b[38;5;124m\"\u001b[39m, zoom_start\u001b[38;5;241m=\u001b[39m\u001b[38;5;241m2\u001b[39m)\n\u001b[1;32m     10\u001b[0m \u001b[38;5;66;03m# Filter out rows with NaN latitude or longitude\u001b[39;00m\n\u001b[0;32m---> 11\u001b[0m df_filtered \u001b[38;5;241m=\u001b[39m \u001b[43mdf\u001b[49m\u001b[38;5;241m.\u001b[39mdropna(subset\u001b[38;5;241m=\u001b[39m[\u001b[38;5;124m'\u001b[39m\u001b[38;5;124mlatitude\u001b[39m\u001b[38;5;124m'\u001b[39m, \u001b[38;5;124m'\u001b[39m\u001b[38;5;124mlongitude\u001b[39m\u001b[38;5;124m'\u001b[39m])\n\u001b[1;32m     13\u001b[0m \u001b[38;5;66;03m# Iterate over each row in the filtered DataFrame\u001b[39;00m\n\u001b[1;32m     14\u001b[0m \u001b[38;5;28;01mfor\u001b[39;00m index, row \u001b[38;5;129;01min\u001b[39;00m df_filtered\u001b[38;5;241m.\u001b[39miterrows():\n",
      "\u001b[0;31mNameError\u001b[0m: name 'df' is not defined"
     ]
    }
   ],
   "source": [
    "import folium\n",
    "from branca.element import Figure\n",
    "\n",
    "# Create a Figure object\n",
    "fig = Figure(width=1024, height=600)\n",
    "\n",
    "# Create a Folium Map object covering the whole world\n",
    "fmap = folium.Map(location=[0, 0], tiles=\"openstreetmap\", zoom_start=2)\n",
    "\n",
    "# Filter out rows with NaN latitude or longitude\n",
    "df_filtered = df.dropna(subset=['latitude', 'longitude'])\n",
    "\n",
    "# Iterate over each row in the filtered DataFrame\n",
    "for index, row in df_filtered.iterrows():\n",
    "    latitude, longitude = row['latitude'], row['longitude']\n",
    "    name = row[\"market\"]  # Assuming the market name is in the \"market\" column\n",
    "    # Add marker to the map\n",
    "    folium.Marker(location=[latitude, longitude], popup=name).add_to(fmap)\n",
    "\n",
    "# Add the Folium Map object to the Figure\n",
    "fig.add_child(fmap)\n",
    "\n",
    "# Display the Figure\n",
    "display(fig)\n"
   ]
  },
  {
   "cell_type": "code",
   "execution_count": null,
   "metadata": {},
   "outputs": [],
   "source": [
    "def value_to_color(value: int) -> str:\n",
    "    \"\"\" Convert value to the HTML color \"\"\"\n",
    "    norm = matplotlib.colors.Normalize(vmin=0, vmax=255, clip=True)\n",
    "    mapper = colormap.ScalarMappable(norm=norm, cmap=colormap.inferno)\n",
    "    r, g, b, _ = mapper.to_rgba(value, alpha=None, bytes=True)\n",
    "    return \"#\" + f\"{(r << 16) + (g << 8) + b:#08x}\"[2:]\n",
    "\n",
    "\n",
    "def add_to_map(fmap: folium.Map, name: str,\n",
    "               location: Tuple[float, float],\n",
    "               value: int):\n",
    "    \"\"\" Add point to the map \"\"\"\n",
    "    color_str = value_to_color(value)\n",
    "    folium.Circle(\n",
    "        location=location,\n",
    "        radius=10*value//2,\n",
    "        popup = name + \": \" + str(value),\n",
    "        color=color_str,\n",
    "        fill=True,\n",
    "        fill_color=color_str\n",
    "    ).add_to(fmap)"
   ]
  },
  {
   "cell_type": "code",
   "execution_count": null,
   "metadata": {},
   "outputs": [],
   "source": [
    "\"\"\" import pandas as pd\n",
    "from tqdm import tqdm\n",
    "import numpy as np  # Import numpy for handling NaN values\n",
    "import pycountry_convert as pc\n",
    "\n",
    "# Function to get continent name from country name\n",
    "def get_continent(country_name: str) -> str:\n",
    "    try:\n",
    "        # Convert country name to ISO-2 country code\n",
    "        country_code = pc.country_name_to_country_alpha2(country_name, cn_name_format=\"default\")\n",
    "        # Convert ISO-2 country code to continent code\n",
    "        continent_code = pc.country_alpha2_to_continent_code(country_code)\n",
    "        # Convert continent code to continent name\n",
    "        continent_name = pc.convert_continent_code_to_continent_name(continent_code)\n",
    "    except Exception as e:\n",
    "        print(f\"Error fetching continent for {country_name}: {e}\")\n",
    "        continent_name = 'Unknown'\n",
    "    return continent_name\n",
    "\n",
    "# Define the chunk size\n",
    "chunksize = 200\n",
    "\n",
    "# Initialize list to hold processed chunks\n",
    "processed_chunks = []\n",
    "\n",
    "# Iterate over each chunk of the DataFrame with tqdm\n",
    "for i, chunk in enumerate(tqdm(pd.read_csv('/kaggle/input/geodata-for-exercises/cities_world.tsv', sep='\\t', chunksize=chunksize), desc=\"Processing chunks\")):\n",
    "    # Replace NaN values with 'Unknown' for City and Country\n",
    "    chunk['City'].fillna('Unknown', inplace=True)\n",
    "    chunk['Country'].fillna('Unknown', inplace=True)\n",
    "    \n",
    "    # Initialize tqdm progress bar for the chunk\n",
    "    progress_bar_chunk = tqdm(total=len(chunk), desc=f\"Chunk {i}\", position=0, leave=True)\n",
    "    \n",
    "    # Add a new column for continent\n",
    "    chunk['Continent'] = 'Unknown'\n",
    "    \n",
    "    # Process each row in the chunk\n",
    "    for index, row in chunk.iterrows():\n",
    "        country = row['Country']\n",
    "        \n",
    "        if country != 'Unknown':\n",
    "            continent = get_continent(country)\n",
    "            print(f\"Country: {country}, Continent: {continent}\")  # Debug statement\n",
    "            # Add location information to the DataFrame\n",
    "            chunk.at[index, 'Continent'] = continent\n",
    "        \n",
    "        # Update the tqdm progress bar\n",
    "        progress_bar_chunk.update(1)\n",
    "    \n",
    "    # Close the tqdm progress bar for the chunk\n",
    "    progress_bar_chunk.close()\n",
    "    \n",
    "    # Append the processed chunk to the list\n",
    "    processed_chunks.append(chunk)\n",
    "\n",
    "# Concatenate all processed chunks into a single DataFrame\n",
    "df = pd.concat(processed_chunks, ignore_index=True)\n",
    "\n",
    "# Display the first few rows of the final DataFrame\n",
    "print(df.head())\n",
    "\n",
    "# Optionally, save the final DataFrame to a CSV file\n",
    "df.to_csv('/kaggle/working/cities_world_with_continent.csv', index=False)\n",
    " \"\"\""
   ]
  }
 ],
 "metadata": {
  "kernelspec": {
   "display_name": "myenv",
   "language": "python",
   "name": "python3"
  },
  "language_info": {
   "codemirror_mode": {
    "name": "ipython",
    "version": 3
   },
   "file_extension": ".py",
   "mimetype": "text/x-python",
   "name": "python",
   "nbconvert_exporter": "python",
   "pygments_lexer": "ipython3",
   "version": "3.12.3"
  }
 },
 "nbformat": 4,
 "nbformat_minor": 2
}
